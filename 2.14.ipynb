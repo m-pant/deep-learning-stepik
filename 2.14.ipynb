{
 "cells": [
  {
   "cell_type": "code",
   "execution_count": null,
   "id": "6fb0138a",
   "metadata": {},
   "outputs": [
    {
     "name": "stderr",
     "output_type": "stream",
     "text": [
      "<>:49: SyntaxWarning: invalid escape sequence '\\m'\n",
      "<>:49: SyntaxWarning: invalid escape sequence '\\m'\n",
      "C:\\Users\\pantu\\AppData\\Local\\Temp\\ipykernel_26028\\1011181285.py:49: SyntaxWarning: invalid escape sequence '\\m'\n",
      "  dataset_mnist = torchvision.datasets.MNIST(\"datasets\\mnist\", download=True, train=True, transform=transforms)\n"
     ]
    },
    {
     "name": "stdout",
     "output_type": "stream",
     "text": [
      "Using device: cuda\n"
     ]
    },
    {
     "name": "stderr",
     "output_type": "stream",
     "text": [
      "Epoch [1/20], loss_mean=0.322: 100%|██████████| 1313/1313 [00:06<00:00, 190.99it/s]\n"
     ]
    },
    {
     "name": "stdout",
     "output_type": "stream",
     "text": [
      "loss_mean = 0.322, Q_val = 0.242\n"
     ]
    },
    {
     "name": "stderr",
     "output_type": "stream",
     "text": [
      "Epoch [2/20], loss_mean=0.241: 100%|██████████| 1313/1313 [00:07<00:00, 177.17it/s]\n"
     ]
    },
    {
     "name": "stdout",
     "output_type": "stream",
     "text": [
      "loss_mean = 0.241, Q_val = 0.209\n"
     ]
    },
    {
     "name": "stderr",
     "output_type": "stream",
     "text": [
      "Epoch [3/20], loss_mean=0.225: 100%|██████████| 1313/1313 [00:08<00:00, 162.69it/s]\n"
     ]
    },
    {
     "name": "stdout",
     "output_type": "stream",
     "text": [
      "loss_mean = 0.225, Q_val = 0.238\n"
     ]
    },
    {
     "name": "stderr",
     "output_type": "stream",
     "text": [
      "Epoch [4/20], loss_mean=0.224: 100%|██████████| 1313/1313 [00:08<00:00, 160.91it/s]\n"
     ]
    },
    {
     "name": "stdout",
     "output_type": "stream",
     "text": [
      "loss_mean = 0.224, Q_val = 0.247\n"
     ]
    },
    {
     "name": "stderr",
     "output_type": "stream",
     "text": [
      "Epoch [5/20], loss_mean=0.226: 100%|██████████| 1313/1313 [00:08<00:00, 147.40it/s]\n"
     ]
    },
    {
     "name": "stdout",
     "output_type": "stream",
     "text": [
      "loss_mean = 0.226, Q_val = 0.201\n"
     ]
    },
    {
     "name": "stderr",
     "output_type": "stream",
     "text": [
      "Epoch [6/20], loss_mean=0.222: 100%|██████████| 1313/1313 [00:08<00:00, 148.67it/s]\n"
     ]
    },
    {
     "name": "stdout",
     "output_type": "stream",
     "text": [
      "loss_mean = 0.222, Q_val = 0.355\n"
     ]
    },
    {
     "name": "stderr",
     "output_type": "stream",
     "text": [
      "Epoch [7/20], loss_mean=0.225: 100%|██████████| 1313/1313 [00:07<00:00, 173.60it/s]\n"
     ]
    },
    {
     "name": "stdout",
     "output_type": "stream",
     "text": [
      "loss_mean = 0.225, Q_val = 0.205\n"
     ]
    },
    {
     "name": "stderr",
     "output_type": "stream",
     "text": [
      "Epoch [8/20], loss_mean=0.225: 100%|██████████| 1313/1313 [00:08<00:00, 148.81it/s]\n"
     ]
    },
    {
     "name": "stdout",
     "output_type": "stream",
     "text": [
      "loss_mean = 0.225, Q_val = 0.222\n"
     ]
    },
    {
     "name": "stderr",
     "output_type": "stream",
     "text": [
      "Epoch [9/20], loss_mean=0.222: 100%|██████████| 1313/1313 [00:08<00:00, 150.24it/s]\n"
     ]
    },
    {
     "name": "stdout",
     "output_type": "stream",
     "text": [
      "loss_mean = 0.222, Q_val = 0.194\n"
     ]
    },
    {
     "name": "stderr",
     "output_type": "stream",
     "text": [
      "Epoch [10/20], loss_mean=0.219: 100%|██████████| 1313/1313 [00:08<00:00, 149.04it/s]\n"
     ]
    },
    {
     "name": "stdout",
     "output_type": "stream",
     "text": [
      "loss_mean = 0.219, Q_val = 0.227\n"
     ]
    },
    {
     "name": "stderr",
     "output_type": "stream",
     "text": [
      "Epoch [11/20], loss_mean=0.220: 100%|██████████| 1313/1313 [00:08<00:00, 147.71it/s]\n"
     ]
    },
    {
     "name": "stdout",
     "output_type": "stream",
     "text": [
      "loss_mean = 0.220, Q_val = 0.289\n"
     ]
    },
    {
     "name": "stderr",
     "output_type": "stream",
     "text": [
      "Epoch [12/20], loss_mean=0.217: 100%|██████████| 1313/1313 [00:08<00:00, 148.22it/s]\n"
     ]
    },
    {
     "name": "stdout",
     "output_type": "stream",
     "text": [
      "loss_mean = 0.217, Q_val = 0.273\n"
     ]
    },
    {
     "name": "stderr",
     "output_type": "stream",
     "text": [
      "Epoch [13/20], loss_mean=0.221: 100%|██████████| 1313/1313 [00:08<00:00, 147.15it/s]\n"
     ]
    },
    {
     "name": "stdout",
     "output_type": "stream",
     "text": [
      "loss_mean = 0.221, Q_val = 0.245\n"
     ]
    },
    {
     "name": "stderr",
     "output_type": "stream",
     "text": [
      "Epoch [14/20], loss_mean=0.216: 100%|██████████| 1313/1313 [00:08<00:00, 146.98it/s]\n"
     ]
    },
    {
     "name": "stdout",
     "output_type": "stream",
     "text": [
      "loss_mean = 0.216, Q_val = 0.246\n"
     ]
    },
    {
     "name": "stderr",
     "output_type": "stream",
     "text": [
      "Epoch [15/20], loss_mean=0.216: 100%|██████████| 1313/1313 [00:08<00:00, 148.43it/s]\n"
     ]
    },
    {
     "name": "stdout",
     "output_type": "stream",
     "text": [
      "loss_mean = 0.216, Q_val = 0.209\n"
     ]
    },
    {
     "name": "stderr",
     "output_type": "stream",
     "text": [
      "Epoch [16/20], loss_mean=0.219: 100%|██████████| 1313/1313 [00:08<00:00, 148.34it/s]\n"
     ]
    },
    {
     "name": "stdout",
     "output_type": "stream",
     "text": [
      "loss_mean = 0.219, Q_val = 0.216\n"
     ]
    },
    {
     "name": "stderr",
     "output_type": "stream",
     "text": [
      "Epoch [17/20], loss_mean=0.214: 100%|██████████| 1313/1313 [00:08<00:00, 148.27it/s]\n"
     ]
    },
    {
     "name": "stdout",
     "output_type": "stream",
     "text": [
      "loss_mean = 0.214, Q_val = 0.227\n"
     ]
    },
    {
     "name": "stderr",
     "output_type": "stream",
     "text": [
      "Epoch [18/20], loss_mean=0.219: 100%|██████████| 1313/1313 [00:08<00:00, 153.43it/s]\n"
     ]
    },
    {
     "name": "stdout",
     "output_type": "stream",
     "text": [
      "loss_mean = 0.219, Q_val = 0.220\n"
     ]
    },
    {
     "name": "stderr",
     "output_type": "stream",
     "text": [
      "Epoch [19/20], loss_mean=0.217: 100%|██████████| 1313/1313 [00:08<00:00, 153.32it/s]\n"
     ]
    },
    {
     "name": "stdout",
     "output_type": "stream",
     "text": [
      "loss_mean = 0.217, Q_val = 0.204\n"
     ]
    },
    {
     "name": "stderr",
     "output_type": "stream",
     "text": [
      "Epoch [20/20], loss_mean=0.218: 100%|██████████| 1313/1313 [00:07<00:00, 172.05it/s]\n"
     ]
    },
    {
     "name": "stdout",
     "output_type": "stream",
     "text": [
      "loss_mean = 0.218, Q_val = 0.300\n"
     ]
    },
    {
     "name": "stderr",
     "output_type": "stream",
     "text": [
      "100%|██████████| 20/20 [00:02<00:00,  6.99it/s]\n"
     ]
    },
    {
     "name": "stdout",
     "output_type": "stream",
     "text": [
      "Test Accuracy: 0.9138\n"
     ]
    },
    {
     "data": {
      "image/png": "[encoded data removed]",
      "text/plain": [
       "<Figure size 1000x600 with 1 Axes>"
      ]
     },
     "metadata": {},
     "output_type": "display_data"
    },
    {
     "name": "stdout",
     "output_type": "stream",
     "text": [
      "\n",
      "Final Results:\n",
      "Training Loss: 0.2175\n",
      "Validation Loss: 0.3000\n",
      "Test Accuracy: 0.9138\n"
     ]
    }
   ],
   "source": [
    "# MNIST save model p4 (with regularization)\n",
    "import os\n",
    "os.environ['KMP_DUPLICATE_LIB_OK'] = 'TRUE'\n",
    "import torch\n",
    "import torch.utils.data as data\n",
    "import json\n",
    "from PIL import Image\n",
    "import torchvision.transforms.v2 as tfs\n",
    "import torchvision\n",
    "import torch.nn as nn\n",
    "import torch.optim as optim\n",
    "from tqdm import tqdm\n",
    "from torchvision.datasets import ImageFolder\n",
    "import matplotlib.pyplot as plt\n",
    "\n",
    "# GPU setup\n",
    "device = torch.device('cuda' if torch.cuda.is_available() else 'cpu')\n",
    "print(f\"Using device: {device}\")\n",
    "\n",
    "\n",
    "class RavelTransform(nn.Module):\n",
    "    def forward(self,item):\n",
    "        return item.ravel()\n",
    "\n",
    "\n",
    "class DigitNN(nn.Module):\n",
    "    def __init__(self, input_dim, num_hid, out_dim):\n",
    "        super().__init__()\n",
    "        self.layer1 = nn.Linear(input_dim,num_hid)\n",
    "        self.layer2 = nn.Linear(num_hid, out_dim)\n",
    "        self.dropout_1 = nn.Dropout1d(0.3) # Dropout\n",
    "\n",
    "    def forward(self,x):\n",
    "        x = self.layer1(x)\n",
    "        x = nn.functional.relu(x)\n",
    "        x = self.dropout_1(x)\n",
    "        x = self.layer2(x)\n",
    "        return x\n",
    "\n",
    "model = DigitNN(28 * 28, 32, 10).to(device)  # Move model to GPU\n",
    "\n",
    "\n",
    "# Setting trnsform\n",
    "transforms = tfs.Compose([tfs.ToImage(),\n",
    "                          tfs.Grayscale(), \n",
    "                          tfs.ToDtype(torch.float32, scale=True), # converting to float\n",
    "                          RavelTransform() # or tfs.Lambda(lambda _im: _im.ravel()),\n",
    "                          ])\n",
    "\n",
    "\n",
    "dataset_mnist = torchvision.datasets.MNIST(\"datasets\\mnist\", download=True, train=True, transform=transforms)\n",
    "d_train, d_val = data.random_split(dataset_mnist , [0.7, 0.3])\n",
    "train_data = data.DataLoader(d_train, batch_size=32, shuffle=True)\n",
    "train_data_val = data.DataLoader(d_val, batch_size=32, shuffle=False)\n",
    "\n",
    "# optimizer = optim.Adam(params=model.parameters(), lr=0.01, weight_decay=0.001)\n",
    "optimizer = optim.Adam(params=model.parameters(), lr=0.01, weight_decay=0.001)\n",
    "loss_function = nn.CrossEntropyLoss()\n",
    "\n",
    "# Lists to store metrics for plotting\n",
    "train_losses = []\n",
    "val_losses = []\n",
    "\n",
    "ep = 20\n",
    "for _e in range(ep):\n",
    "    model.train()\n",
    "    loss_mean = 0\n",
    "    loss_count = 0\n",
    "    \n",
    "    train_data_tqdm = tqdm(train_data, leave=True)\n",
    "    for x_train_img, y_target in train_data_tqdm:\n",
    "        # Move data to GPU\n",
    "        x_train_img, y_target = x_train_img.to(device), y_target.to(device)\n",
    "        \n",
    "        predict = model(x_train_img)\n",
    "        loss = loss_function(predict, y_target)\n",
    "\n",
    "        optimizer.zero_grad()\n",
    "        loss.backward()\n",
    "        optimizer.step()\n",
    "\n",
    "        loss_count +=1\n",
    "        loss_mean = 1/loss_count * loss.item() + (1 - 1/loss_count) * loss_mean\n",
    "        train_data_tqdm.set_description(f\"Epoch [{_e+1}/{ep}], loss_mean={loss_mean:.3f}\")\n",
    "\n",
    "    train_losses.append(loss_mean)\n",
    "\n",
    "    # Validataion\n",
    "    model.eval()\n",
    "    Q_val = 0\n",
    "    count_val = 0\n",
    "\n",
    "    with torch.no_grad():  # No gradients needed for validation\n",
    "        for x_val_img , y_target_val in train_data_val:\n",
    "            # Move data to GPU\n",
    "            x_val_img, y_target_val = x_val_img.to(device), y_target_val.to(device)\n",
    "            \n",
    "            p = model(x_val_img)\n",
    "            loss = loss_function(p,y_target_val)\n",
    "            Q_val+= loss.item()\n",
    "            count_val +=1\n",
    "    Q_val /= count_val\n",
    "    val_losses.append(Q_val)\n",
    "\n",
    "    print(f\"loss_mean = {loss_mean:.3f}, Q_val = {Q_val:.3f}\")\n",
    "\n",
    "\n",
    "# Test\n",
    "d_test = ImageFolder(\"datasets/MNIST/test\", transform=transforms)\n",
    "test_data = data.DataLoader(d_test , batch_size=500, shuffle=False)\n",
    "Q = 0\n",
    "\n",
    "model.eval()\n",
    "\n",
    "test_tqdm = tqdm(test_data, leave=True)\n",
    "with torch.no_grad():  # No gradients needed for testing\n",
    "    for x_test, y_test in test_tqdm:\n",
    "        # Move data to GPU\n",
    "        x_test, y_test = x_test.to(device), y_test.to(device)\n",
    "        \n",
    "        p = model(x_test) # 500, 10\n",
    "        p = torch.argmax(p, dim=1) # 500,1\n",
    "        Q += torch.sum(p == y_test).item()\n",
    "\n",
    "Q /= len(d_test)\n",
    "print(f\"Test Accuracy: {Q:.4f}\")\n",
    "\n",
    "\n",
    "# Plot training and validation losses\n",
    "plt.figure(figsize=(10, 6))\n",
    "plt.plot(range(1, ep+1), train_losses, marker='o', label='Training Loss', linewidth=2)\n",
    "plt.plot(range(1, ep+1), val_losses, marker='s', label='Validation Loss', linewidth=2)\n",
    "plt.xlabel('Epoch', fontsize=12)\n",
    "plt.ylabel('Loss', fontsize=12)\n",
    "plt.title('Training and Validation Loss Over Epochs', fontsize=14)\n",
    "plt.legend(fontsize=11)\n",
    "plt.grid(True, alpha=0.3)\n",
    "plt.tight_layout()\n",
    "plt.savefig('training_validation_loss.png', dpi=150)\n",
    "plt.show()\n",
    "\n",
    "print(f\"\\nFinal Results:\")\n",
    "print(f\"Training Loss: {train_losses[-1]:.4f}\")\n",
    "print(f\"Validation Loss: {val_losses[-1]:.4f}\")\n",
    "print(f\"Test Accuracy: {Q:.4f}\")"
   ]
  },
  {
   "cell_type": "code",
   "execution_count": 4,
   "id": "d9c1a794",
   "metadata": {},
   "outputs": [
    {
     "name": "stderr",
     "output_type": "stream",
     "text": [
      "<>:51: SyntaxWarning: invalid escape sequence '\\m'\n",
      "<>:51: SyntaxWarning: invalid escape sequence '\\m'\n",
      "C:\\Users\\pantu\\AppData\\Local\\Temp\\ipykernel_26028\\1834302726.py:51: SyntaxWarning: invalid escape sequence '\\m'\n",
      "  dataset_mnist = torchvision.datasets.MNIST(\"datasets\\mnist\", download=True, train=True, transform=transforms)\n"
     ]
    },
    {
     "name": "stdout",
     "output_type": "stream",
     "text": [
      "Using device: cuda\n"
     ]
    },
    {
     "name": "stderr",
     "output_type": "stream",
     "text": [
      "Epoch [1/20], loss_mean=0.937: 100%|██████████| 1313/1313 [00:08<00:00, 160.50it/s]\n"
     ]
    },
    {
     "name": "stdout",
     "output_type": "stream",
     "text": [
      "loss_mean = 0.937, Q_val = 0.288\n"
     ]
    },
    {
     "name": "stderr",
     "output_type": "stream",
     "text": [
      "Epoch [2/20], loss_mean=0.854: 100%|██████████| 1313/1313 [00:07<00:00, 177.16it/s]\n"
     ]
    },
    {
     "name": "stdout",
     "output_type": "stream",
     "text": [
      "loss_mean = 0.854, Q_val = 0.257\n"
     ]
    },
    {
     "name": "stderr",
     "output_type": "stream",
     "text": [
      "Epoch [3/20], loss_mean=0.832: 100%|██████████| 1313/1313 [00:07<00:00, 171.82it/s]\n"
     ]
    },
    {
     "name": "stdout",
     "output_type": "stream",
     "text": [
      "loss_mean = 0.832, Q_val = 0.202\n"
     ]
    },
    {
     "name": "stderr",
     "output_type": "stream",
     "text": [
      "Epoch [4/20], loss_mean=0.828: 100%|██████████| 1313/1313 [00:07<00:00, 170.97it/s]\n"
     ]
    },
    {
     "name": "stdout",
     "output_type": "stream",
     "text": [
      "loss_mean = 0.828, Q_val = 0.223\n"
     ]
    },
    {
     "name": "stderr",
     "output_type": "stream",
     "text": [
      "Epoch [5/20], loss_mean=0.825: 100%|██████████| 1313/1313 [00:09<00:00, 144.89it/s]\n"
     ]
    },
    {
     "name": "stdout",
     "output_type": "stream",
     "text": [
      "loss_mean = 0.825, Q_val = 0.211\n"
     ]
    },
    {
     "name": "stderr",
     "output_type": "stream",
     "text": [
      "Epoch [6/20], loss_mean=0.819: 100%|██████████| 1313/1313 [00:09<00:00, 142.63it/s]\n"
     ]
    },
    {
     "name": "stdout",
     "output_type": "stream",
     "text": [
      "loss_mean = 0.819, Q_val = 0.252\n"
     ]
    },
    {
     "name": "stderr",
     "output_type": "stream",
     "text": [
      "Epoch [7/20], loss_mean=0.814: 100%|██████████| 1313/1313 [00:07<00:00, 173.45it/s]\n"
     ]
    },
    {
     "name": "stdout",
     "output_type": "stream",
     "text": [
      "loss_mean = 0.814, Q_val = 0.214\n"
     ]
    },
    {
     "name": "stderr",
     "output_type": "stream",
     "text": [
      "Epoch [8/20], loss_mean=0.808: 100%|██████████| 1313/1313 [00:08<00:00, 159.15it/s]\n"
     ]
    },
    {
     "name": "stdout",
     "output_type": "stream",
     "text": [
      "loss_mean = 0.808, Q_val = 0.203\n"
     ]
    },
    {
     "name": "stderr",
     "output_type": "stream",
     "text": [
      "Epoch [9/20], loss_mean=0.807: 100%|██████████| 1313/1313 [00:09<00:00, 142.50it/s]\n"
     ]
    },
    {
     "name": "stdout",
     "output_type": "stream",
     "text": [
      "loss_mean = 0.807, Q_val = 0.244\n"
     ]
    },
    {
     "name": "stderr",
     "output_type": "stream",
     "text": [
      "Epoch [10/20], loss_mean=0.814: 100%|██████████| 1313/1313 [00:09<00:00, 142.51it/s]\n"
     ]
    },
    {
     "name": "stdout",
     "output_type": "stream",
     "text": [
      "loss_mean = 0.814, Q_val = 0.212\n"
     ]
    },
    {
     "name": "stderr",
     "output_type": "stream",
     "text": [
      "Epoch [11/20], loss_mean=0.803: 100%|██████████| 1313/1313 [00:09<00:00, 142.77it/s]\n"
     ]
    },
    {
     "name": "stdout",
     "output_type": "stream",
     "text": [
      "loss_mean = 0.803, Q_val = 0.236\n"
     ]
    },
    {
     "name": "stderr",
     "output_type": "stream",
     "text": [
      "Epoch [12/20], loss_mean=0.813: 100%|██████████| 1313/1313 [00:09<00:00, 141.49it/s]\n"
     ]
    },
    {
     "name": "stdout",
     "output_type": "stream",
     "text": [
      "loss_mean = 0.813, Q_val = 0.222\n"
     ]
    },
    {
     "name": "stderr",
     "output_type": "stream",
     "text": [
      "Epoch [13/20], loss_mean=0.795: 100%|██████████| 1313/1313 [00:09<00:00, 142.69it/s]\n"
     ]
    },
    {
     "name": "stdout",
     "output_type": "stream",
     "text": [
      "loss_mean = 0.795, Q_val = 0.227\n"
     ]
    },
    {
     "name": "stderr",
     "output_type": "stream",
     "text": [
      "Epoch [14/20], loss_mean=0.802: 100%|██████████| 1313/1313 [00:09<00:00, 142.35it/s]\n"
     ]
    },
    {
     "name": "stdout",
     "output_type": "stream",
     "text": [
      "loss_mean = 0.802, Q_val = 0.219\n"
     ]
    },
    {
     "name": "stderr",
     "output_type": "stream",
     "text": [
      "Epoch [15/20], loss_mean=0.796: 100%|██████████| 1313/1313 [00:09<00:00, 141.75it/s]\n"
     ]
    },
    {
     "name": "stdout",
     "output_type": "stream",
     "text": [
      "loss_mean = 0.796, Q_val = 0.222\n"
     ]
    },
    {
     "name": "stderr",
     "output_type": "stream",
     "text": [
      "Epoch [16/20], loss_mean=0.783: 100%|██████████| 1313/1313 [00:08<00:00, 147.89it/s]\n"
     ]
    },
    {
     "name": "stdout",
     "output_type": "stream",
     "text": [
      "loss_mean = 0.783, Q_val = 0.256\n"
     ]
    },
    {
     "name": "stderr",
     "output_type": "stream",
     "text": [
      "Epoch [17/20], loss_mean=0.795: 100%|██████████| 1313/1313 [00:08<00:00, 157.31it/s]\n"
     ]
    },
    {
     "name": "stdout",
     "output_type": "stream",
     "text": [
      "loss_mean = 0.795, Q_val = 0.269\n"
     ]
    },
    {
     "name": "stderr",
     "output_type": "stream",
     "text": [
      "Epoch [18/20], loss_mean=0.794: 100%|██████████| 1313/1313 [00:08<00:00, 149.48it/s]\n"
     ]
    },
    {
     "name": "stdout",
     "output_type": "stream",
     "text": [
      "loss_mean = 0.794, Q_val = 0.243\n"
     ]
    },
    {
     "name": "stderr",
     "output_type": "stream",
     "text": [
      "Epoch [19/20], loss_mean=0.796: 100%|██████████| 1313/1313 [00:09<00:00, 145.03it/s]\n"
     ]
    },
    {
     "name": "stdout",
     "output_type": "stream",
     "text": [
      "loss_mean = 0.796, Q_val = 0.230\n"
     ]
    },
    {
     "name": "stderr",
     "output_type": "stream",
     "text": [
      "Epoch [20/20], loss_mean=0.782: 100%|██████████| 1313/1313 [00:07<00:00, 171.47it/s]\n"
     ]
    },
    {
     "name": "stdout",
     "output_type": "stream",
     "text": [
      "loss_mean = 0.782, Q_val = 0.226\n"
     ]
    },
    {
     "name": "stderr",
     "output_type": "stream",
     "text": [
      "100%|██████████| 20/20 [00:02<00:00,  7.27it/s]\n"
     ]
    },
    {
     "name": "stdout",
     "output_type": "stream",
     "text": [
      "Test Accuracy: 0.9522\n"
     ]
    },
    {
     "data": {
      "image/png": "[encoded data removed]",
      "text/plain": [
       "<Figure size 1000x600 with 1 Axes>"
      ]
     },
     "metadata": {},
     "output_type": "display_data"
    },
    {
     "name": "stdout",
     "output_type": "stream",
     "text": [
      "\n",
      "Final Results:\n",
      "Training Loss: 0.7822\n",
      "Validation Loss: 0.2257\n",
      "Test Accuracy: 0.9522\n"
     ]
    }
   ],
   "source": [
    "# MNIST save model p4 ( with dropout)\n",
    "import os\n",
    "os.environ['KMP_DUPLICATE_LIB_OK'] = 'TRUE'\n",
    "import torch\n",
    "import torch.utils.data as data\n",
    "import json\n",
    "from PIL import Image\n",
    "import torchvision.transforms.v2 as tfs\n",
    "import torchvision\n",
    "import torch.nn as nn\n",
    "import torch.optim as optim\n",
    "from tqdm import tqdm\n",
    "from torchvision.datasets import ImageFolder\n",
    "import matplotlib.pyplot as plt\n",
    "\n",
    "# GPU setup\n",
    "device = torch.device('cuda' if torch.cuda.is_available() else 'cpu')\n",
    "print(f\"Using device: {device}\")\n",
    "\n",
    "\n",
    "class RavelTransform(nn.Module):\n",
    "    def forward(self,item):\n",
    "        return item.ravel()\n",
    "\n",
    "\n",
    "class DigitNN(nn.Module):\n",
    "    def __init__(self, input_dim, num_hid, out_dim):\n",
    "        super().__init__()\n",
    "        self.layer1 = nn.Linear(input_dim,num_hid)\n",
    "        self.layer2 = nn.Linear(num_hid, out_dim)\n",
    "        self.dropout_1 = nn.Dropout1d(0.3) # Dropout\n",
    "\n",
    "    def forward(self,x):\n",
    "        x = self.layer1(x)\n",
    "        x = nn.functional.relu(x)\n",
    "        x = self.dropout_1(x)\n",
    "        x = self.layer2(x)\n",
    "        return x\n",
    "\n",
    "model = DigitNN(28 * 28, 32, 10).to(device)  # Move model to GPU\n",
    "\n",
    "\n",
    "# Setting trnsform\n",
    "transforms = tfs.Compose([tfs.ToImage(),\n",
    "                          tfs.Grayscale(), \n",
    "                          tfs.ToDtype(torch.float32, scale=True), # converting to float\n",
    "                          RavelTransform() # or tfs.Lambda(lambda _im: _im.ravel()),\n",
    "                          ])\n",
    "\n",
    "\n",
    "dataset_mnist = torchvision.datasets.MNIST(\"datasets\\mnist\", download=True, train=True, transform=transforms)\n",
    "d_train, d_val = data.random_split(dataset_mnist , [0.7, 0.3])\n",
    "train_data = data.DataLoader(d_train, batch_size=32, shuffle=True)\n",
    "train_data_val = data.DataLoader(d_val, batch_size=32, shuffle=False)\n",
    "\n",
    "optimizer = optim.Adam(params=model.parameters(), lr=0.01)\n",
    "loss_function = nn.CrossEntropyLoss()\n",
    "\n",
    "# Lists to store metrics for plotting\n",
    "train_losses = []\n",
    "val_losses = []\n",
    "\n",
    "ep = 20\n",
    "for _e in range(ep):\n",
    "    model.train()\n",
    "    loss_mean = 0\n",
    "    loss_count = 0\n",
    "    \n",
    "    train_data_tqdm = tqdm(train_data, leave=True)\n",
    "    for x_train_img, y_target in train_data_tqdm:\n",
    "        # Move data to GPU\n",
    "        x_train_img, y_target = x_train_img.to(device), y_target.to(device)\n",
    "        \n",
    "        predict = model(x_train_img)\n",
    "        loss = loss_function(predict, y_target)\n",
    "\n",
    "        optimizer.zero_grad()\n",
    "        loss.backward()\n",
    "        optimizer.step()\n",
    "\n",
    "        loss_count +=1\n",
    "        loss_mean = 1/loss_count * loss.item() + (1 - 1/loss_count) * loss_mean\n",
    "        train_data_tqdm.set_description(f\"Epoch [{_e+1}/{ep}], loss_mean={loss_mean:.3f}\")\n",
    "\n",
    "    train_losses.append(loss_mean)\n",
    "\n",
    "    # Validataion\n",
    "    model.eval()\n",
    "    Q_val = 0\n",
    "    count_val = 0\n",
    "\n",
    "    with torch.no_grad():  # No gradients needed for validation\n",
    "        for x_val_img , y_target_val in train_data_val:\n",
    "            # Move data to GPU\n",
    "            x_val_img, y_target_val = x_val_img.to(device), y_target_val.to(device)\n",
    "            \n",
    "            p = model(x_val_img)\n",
    "            loss = loss_function(p,y_target_val)\n",
    "            Q_val+= loss.item()\n",
    "            count_val +=1\n",
    "    Q_val /= count_val\n",
    "    val_losses.append(Q_val)\n",
    "\n",
    "    print(f\"loss_mean = {loss_mean:.3f}, Q_val = {Q_val:.3f}\")\n",
    "\n",
    "\n",
    "# Test\n",
    "d_test = ImageFolder(\"datasets/MNIST/test\", transform=transforms)\n",
    "test_data = data.DataLoader(d_test , batch_size=500, shuffle=False)\n",
    "Q = 0\n",
    "\n",
    "model.eval()\n",
    "\n",
    "test_tqdm = tqdm(test_data, leave=True)\n",
    "with torch.no_grad():  # No gradients needed for testing\n",
    "    for x_test, y_test in test_tqdm:\n",
    "        # Move data to GPU\n",
    "        x_test, y_test = x_test.to(device), y_test.to(device)\n",
    "        \n",
    "        p = model(x_test) # 500, 10\n",
    "        p = torch.argmax(p, dim=1) # 500,1\n",
    "        Q += torch.sum(p == y_test).item()\n",
    "\n",
    "Q /= len(d_test)\n",
    "print(f\"Test Accuracy: {Q:.4f}\")\n",
    "\n",
    "\n",
    "# Plot training and validation losses\n",
    "plt.figure(figsize=(10, 6))\n",
    "plt.plot(range(1, ep+1), train_losses, marker='o', label='Training Loss', linewidth=2)\n",
    "plt.plot(range(1, ep+1), val_losses, marker='s', label='Validation Loss', linewidth=2)\n",
    "plt.xlabel('Epoch', fontsize=12)\n",
    "plt.ylabel('Loss', fontsize=12)\n",
    "plt.title('Training and Validation Loss Over Epochs', fontsize=14)\n",
    "plt.legend(fontsize=11)\n",
    "plt.grid(True, alpha=0.3)\n",
    "plt.tight_layout()\n",
    "plt.savefig('training_validation_loss.png', dpi=150)\n",
    "plt.show()\n",
    "\n",
    "print(f\"\\nFinal Results:\")\n",
    "print(f\"Training Loss: {train_losses[-1]:.4f}\")\n",
    "print(f\"Validation Loss: {val_losses[-1]:.4f}\")\n",
    "print(f\"Test Accuracy: {Q:.4f}\")"
   ]
  }
 ],
 "metadata": {
  "kernelspec": {
   "display_name": "dl",
   "language": "python",
   "name": "python3"
  },
  "language_info": {
   "codemirror_mode": {
    "name": "ipython",
    "version": 3
   },
   "file_extension": ".py",
   "mimetype": "text/x-python",
   "name": "python",
   "nbconvert_exporter": "python",
   "pygments_lexer": "ipython3",
   "version": "3.13.7"
  }
 },
 "nbformat": 4,
 "nbformat_minor": 5
}
