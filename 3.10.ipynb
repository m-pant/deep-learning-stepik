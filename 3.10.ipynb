{
 "cells": [
  {
   "cell_type": "code",
   "execution_count": 8,
   "id": "ce85166c",
   "metadata": {},
   "outputs": [
    {
     "name": "stdout",
     "output_type": "stream",
     "text": [
      "Using device: cuda\n"
     ]
    },
    {
     "name": "stderr",
     "output_type": "stream",
     "text": [
      "Epoch 1/3, loss_mean: 0.0366: 100%|██████████| 51/51 [00:14<00:00,  3.43it/s] \n",
      "Epoch 2/3, loss_mean: 0.0266: 100%|██████████| 51/51 [00:07<00:00,  6.66it/s] \n",
      "Epoch 3/3, loss_mean: 0.0172: 100%|██████████| 51/51 [00:07<00:00,  7.24it/s] \n",
      "100%|██████████| 7/7 [00:02<00:00,  2.48it/s]"
     ]
    },
    {
     "name": "stdout",
     "output_type": "stream",
     "text": [
      "0.31996253452130724\n",
      "0.9463722397476341\n"
     ]
    },
    {
     "name": "stderr",
     "output_type": "stream",
     "text": [
      "\n"
     ]
    }
   ],
   "source": [
    "# Transfer learning\n",
    "import os\n",
    "import json\n",
    "from PIL import Image\n",
    "\n",
    "import torch\n",
    "import torch.utils.data as data\n",
    "from torchvision import models\n",
    "import torchvision.transforms.v2 as tfs_v2\n",
    "import torch.nn as no\n",
    "import torch.optim as optim\n",
    "from tqdm import tqdm\n",
    "import torch.nn as nn\n",
    "\n",
    "# GPU setup\n",
    "device = torch.device('cuda' if torch.cuda.is_available() else 'cpu')\n",
    "print(f\"Using device: {device}\")\n",
    "\n",
    "\n",
    "class DogDataset(data.Dataset):\n",
    "    def __init__(self, path, train=True, transform=None):\n",
    "        self.path = os.path.join(path, \"train\" if train else \"test\")\n",
    "        self.transform = transform\n",
    "\n",
    "        with open(os.path.join(self.path, \"format.json\"), \"r\") as fp:\n",
    "            self.format = json.load(fp)\n",
    "        \n",
    "        self.length = 0\n",
    "        self.files = []\n",
    "        self.targets = torch.eye(10) # one hot\n",
    "\n",
    "        for _dir, _target in self.format.items():\n",
    "            path = os.path.join(self.path, _dir)\n",
    "            list_files = os.listdir(path)\n",
    "            self.length += len(list_files)\n",
    "            self.files.extend( map(lambda _x: (os.path.join(path , _x), _target ), list_files ))\n",
    "\n",
    "    def __getitem__(self, index):\n",
    "        path_file, target = self.files[index]\n",
    "        t = self.targets[target]\n",
    "        img = Image.open(path_file)\n",
    "\n",
    "        if self.transform:\n",
    "            img = self.transform(img)\n",
    "        return img, t\n",
    "    \n",
    "    def __len__(self):\n",
    "        return self.length\n",
    "\n",
    "\n",
    "# Loading resnet weigths\n",
    "resnet_wgts = models.ResNet50_Weights.DEFAULT\n",
    "transforms = resnet_wgts.transforms()\n",
    "\n",
    "# Model\n",
    "model = models.resnet50(weights = resnet_wgts)\n",
    "model.requires_grad_(False) # disable grads\n",
    "\n",
    "# modify Layers\n",
    "model.fc = nn.Linear(512*4, 10)\n",
    "model.fc.requires_grad_(True) # Enable gradient for last layer\n",
    "\n",
    "# crating datasets\n",
    "d_train = DogDataset('datasets\\\\dogs', transform=transforms)\n",
    "train_data = data.DataLoader(d_train, batch_size=32, shuffle=True)\n",
    "\n",
    "# Optimzer\n",
    "optimizer  = optim.Adam(params=model.fc.parameters() , lr=0.001, weight_decay=0.001)\n",
    "loss_function = nn.CrossEntropyLoss()\n",
    "epochs = 3\n",
    "model.train()\n",
    "\n",
    "# Train\n",
    "model.to(device)\n",
    "for _e in range(epochs):\n",
    "    loss_mean  = 0\n",
    "    lm_cont = 0\n",
    "\n",
    "    train_tqdm = tqdm(train_data, leave=True)\n",
    "    for x_train, y_train in train_tqdm:\n",
    "        x_train = x_train.to(device)\n",
    "        y_train = y_train.to(device)\n",
    "        predict = model(x_train)\n",
    "        loss = loss_function(predict, y_train)\n",
    "\n",
    "        optimizer.zero_grad()\n",
    "        loss.backward()\n",
    "        optimizer.step()\n",
    "\n",
    "        lm_cont +=1\n",
    "        loss_mean  = 1 / lm_cont * loss.item() - (1 - 1/lm_cont) * loss_mean\n",
    "        train_tqdm.set_description(f\"Epoch {_e+1}/{epochs}, loss_mean: {loss_mean:.4f}\")\n",
    "\n",
    "# Saving\n",
    "st = model.state_dict()\n",
    "torch.save(st, 'resnet_50_trnsfer.tar')\n",
    "\n",
    "# Test\n",
    "Q = 0\n",
    "P = 0\n",
    "count = 0\n",
    "model.eval()\n",
    "\n",
    "d_test = DogDataset('datasets\\\\dogs',train=False, transform=transforms)\n",
    "test_data = data.DataLoader(d_test , batch_size=50 , shuffle=False)\n",
    "test_tqdm = tqdm(test_data, leave=True)\n",
    "for x_test, y_test in test_tqdm:\n",
    "    x_test = x_test.to(device)\n",
    "    y_test = y_test.to(device)\n",
    "    with torch.no_grad():\n",
    "        p = model(x_test)\n",
    "        p2 = torch.argmax(p , dim=1)\n",
    "        y = torch.argmax(y_test, dim=1)\n",
    "        P += torch.sum(p2 == y).item()\n",
    "        Q +=loss_function(p, y_test).item()\n",
    "        count +=1\n",
    "\n",
    "Q /= count\n",
    "P /=len(d_test)\n",
    "print(Q)\n",
    "print(P)"
   ]
  },
  {
   "cell_type": "code",
   "execution_count": 9,
   "id": "4e47764e",
   "metadata": {},
   "outputs": [
    {
     "name": "stdout",
     "output_type": "stream",
     "text": [
      "Using device: cuda\n"
     ]
    },
    {
     "name": "stderr",
     "output_type": "stream",
     "text": [
      "Epoch 1/20, loss_mean: 1.3843: 100%|██████████| 51/51 [00:06<00:00,  7.62it/s]\n"
     ]
    },
    {
     "name": "stdout",
     "output_type": "stream",
     "text": [
      "Epoch 1 average loss: 1.3843\n"
     ]
    },
    {
     "name": "stderr",
     "output_type": "stream",
     "text": [
      "Epoch 2/20, loss_mean: 0.5360: 100%|██████████| 51/51 [00:06<00:00,  7.97it/s]\n"
     ]
    },
    {
     "name": "stdout",
     "output_type": "stream",
     "text": [
      "Epoch 2 average loss: 0.5360\n"
     ]
    },
    {
     "name": "stderr",
     "output_type": "stream",
     "text": [
      "Epoch 3/20, loss_mean: 0.3540: 100%|██████████| 51/51 [00:06<00:00,  8.08it/s]\n"
     ]
    },
    {
     "name": "stdout",
     "output_type": "stream",
     "text": [
      "Epoch 3 average loss: 0.3540\n"
     ]
    },
    {
     "name": "stderr",
     "output_type": "stream",
     "text": [
      "Epoch 4/20, loss_mean: 0.2655: 100%|██████████| 51/51 [00:06<00:00,  7.89it/s]\n"
     ]
    },
    {
     "name": "stdout",
     "output_type": "stream",
     "text": [
      "Epoch 4 average loss: 0.2655\n"
     ]
    },
    {
     "name": "stderr",
     "output_type": "stream",
     "text": [
      "Epoch 5/20, loss_mean: 0.2142: 100%|██████████| 51/51 [00:07<00:00,  7.24it/s]\n"
     ]
    },
    {
     "name": "stdout",
     "output_type": "stream",
     "text": [
      "Epoch 5 average loss: 0.2142\n"
     ]
    },
    {
     "name": "stderr",
     "output_type": "stream",
     "text": [
      "Epoch 6/20, loss_mean: 0.1868: 100%|██████████| 51/51 [00:07<00:00,  7.27it/s]\n"
     ]
    },
    {
     "name": "stdout",
     "output_type": "stream",
     "text": [
      "Epoch 6 average loss: 0.1868\n"
     ]
    },
    {
     "name": "stderr",
     "output_type": "stream",
     "text": [
      "Epoch 7/20, loss_mean: 0.1576: 100%|██████████| 51/51 [00:07<00:00,  7.11it/s]\n"
     ]
    },
    {
     "name": "stdout",
     "output_type": "stream",
     "text": [
      "Epoch 7 average loss: 0.1576\n"
     ]
    },
    {
     "name": "stderr",
     "output_type": "stream",
     "text": [
      "Epoch 8/20, loss_mean: 0.1579: 100%|██████████| 51/51 [00:07<00:00,  7.14it/s]\n"
     ]
    },
    {
     "name": "stdout",
     "output_type": "stream",
     "text": [
      "Epoch 8 average loss: 0.1579\n"
     ]
    },
    {
     "name": "stderr",
     "output_type": "stream",
     "text": [
      "Epoch 9/20, loss_mean: 0.1370: 100%|██████████| 51/51 [00:07<00:00,  7.27it/s]\n"
     ]
    },
    {
     "name": "stdout",
     "output_type": "stream",
     "text": [
      "Epoch 9 average loss: 0.1370\n"
     ]
    },
    {
     "name": "stderr",
     "output_type": "stream",
     "text": [
      "Epoch 10/20, loss_mean: 0.1263: 100%|██████████| 51/51 [00:06<00:00,  7.47it/s]\n"
     ]
    },
    {
     "name": "stdout",
     "output_type": "stream",
     "text": [
      "Epoch 10 average loss: 0.1263\n"
     ]
    },
    {
     "name": "stderr",
     "output_type": "stream",
     "text": [
      "Epoch 11/20, loss_mean: 0.1188: 100%|██████████| 51/51 [00:06<00:00,  7.53it/s]\n"
     ]
    },
    {
     "name": "stdout",
     "output_type": "stream",
     "text": [
      "Epoch 11 average loss: 0.1188\n"
     ]
    },
    {
     "name": "stderr",
     "output_type": "stream",
     "text": [
      "Epoch 12/20, loss_mean: 0.1034: 100%|██████████| 51/51 [00:06<00:00,  7.48it/s]\n"
     ]
    },
    {
     "name": "stdout",
     "output_type": "stream",
     "text": [
      "Epoch 12 average loss: 0.1034\n"
     ]
    },
    {
     "name": "stderr",
     "output_type": "stream",
     "text": [
      "Epoch 13/20, loss_mean: 0.0979: 100%|██████████| 51/51 [00:06<00:00,  7.43it/s]\n"
     ]
    },
    {
     "name": "stdout",
     "output_type": "stream",
     "text": [
      "Epoch 13 average loss: 0.0979\n"
     ]
    },
    {
     "name": "stderr",
     "output_type": "stream",
     "text": [
      "Epoch 14/20, loss_mean: 0.0888: 100%|██████████| 51/51 [00:06<00:00,  7.50it/s]\n"
     ]
    },
    {
     "name": "stdout",
     "output_type": "stream",
     "text": [
      "Epoch 14 average loss: 0.0888\n"
     ]
    },
    {
     "name": "stderr",
     "output_type": "stream",
     "text": [
      "Epoch 15/20, loss_mean: 0.0958: 100%|██████████| 51/51 [00:06<00:00,  7.47it/s]\n"
     ]
    },
    {
     "name": "stdout",
     "output_type": "stream",
     "text": [
      "Epoch 15 average loss: 0.0958\n"
     ]
    },
    {
     "name": "stderr",
     "output_type": "stream",
     "text": [
      "Epoch 16/20, loss_mean: 0.0806: 100%|██████████| 51/51 [00:06<00:00,  7.45it/s]\n"
     ]
    },
    {
     "name": "stdout",
     "output_type": "stream",
     "text": [
      "Epoch 16 average loss: 0.0806\n"
     ]
    },
    {
     "name": "stderr",
     "output_type": "stream",
     "text": [
      "Epoch 17/20, loss_mean: 0.0767: 100%|██████████| 51/51 [00:06<00:00,  7.33it/s]\n"
     ]
    },
    {
     "name": "stdout",
     "output_type": "stream",
     "text": [
      "Epoch 17 average loss: 0.0767\n"
     ]
    },
    {
     "name": "stderr",
     "output_type": "stream",
     "text": [
      "Epoch 18/20, loss_mean: 0.0653: 100%|██████████| 51/51 [00:06<00:00,  7.82it/s]\n"
     ]
    },
    {
     "name": "stdout",
     "output_type": "stream",
     "text": [
      "Epoch 18 average loss: 0.0653\n"
     ]
    },
    {
     "name": "stderr",
     "output_type": "stream",
     "text": [
      "Epoch 19/20, loss_mean: 0.0780: 100%|██████████| 51/51 [00:06<00:00,  7.57it/s]\n"
     ]
    },
    {
     "name": "stdout",
     "output_type": "stream",
     "text": [
      "Epoch 19 average loss: 0.0780\n"
     ]
    },
    {
     "name": "stderr",
     "output_type": "stream",
     "text": [
      "Epoch 20/20, loss_mean: 0.0683: 100%|██████████| 51/51 [00:07<00:00,  7.26it/s]\n"
     ]
    },
    {
     "name": "stdout",
     "output_type": "stream",
     "text": [
      "Epoch 20 average loss: 0.0683\n"
     ]
    },
    {
     "name": "stderr",
     "output_type": "stream",
     "text": [
      "100%|██████████| 7/7 [00:01<00:00,  4.84it/s]\n"
     ]
    },
    {
     "name": "stdout",
     "output_type": "stream",
     "text": [
      "\n",
      "Test Results:\n",
      "Average Test Loss: 0.1730\n",
      "Test Accuracy: 0.9590 (95.90%)\n",
      "\n",
      "Graphs saved as 'training_results.png'\n"
     ]
    },
    {
     "data": {
      "image/png": "[encoded data removed]",
      "text/plain": [
       "<Figure size 1500x1000 with 4 Axes>"
      ]
     },
     "metadata": {},
     "output_type": "display_data"
    }
   ],
   "source": [
    "# Transfer learning with visualization\n",
    "import os\n",
    "os.environ['KMP_DUPLICATE_LIB_OK'] = 'TRUE'\n",
    "import json\n",
    "from PIL import Image\n",
    "import matplotlib.pyplot as plt\n",
    "\n",
    "import torch\n",
    "import torch.utils.data as data\n",
    "from torchvision import models\n",
    "import torchvision.transforms.v2 as tfs_v2\n",
    "import torch.nn as nn\n",
    "import torch.optim as optim\n",
    "from tqdm import tqdm\n",
    "\n",
    "# GPU setup\n",
    "device = torch.device('cuda' if torch.cuda.is_available() else 'cpu')\n",
    "print(f\"Using device: {device}\")\n",
    "\n",
    "\n",
    "class DogDataset(data.Dataset):\n",
    "    def __init__(self, path, train=True, transform=None):\n",
    "        self.path = os.path.join(path, \"train\" if train else \"test\")\n",
    "        self.transform = transform\n",
    "\n",
    "        with open(os.path.join(self.path, \"format.json\"), \"r\") as fp:\n",
    "            self.format = json.load(fp)\n",
    "        \n",
    "        self.length = 0\n",
    "        self.files = []\n",
    "        self.targets = torch.eye(10)  # one hot\n",
    "\n",
    "        for _dir, _target in self.format.items():\n",
    "            path = os.path.join(self.path, _dir)\n",
    "            list_files = os.listdir(path)\n",
    "            self.length += len(list_files)\n",
    "            self.files.extend(map(lambda _x: (os.path.join(path, _x), _target), list_files))\n",
    "\n",
    "    def __getitem__(self, index):\n",
    "        path_file, target = self.files[index]\n",
    "        t = self.targets[target]\n",
    "        img = Image.open(path_file)\n",
    "\n",
    "        if self.transform:\n",
    "            img = self.transform(img)\n",
    "        return img, t\n",
    "    \n",
    "    def __len__(self):\n",
    "        return self.length\n",
    "\n",
    "\n",
    "# Loading resnet weights\n",
    "resnet_wgts = models.ResNet50_Weights.DEFAULT\n",
    "transforms = resnet_wgts.transforms()\n",
    "\n",
    "# Model\n",
    "model = models.resnet50(weights=resnet_wgts)\n",
    "model.requires_grad_(False)  # disable grads\n",
    "\n",
    "# Modify Layers\n",
    "model.fc = nn.Linear(512*4, 10)\n",
    "model.fc.requires_grad_(True)  # Enable gradient for last layer\n",
    "\n",
    "# Creating datasets\n",
    "d_train = DogDataset('datasets\\\\dogs', transform=transforms)\n",
    "train_data = data.DataLoader(d_train, batch_size=32, shuffle=True)\n",
    "\n",
    "# Optimizer\n",
    "optimizer = optim.Adam(params=model.fc.parameters(), lr=0.001, weight_decay=0.001)\n",
    "loss_function = nn.CrossEntropyLoss()\n",
    "epochs = 20\n",
    "model.train()\n",
    "\n",
    "# Lists for tracking metrics\n",
    "train_losses = []\n",
    "train_losses_smoothed = []\n",
    "epoch_losses = []\n",
    "\n",
    "# Train\n",
    "model.to(device)\n",
    "for _e in range(epochs):\n",
    "    loss_mean = 0\n",
    "    lm_cont = 0\n",
    "    epoch_loss_sum = 0\n",
    "    epoch_batches = 0\n",
    "\n",
    "    train_tqdm = tqdm(train_data, leave=True)\n",
    "    for x_train, y_train in train_tqdm:\n",
    "        x_train = x_train.to(device)\n",
    "        y_train = y_train.to(device)\n",
    "        predict = model(x_train)\n",
    "        loss = loss_function(predict, y_train)\n",
    "\n",
    "        optimizer.zero_grad()\n",
    "        loss.backward()\n",
    "        optimizer.step()\n",
    "\n",
    "        # Исправленная формула скользящего среднего (экспоненциальное сглаживание)\n",
    "        lm_cont += 1\n",
    "        alpha = 1 / lm_cont  # коэффициент сглаживания\n",
    "        loss_mean = alpha * loss.item() + (1 - alpha) * loss_mean\n",
    "        \n",
    "        # Сохранение метрик\n",
    "        train_losses.append(loss.item())\n",
    "        train_losses_smoothed.append(loss_mean)\n",
    "        epoch_loss_sum += loss.item()\n",
    "        epoch_batches += 1\n",
    "        \n",
    "        train_tqdm.set_description(f\"Epoch {_e+1}/{epochs}, loss_mean: {loss_mean:.4f}\")\n",
    "    \n",
    "    # Средний loss за эпоху\n",
    "    epoch_avg_loss = epoch_loss_sum / epoch_batches\n",
    "    epoch_losses.append(epoch_avg_loss)\n",
    "    print(f\"Epoch {_e+1} average loss: {epoch_avg_loss:.4f}\")\n",
    "\n",
    "# Saving\n",
    "st = model.state_dict()\n",
    "torch.save(st, 'resnet_50_transfer.tar')\n",
    "\n",
    "# Test\n",
    "test_loss = 0\n",
    "correct = 0\n",
    "total_batches = 0\n",
    "model.eval()\n",
    "\n",
    "d_test = DogDataset('datasets\\\\dogs', train=False, transform=transforms)\n",
    "test_data = data.DataLoader(d_test, batch_size=50, shuffle=False)\n",
    "test_tqdm = tqdm(test_data, leave=True)\n",
    "\n",
    "for x_test, y_test in test_tqdm:\n",
    "    x_test = x_test.to(device)\n",
    "    y_test = y_test.to(device)\n",
    "    with torch.no_grad():\n",
    "        p = model(x_test)\n",
    "        p2 = torch.argmax(p, dim=1)\n",
    "        y = torch.argmax(y_test, dim=1)\n",
    "        correct += torch.sum(p2 == y).item()\n",
    "        test_loss += loss_function(p, y_test).item()\n",
    "        total_batches += 1\n",
    "\n",
    "test_loss /= total_batches\n",
    "accuracy = correct / len(d_test)\n",
    "\n",
    "print(f\"\\nTest Results:\")\n",
    "print(f\"Average Test Loss: {test_loss:.4f}\")\n",
    "print(f\"Test Accuracy: {accuracy:.4f} ({accuracy*100:.2f}%)\")\n",
    "\n",
    "# Визуализация результатов\n",
    "plt.style.use('seaborn-v0_8-darkgrid')\n",
    "fig, axes = plt.subplots(2, 2, figsize=(15, 10))\n",
    "\n",
    "# 1. Loss по батчам (raw и сглаженный)\n",
    "ax1 = axes[0, 0]\n",
    "ax1.plot(train_losses, alpha=0.3, label='Raw Loss', color='lightblue')\n",
    "ax1.plot(train_losses_smoothed, label='Smoothed Loss', color='blue', linewidth=2)\n",
    "ax1.set_xlabel('Batch')\n",
    "ax1.set_ylabel('Loss')\n",
    "ax1.set_title('Training Loss per Batch')\n",
    "ax1.legend()\n",
    "ax1.grid(True, alpha=0.3)\n",
    "\n",
    "# 2. Средний loss по эпохам\n",
    "ax2 = axes[0, 1]\n",
    "ax2.bar(range(1, epochs+1), epoch_losses, color='coral', alpha=0.7, edgecolor='darkred')\n",
    "ax2.set_xlabel('Epoch')\n",
    "ax2.set_ylabel('Average Loss')\n",
    "ax2.set_title('Average Loss per Epoch')\n",
    "ax2.set_xticks(range(1, epochs+1))\n",
    "ax2.grid(True, alpha=0.3, axis='y')\n",
    "\n",
    "# 3. Сравнение Train vs Test Loss\n",
    "ax3 = axes[1, 0]\n",
    "final_train_loss = epoch_losses[-1]\n",
    "losses_comparison = [final_train_loss, test_loss]\n",
    "colors = ['#2ecc71', '#e74c3c']\n",
    "ax3.bar(['Train (final)', 'Test'], losses_comparison, color=colors, alpha=0.7, edgecolor='black')\n",
    "ax3.set_ylabel('Loss')\n",
    "ax3.set_title('Train vs Test Loss')\n",
    "ax3.grid(True, alpha=0.3, axis='y')\n",
    "for i, v in enumerate(losses_comparison):\n",
    "    ax3.text(i, v + 0.01, f'{v:.4f}', ha='center', va='bottom', fontweight='bold')\n",
    "\n",
    "# 4. Test Accuracy\n",
    "ax4 = axes[1, 1]\n",
    "ax4.bar(['Accuracy'], [accuracy*100], color='#3498db', alpha=0.7, edgecolor='darkblue', width=0.5)\n",
    "ax4.set_ylabel('Accuracy (%)')\n",
    "ax4.set_title('Test Accuracy')\n",
    "ax4.set_ylim(0, 100)\n",
    "ax4.grid(True, alpha=0.3, axis='y')\n",
    "ax4.text(0, accuracy*100 + 2, f'{accuracy*100:.2f}%', ha='center', va='bottom', \n",
    "         fontweight='bold', fontsize=14)\n",
    "\n",
    "plt.tight_layout()\n",
    "plt.savefig('training_results.png', dpi=300, bbox_inches='tight')\n",
    "print(\"\\nGraphs saved as 'training_results.png'\")\n",
    "plt.show()"
   ]
  },
  {
   "cell_type": "code",
   "execution_count": 2,
   "id": "3597538f",
   "metadata": {},
   "outputs": [],
   "source": [
    "# 3\n",
    "import torch\n",
    "from torchvision import models\n",
    "import torchvision.transforms.functional as TF\n",
    "\n",
    "# тензор x и img_pil в программе не менять\n",
    "x = torch.randint(0, 255, (3, 100, 100), dtype=torch.float32) \n",
    "img_pil = TF.to_pil_image(x)\n",
    "\n",
    "# здесь продолжайте программу\n",
    "model = models.resnet34()\n",
    "model.requires_grad_(False)\n",
    "\n",
    "wgts = models.ResNet34_Weights.DEFAULT\n",
    "transforms = wgts.transforms()\n",
    "\n",
    "img_t = transforms(img_pil)\n",
    "\n",
    "model.eval()\n",
    "results = model(img_t.unsqueeze(0))"
   ]
  },
  {
   "cell_type": "code",
   "execution_count": null,
   "id": "2434aa29",
   "metadata": {},
   "outputs": [],
   "source": [
    "# 4\n",
    "import torch\n",
    "import torch.nn as nn\n",
    "from torchvision import models\n",
    "import torchvision.transforms.functional as TF\n",
    "\n",
    "# тензор x и img_pil в программе не менять\n",
    "x = torch.randint(0, 255, (3, 250, 250), dtype=torch.float32)\n",
    "img_pil = TF.to_pil_image(x)\n",
    "\n",
    "# здесь продолжайте программу\n",
    "model = models.resnet50()\n",
    "model.requires_grad_(False)\n",
    "model.fc = nn.Sequential(\n",
    "    nn.Linear(512*4, 128, bias=True),\n",
    "    nn.ReLU(inplace=True),\n",
    "    nn.Linear(128,10, bias=True)\n",
    ")\n",
    "model.fc.requires_grad_(False)\n",
    "\n",
    "model.eval()\n",
    "wgts = models.ResNet50_Weights.DEFAULT\n",
    "transforms = wgts.transforms()\n",
    "img_t = transforms(img_pil)\n",
    "\n",
    "predict = model(img_t.unsqueeze(0))"
   ]
  },
  {
   "cell_type": "code",
   "execution_count": 10,
   "id": "d7f2e822",
   "metadata": {},
   "outputs": [],
   "source": [
    "# 5 \n",
    "import torch\n",
    "import torch.nn as nn\n",
    "from torchvision import models\n",
    "import torchvision.transforms.functional as TF\n",
    "\n",
    "# тензор x и img_pil в программе не менять\n",
    "x = torch.randint(0, 255, (3, 250, 250), dtype=torch.float32)\n",
    "img_pil = TF.to_pil_image(x)\n",
    "\n",
    "# здесь продолжайте программу\n",
    "model = models.resnet50()\n",
    "model.fc = nn.Sequential(\n",
    "    nn.Linear(512*4, 100, bias=False),\n",
    "    nn.ReLU(inplace=True),\n",
    "    nn.BatchNorm1d(100),\n",
    "    nn.Linear(100,10, bias=True)\n",
    ")\n",
    "\n",
    "model.eval()\n",
    "wgts = models.ResNet50_Weights.DEFAULT\n",
    "transforms = wgts.transforms()\n",
    "img_t = transforms(img_pil)\n",
    "\n",
    "with torch.no_grad():\n",
    "    predict = model(img_t.unsqueeze(0))"
   ]
  },
  {
   "cell_type": "code",
   "execution_count": 12,
   "id": "b733dd10",
   "metadata": {},
   "outputs": [
    {
     "name": "stderr",
     "output_type": "stream",
     "text": [
      "c:\\Users\\pantu\\.conda\\envs\\dl\\Lib\\site-packages\\torch\\nn\\modules\\loss.py:616: UserWarning: Using a target size (torch.Size([16])) that is different to the input size (torch.Size([16, 1])). This will likely lead to incorrect results due to broadcasting. Please ensure they have the same size.\n",
      "  return F.mse_loss(input, target, reduction=self.reduction)\n",
      "c:\\Users\\pantu\\.conda\\envs\\dl\\Lib\\site-packages\\torch\\nn\\modules\\loss.py:616: UserWarning: Using a target size (torch.Size([12])) that is different to the input size (torch.Size([12, 1])). This will likely lead to incorrect results due to broadcasting. Please ensure they have the same size.\n",
      "  return F.mse_loss(input, target, reduction=self.reduction)\n"
     ]
    }
   ],
   "source": [
    "# 6 \n",
    "import torch\n",
    "import torch.utils.data as data\n",
    "import torch.nn as nn\n",
    "import torch.optim as optim\n",
    "\n",
    "class FuncModel(nn.Module):\n",
    "    def __init__(self):\n",
    "        super().__init__()\n",
    "        # модель однослойной полносвязной нейронной сети:\n",
    "        # 1-й слой: число входов 5 (x, x^2, x^3, x^4, x^5), число нейронов 1\n",
    "        self.layer = nn.Linear(5, 1 )\n",
    "\n",
    "    def forward(self, x):\n",
    "        x.unsqueeze_(-1)\n",
    "        xx = torch.cat([x, x ** 2, x ** 3, x ** 4, x ** 5], dim=1)\n",
    "        y = self.layer(xx)\n",
    "        return y\n",
    "\n",
    "\n",
    "torch.manual_seed(1)\n",
    "\n",
    "model = FuncModel()# создать модель FuncModel\n",
    "\n",
    "epochs = 20 # число эпох обучения\n",
    "batch_size = 16 # размер батча\n",
    "\n",
    "# данные обучающей выборки (значения функции)\n",
    "data_x = torch.arange(-5, 5, 0.05) #тензоры data_x, data_y не менять\n",
    "data_y = torch.sin(2 * data_x) - 0.3 * torch.cos(8 * data_x) + 0.1 * data_x ** 2\n",
    "\n",
    "ds = data.TensorDataset(data_x, data_y) # создание dataset\n",
    "d_train, d_val = data.random_split(ds, [0.7, 0.3])  # разделить ds на две части в пропорции: 70% на 30%\n",
    "train_data = data.DataLoader(d_train,batch_size=batch_size,shuffle=True) # создать объект класса DataLoader для d_train с размером пакетов batch_size и перемешиванием образов выборки\n",
    "train_data_val = data.DataLoader(d_val,batch_size=batch_size,shuffle=False) # создать объект класса DataLoader для d_val с размером пакетов batch_size и без перемешивания образов выборки\n",
    "\n",
    "optimizer = optim.RMSprop(params=model.parameters(), lr=0.01) # создать оптимизатор RMSprop для обучения модели с шагом обучения 0.01\n",
    "loss_func = nn.MSELoss()# создать функцию потерь с помощью класса MSELoss\n",
    "\n",
    "loss_lst_val = []  # список значений потерь при валидации\n",
    "loss_lst = []  # список значений потерь при обучении\n",
    "\n",
    "for _e in range(epochs):\n",
    "    # перевести модель в режим обучения\n",
    "    model.train()\n",
    "    loss_mean = 0 # вспомогательные переменные для вычисления среднего значения потерь при обучении\n",
    "    lm_count = 0\n",
    "\n",
    "    for x_train, y_train in train_data:\n",
    "        predict = model(x_train) # вычислить прогноз модели для данных x_train\n",
    "        loss = loss_func(predict, y_train) # вычислить значение функции потерь\n",
    "\n",
    "        # сделать один шаг градиентного спуска для корректировки параметров модели\n",
    "        optimizer.zero_grad()\n",
    "        loss.backward()\n",
    "        optimizer.step()\n",
    "\n",
    "        # вычисление среднего значения функции потерь по всей выборке\n",
    "        lm_count += 1\n",
    "        loss_mean = 1 / lm_count * loss.item() + (1 - 1 / lm_count) * loss_mean\n",
    "\n",
    "    # валидация модели\n",
    "    # перевести модель в режим эксплуатации\n",
    "    model.eval()\n",
    "    Q_val = 0\n",
    "    count_val = 0\n",
    "\n",
    "    for x_val, y_val in train_data_val:\n",
    "        with torch.no_grad():\n",
    "            p = model(x_val)\n",
    "            loss = loss_func(p, y_val.unsqueeze(-1))\n",
    "            Q_val += loss.item()\n",
    "            count_val +=1\n",
    "            # для x_val, y_val вычислить потери с помощью функции loss_func\n",
    "\n",
    "    # сохранить средние потери, вычисленные по выборке валидации, в переменной Q_val\n",
    "    Q_val /= count_val\n",
    "\n",
    "    loss_lst.append(loss_mean)\n",
    "    loss_lst_val.append(Q_val)\n",
    "\n",
    "# перевести модель в режим эксплуатации\n",
    "model.eval()\n",
    "# выполнить прогноз модели по всем данным выборки (ds.data)\n",
    "p = model(data_x)\n",
    "Q = loss_func(p, data_y.unsqueeze(-1)).item()\n",
    "# вычислить потери с помощью loss_func по всем данным выборки ds; значение Q сохранить в виде вещественного числа"
   ]
  }
 ],
 "metadata": {
  "kernelspec": {
   "display_name": "dl",
   "language": "python",
   "name": "python3"
  },
  "language_info": {
   "codemirror_mode": {
    "name": "ipython",
    "version": 3
   },
   "file_extension": ".py",
   "mimetype": "text/x-python",
   "name": "python",
   "nbconvert_exporter": "python",
   "pygments_lexer": "ipython3",
   "version": "3.13.7"
  }
 },
 "nbformat": 4,
 "nbformat_minor": 5
}
