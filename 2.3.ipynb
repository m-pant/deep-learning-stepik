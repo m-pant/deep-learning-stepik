{
 "cells": [
  {
   "cell_type": "code",
   "execution_count": null,
   "id": "9e16498e",
   "metadata": {},
   "outputs": [
    {
     "data": {
      "text/plain": [
       "tensor([-1.,  1.])"
      ]
     },
     "execution_count": 5,
     "metadata": {},
     "output_type": "execute_result"
    }
   ],
   "source": [
    "# Фукции активации\n",
    "\n",
    "import torch\n",
    "import torch.nn.functional as F\n",
    "\n",
    "x = torch.tensor([-3243, 44324])\n",
    "\n",
    "# Только для выходных слоёd\n",
    "F.sigmoid(x)\n",
    "F.tanh(x)\n",
    "\n",
    "# Для скрытых слоёв\n",
    "F.relu(x)\n",
    "F.leaky_relu(x) # c наклоном в отрицательной области\n",
    "F.elu(x) # с наклоном в отрицательной области по экпоненте\n",
    "\n",
    "# для выхода\n",
    "F.linear(x) # линейная функция\n",
    "\n",
    "# Для многоклссовой SoftMax\n",
    "F.softmax(x)"
   ]
  },
  {
   "cell_type": "code",
   "execution_count": null,
   "id": "163dbab9",
   "metadata": {},
   "outputs": [
    {
     "data": {
      "text/plain": [
       "tensor([0.])"
      ]
     },
     "execution_count": 4,
     "metadata": {},
     "output_type": "execute_result"
    }
   ],
   "source": [
    "# Фукции потерь\n",
    "import torch.nn as nn\n",
    "\n",
    "nn.MSELoss() #cредний квадрат ошибки\n",
    "nn.L1Loss() #cреднаяя абсолютная ошибка\n",
    "nn.BCELoss() #бинарная кросс энтропия для задач бинарной классификации\n",
    "\n",
    "nn.BCEWithLogitsLoss() # тоже самое но с предварительным применением сигмоиды (повышают численную устойчивость)\n",
    "nn.CrossEntropyLoss() # Перекрестная кросс энтропия Для задач многоклассовой классификации\n",
    "nn.NLLLoss() # отрицательное логарифмическое правдоподобие"
   ]
  },
  {
   "cell_type": "code",
   "execution_count": null,
   "id": "e5b236d3",
   "metadata": {},
   "outputs": [],
   "source": [
    "# 8\n",
    "import torch\n",
    "\n",
    "# значения x, func, predict не менять\n",
    "x = torch.arange(-3, 3, 0.1)\n",
    "func = x ** 2 - 2 * torch.cos(x) - 5\n",
    "predict = func + torch.empty_like(func).normal_(0, 0.5)\n",
    "\n",
    "loss_func = torch.nn.MSELoss()\n",
    "Q = loss_func(predict,func).item()\n",
    "Q_mse = torch.mean((predict - func)**2).item()\n"
   ]
  },
  {
   "cell_type": "code",
   "execution_count": 8,
   "id": "98a6aa7c",
   "metadata": {},
   "outputs": [],
   "source": [
    "# 9\n",
    "import torch\n",
    "\n",
    "# значения predict, target не менять\n",
    "batch_size = 8\n",
    "target = torch.randint(0, 2, (batch_size, 1), dtype=torch.float32) # целевые значения\n",
    "predict = torch.empty(batch_size, 1).normal_(0, 2.0) # прогнозные значения\n",
    "\n",
    "loss_func = torch.nn.BCEWithLogitsLoss()\n",
    "Q = loss_func(predict,target).item()\n",
    "\n",
    "p = torch.nn.functional.sigmoid(predict)\n",
    "Q_bce = -(target * torch.log(p) + (1 - target) * torch.log(1-p)).mean().item()\n",
    "\n"
   ]
  }
 ],
 "metadata": {
  "kernelspec": {
   "display_name": "dl",
   "language": "python",
   "name": "python3"
  },
  "language_info": {
   "codemirror_mode": {
    "name": "ipython",
    "version": 3
   },
   "file_extension": ".py",
   "mimetype": "text/x-python",
   "name": "python",
   "nbconvert_exporter": "python",
   "pygments_lexer": "ipython3",
   "version": "3.13.7"
  }
 },
 "nbformat": 4,
 "nbformat_minor": 5
}
