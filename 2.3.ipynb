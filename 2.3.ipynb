{
 "cells": [
  {
   "cell_type": "code",
   "execution_count": null,
   "id": "9e16498e",
   "metadata": {},
   "outputs": [
    {
     "data": {
      "text/plain": [
       "tensor([-1.,  1.])"
      ]
     },
     "execution_count": 5,
     "metadata": {},
     "output_type": "execute_result"
    }
   ],
   "source": [
    "# Фукции активации\n",
    "\n",
    "import torch\n",
    "import torch.nn.functional as F\n",
    "\n",
    "x = torch.tensor([-3243, 44324])\n",
    "\n",
    "# Только для выходных слоёd\n",
    "F.sigmoid(x)\n",
    "F.tanh(x)\n",
    "\n",
    "# Для скрытых слоёв\n",
    "F.relu(x)\n",
    "F.leaky_relu(x) # c наклоном в отрицательной области\n",
    "F.elu(x) # с наклоном в отрицательной области по экпоненте\n",
    "\n",
    "# для выхода\n",
    "F.linear(x) # линейная функция\n",
    "\n",
    "# Для многоклссовой SoftMax\n",
    "F.softmax(x)"
   ]
  },
  {
   "cell_type": "code",
   "execution_count": null,
   "id": "163dbab9",
   "metadata": {},
   "outputs": [
    {
     "data": {
      "text/plain": [
       "tensor([0.])"
      ]
     },
     "execution_count": 4,
     "metadata": {},
     "output_type": "execute_result"
    }
   ],
   "source": [
    "# Фукции потерь\n",
    "import torch.nn as nn\n",
    "\n",
    "nn.MSELoss() #cредний квадрат ошибки\n",
    "nn.L1Loss() #cреднаяя абсолютная ошибка\n",
    "nn.BCELoss() #бинарная кросс энтропия для задач бинарной классификации\n",
    "\n",
    "nn.BCEWithLogitsLoss() # тоже самое но с предварительным применением сигмоиды (повышают численную устойчивость)\n",
    "nn.CrossEntropyLoss() # Перекрестная кросс энтропия Для задач многоклассовой классификации\n",
    "nn.NLLLoss() # отрицательное логарифмическое правдоподобие"
   ]
  },
  {
   "cell_type": "code",
   "execution_count": null,
   "id": "e5b236d3",
   "metadata": {},
   "outputs": [],
   "source": []
  }
 ],
 "metadata": {
  "kernelspec": {
   "display_name": "dl",
   "language": "python",
   "name": "python3"
  },
  "language_info": {
   "codemirror_mode": {
    "name": "ipython",
    "version": 3
   },
   "file_extension": ".py",
   "mimetype": "text/x-python",
   "name": "python",
   "nbconvert_exporter": "python",
   "pygments_lexer": "ipython3",
   "version": "3.13.7"
  }
 },
 "nbformat": 4,
 "nbformat_minor": 5
}
