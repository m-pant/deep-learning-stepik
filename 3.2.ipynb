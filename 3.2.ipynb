{
 "cells": [
  {
   "cell_type": "code",
   "execution_count": 5,
   "id": "a47865ff",
   "metadata": {},
   "outputs": [],
   "source": [
    "# 4\n",
    "import torch\n",
    "import torch.nn as nn\n",
    "\n",
    "C = 5                   # число каналов\n",
    "H, W = 32, 24           # размеры изображения: H - число строк; W - число столбцов\n",
    "kernel_size = (5, 3)    # размер ядра по осям (H, W)\n",
    "stride = (1, 1)         # шаг смещения ядра по осям (H, W)\n",
    "padding = 0             # размер нулевой области вокруг изображения (число строк и столбцов с каждой стороны)\n",
    "\n",
    "\n",
    "x = torch.randint(0, 255, (C, H, W), dtype=torch.float32) # тензор x в программе не менять\n",
    "\n",
    "# здесь продолжайте программу\n",
    "layer_nn = nn.Conv2d(in_channels=C,out_channels=1,kernel_size=kernel_size,stride=stride,padding=padding)\n",
    "t_out = layer_nn(x.unsqueeze(0))"
   ]
  },
  {
   "cell_type": "code",
   "execution_count": 2,
   "id": "f016dc77",
   "metadata": {},
   "outputs": [],
   "source": [
    "# 5\n",
    "import torch\n",
    "import torch.nn as nn\n",
    "\n",
    "C = 3                   # число каналов\n",
    "H, W = 17, 19           # размеры изображения: H - число строк; W - число столбцов\n",
    "kernel_size = (5, 5)    # размер ядра по осям (H, W)\n",
    "stride = (1, 1)         # шаг смещения ядра по осям (H, W)\n",
    "padding = (2, 2)        # размер нулевой области вокруг изображения (число строк и столбцов с каждой стороны)\n",
    "\n",
    "batch_size = 8\n",
    "x = torch.randint(0, 255, (batch_size, C, H, W), dtype=torch.float32) # тензор x в программе не менять\n",
    "\n",
    "# здесь продолжайте программу\n",
    "layer_nn = nn.Conv2d(in_channels=C, out_channels=5, padding=(padding), stride=stride, kernel_size=kernel_size)\n",
    "t_out = layer_nn(x)"
   ]
  },
  {
   "cell_type": "code",
   "execution_count": null,
   "id": "82a71bae",
   "metadata": {},
   "outputs": [],
   "source": [
    "# 6\n",
    "import torch\n",
    "import torch.nn as nn\n",
    "\n",
    "H, W = 32, 25\n",
    "x = torch.randint(0, 255, (H, W), dtype=torch.float32) # тензор x в программе не менять\n",
    "\n",
    "# здесь продолжайте программу\n",
    "MaxPooling = nn.MaxPool2d(kernel_size=(3,2))\n",
    "t_out = MaxPooling(x.view(1,1,H,W))\n"
   ]
  }
 ],
 "metadata": {
  "kernelspec": {
   "display_name": "torch",
   "language": "python",
   "name": "python3"
  },
  "language_info": {
   "codemirror_mode": {
    "name": "ipython",
    "version": 3
   },
   "file_extension": ".py",
   "mimetype": "text/x-python",
   "name": "python",
   "nbconvert_exporter": "python",
   "pygments_lexer": "ipython3",
   "version": "3.12.11"
  }
 },
 "nbformat": 4,
 "nbformat_minor": 5
}
