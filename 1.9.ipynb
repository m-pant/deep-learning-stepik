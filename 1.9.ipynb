{
 "cells": [
  {
   "cell_type": "code",
   "execution_count": null,
   "id": "bf405979",
   "metadata": {},
   "outputs": [],
   "source": [
    "# матричное перемножение\n",
    "import torch\n",
    "\n",
    "a = torch.arange(0,9).view(3,3)\n",
    "b = torch.arange(9,18).view(3,3)\n",
    "\n",
    "c = torch.matmul(a,b) # с возможностью транслирования, самая универсальная\n",
    "c = torch.mm(a,b) # запрещено транслирование и тольок 2D\n",
    "\n",
    "c = a.mm(b)\n",
    "\n",
    "# Умножение батчей\n",
    "bx = torch.randn(7,3,5)\n",
    "by = torch.randn(7,5,4)\n",
    "\n",
    "# Идет перемножение 7 матриц\n",
    "bc = torch.bmm(bx,by) # строго для матриц 3D"
   ]
  },
  {
   "cell_type": "code",
   "execution_count": null,
   "id": "c174785e",
   "metadata": {},
   "outputs": [],
   "source": [
    "# Вектороное перемножение\n",
    "import torch\n",
    "a = torch.arange(1,10).float()\n",
    "b = torch.ones(9).float()\n",
    "\n",
    "# Скалярное произведение\n",
    "c = torch.dot(a,b)\n",
    "c = a @ b\n",
    "\n",
    "# Внешнее приоизведение\n",
    "d = torch.outer(a,b)\n"
   ]
  },
  {
   "cell_type": "code",
   "execution_count": 7,
   "id": "ff2628db",
   "metadata": {},
   "outputs": [],
   "source": [
    "# Уможение матрица - вектор - матрица\n",
    "import torch\n",
    "v = torch.randn(3)\n",
    "m = torch.randn(3,3)\n",
    "\n",
    "r0 = torch.mv(m,v)\n",
    "r1 = m.mv(v)\n",
    "r2 = m @ v\n",
    "r3 = m.matmul(v)\n",
    "r4 = v @ m\n"
   ]
  },
  {
   "cell_type": "code",
   "execution_count": 20,
   "id": "64ddf16b",
   "metadata": {},
   "outputs": [],
   "source": [
    "# Линейная алгебра \n",
    "import torch\n",
    "\n",
    "a = torch.linspace(1,27,9,dtype=float).view(3,3) # линейое распределение\n",
    "b = torch.rand(3,3) # cлучайное распределение\n",
    "c = torch.randn(3,3) # нормальное распределение\n",
    "\n",
    "# ранг матрицы (число линейно независимых уравнений)\n",
    "rank_a = torch.linalg.matrix_rank(a)\n",
    "rank_b = torch.linalg.matrix_rank(b)\n",
    "rank_c = torch.linalg.matrix_rank(c)\n",
    "\n",
    "# Нахождение корней линейного уравения через solve\n",
    "y = torch.rand(3)\n",
    "X = torch.linalg.solve(b, y)\n",
    "\n",
    "# Нахождение корней линейного уравения через обратную матрицу\n",
    "inv_b = torch.linalg.inv(b)\n",
    "X1 = inv_b.mv(y)"
   ]
  },
  {
   "cell_type": "code",
   "execution_count": 5,
   "id": "1aafee03",
   "metadata": {},
   "outputs": [
    {
     "name": "stdout",
     "output_type": "stream",
     "text": [
      "42.7\n"
     ]
    }
   ],
   "source": [
    "# 5\n",
    "\n",
    "import torch\n",
    "\n",
    "w = list(map(float, \"-2.3 0.5 0.5 1.0\".split()))\n",
    "x = list(map(float, \"10 20 30\".split()))\n",
    "\n",
    "W = torch.tensor([w[1:]], dtype=torch.float32)\n",
    "bias = torch.tensor(w[0], dtype=torch.float32)\n",
    "t_inp = torch.tensor(x, dtype=torch.float32)\n",
    "\n",
    "y = W.mv(t_inp) + bias\n",
    "print(*y.numpy())\n"
   ]
  },
  {
   "cell_type": "code",
   "execution_count": 17,
   "id": "a4d8ec6f",
   "metadata": {},
   "outputs": [],
   "source": [
    "# 6\n",
    "import torch\n",
    "\n",
    "# все эти переменные в программе не менять\n",
    "W = torch.rand(3) * 10 - 5\n",
    "bias = torch.rand(1) * 100 - 50\n",
    "\n",
    "batch_size = 8 # размер мини-батча\n",
    "X = torch.empty(batch_size, 3).normal_(mean=1.0, std=4.0)\n",
    "\n",
    "predict = torch.sigmoid(X @ W + bias)\n",
    "\n"
   ]
  },
  {
   "cell_type": "code",
   "execution_count": 6,
   "id": "9da41420",
   "metadata": {},
   "outputs": [],
   "source": [
    "# 7\n",
    "import torch\n",
    "torch.manual_seed(0)\n",
    "\n",
    "# значения списков w и g в программе не менять\n",
    "w = list(map(float, \"0.12 0.14 0.34 0.15 0.7 0 0.9 0.21\".split()))\n",
    "g = list(map(float, \"0.6 0.8 0.11\".split()))\n",
    "\n",
    "\n",
    "# # Входные данные\n",
    "t_inp = torch.rand(3) * 10\n",
    "\n",
    "# Веса и смкещения\n",
    "W = torch.tensor(w).view(2,-1)\n",
    "W1 = W[...,1:]\n",
    "bias1 = W[...,:1]\n",
    "# W1 = torch.tensor(w[1:]).view(2,3) \n",
    "# W2 = torch.tensor(g[1:]).view(1,2)\n",
    "# bias1 = torch.tensor([w[0],w[4]])\n",
    "# bias2 = torch.tensor(g[:1])\n",
    "\n",
    "# # слой1\n",
    "# u =  torch.sigmoid(W1.mv(t_inp) + bias1) # W1 @ t_inp + bias1\n",
    "\n",
    "# # слой2\n",
    "# y = W2.mv(u) + bias2\n"
   ]
  },
  {
   "cell_type": "code",
   "execution_count": null,
   "id": "84b57473",
   "metadata": {},
   "outputs": [],
   "source": []
  }
 ],
 "metadata": {
  "kernelspec": {
   "display_name": "dl",
   "language": "python",
   "name": "python3"
  },
  "language_info": {
   "codemirror_mode": {
    "name": "ipython",
    "version": 3
   },
   "file_extension": ".py",
   "mimetype": "text/x-python",
   "name": "python",
   "nbconvert_exporter": "python",
   "pygments_lexer": "ipython3",
   "version": "3.13.7"
  }
 },
 "nbformat": 4,
 "nbformat_minor": 5
}
