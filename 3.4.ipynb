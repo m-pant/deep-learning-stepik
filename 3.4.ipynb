{
 "cells": [
  {
   "cell_type": "code",
   "execution_count": null,
   "id": "2aab3262",
   "metadata": {},
   "outputs": [
    {
     "name": "stdout",
     "output_type": "stream",
     "text": [
      "sports car: 0.9484\n",
      "racer: 0.0353\n",
      "convertible: 0.0088\n",
      "car wheel: 0.0054\n",
      "passenger car: 0.0005\n"
     ]
    }
   ],
   "source": [
    "# VGG working\n",
    "from torchvision import models\n",
    "import torchvision.transforms.v2 as tfs_v2\n",
    "from PIL import Image\n",
    "import torch\n",
    "\n",
    "\n",
    "vgg_weigths = weights=models.VGG16_Weights.DEFAULT\n",
    "cats = vgg_weigths.meta['categories']\n",
    "transforms  = vgg_weigths.transforms()\n",
    "\n",
    "# or transforms can be done that way\n",
    "transforms_v1  = tfs_v2.Compose([\n",
    "    tfs_v2.ToImage(),\n",
    "    tfs_v2.Resize(256),\n",
    "    tfs_v2.CenterCrop(224),\n",
    "    tfs_v2.ToDtype(dtype=torch.float32),\n",
    "    tfs_v2.Normalize(mean=[0.485, 0.456, 0.406], std = [0.229, 0.224, 0.225])\n",
    "])\n",
    "\n",
    "\n",
    "img = Image.open('datasets\\\\vgg\\\\image003.jpg').convert('RGB')\n",
    "img_net = transforms(img).unsqueeze(0)\n",
    "\n",
    "model = models.vgg16(weights=models.VGG16_Weights.DEFAULT)\n",
    "model.eval()\n",
    "p = model(img_net).squeeze()\n",
    "\n",
    "res = p.softmax(dim=0).sort(descending=True)\n",
    "# print(model)\n",
    "\n",
    "for s, i in zip(res[0][:5], res[1][:5]):\n",
    "    print(f\"{cats[i]}: {s:.4f}\")\n"
   ]
  },
  {
   "cell_type": "code",
   "execution_count": 16,
   "id": "e3cf2415",
   "metadata": {},
   "outputs": [],
   "source": [
    "# 5\n",
    "import torch\n",
    "import torchvision.transforms.v2 as tfs\n",
    "import torch.nn as nn\n",
    "\n",
    "from PIL import Image\n",
    "import torch\n",
    "\n",
    "C = 3\n",
    "img_pil = tfs.ToPILImage('RGB')(torch.Tensor(torch.rand((C, 400, 400)) * 256))\n",
    "\n",
    "\n",
    "# здесь продолжайте программу\n",
    "model = nn.Sequential(\n",
    "    nn.Conv2d(3, 64, 3, stride=1, padding=1, bias=True),\n",
    "    nn.ReLU(inplace=True),\n",
    "    nn.Conv2d(64, 64, 3, stride=1, padding=1, bias=True),\n",
    "    nn.ReLU(inplace=True),\n",
    "    nn.MaxPool2d(2,stride=2),\n",
    "    nn.Conv2d(64,128, 3, stride=1, padding=1, bias=True),\n",
    "    nn.ReLU(inplace=True),\n",
    "    nn.Conv2d(128,128,3,stride=1,padding=1,bias=True),\n",
    "    nn.ReLU(inplace=True),\n",
    "    nn.MaxPool2d(2, stride=2)\n",
    ")\n",
    "\n",
    "transforms = tfs.Compose([\n",
    "    tfs.ToImage(),\n",
    "    tfs.Resize(224),\n",
    "    tfs.ToDtype(dtype=torch.float32),\n",
    "     ])\n",
    "\n",
    "img = transforms(img_pil)\n",
    "out = model(img)"
   ]
  },
  {
   "cell_type": "code",
   "execution_count": 1,
   "id": "73ea65dd",
   "metadata": {},
   "outputs": [
    {
     "data": {
      "image/jpeg": "[encoded data removed]",
      "image/png": "[encoded data removed]",
      "text/plain": [
       "<PIL.Image.Image image mode=RGB size=32x32>"
      ]
     },
     "metadata": {},
     "output_type": "display_data"
    },
    {
     "name": "stdout",
     "output_type": "stream",
     "text": [
      "(32, 32)\n"
     ]
    }
   ],
   "source": [
    "# 6\n",
    "import torch\n",
    "import torch.nn as nn\n",
    "import torch.utils.data as data\n",
    "import torch.optim as optim\n",
    "\n",
    "\n",
    "# @title Неправильная генерация объекта ds\n",
    "import torch\n",
    "import torch.utils.data as data\n",
    "from PIL import Image # для тестовой картинки\n",
    "\n",
    "ds = lambda: None # Создаем пустой объект\n",
    "ds.data = torch.rand((256, 1, 32, 32)) * 256\n",
    "ds.target = torch.randint(0, 2, (256,)).float()\n",
    "\n",
    "# Проверка картинки\n",
    "img_pil = Image.fromarray(ds.data[0][0].numpy(), 'RGB')\n",
    "display(img_pil)\n",
    "print(img_pil.size)\n",
    "\n",
    "# здесь продолжайте программу\n",
    "# model = nn.Sequential([\n",
    "#     nn.Conv2d(1,32, 5, stride=1,padding=2, bias=True),\n",
    "#     nn.ReLU(inplace=True),\n",
    "#     nn.MaxPool2d(2, stride=2),\n",
    "#     nn.Conv2d(32,16, 3, stride=1, padding=1, bias=True),\n",
    "#     nn.ReLU(inplace=True),\n",
    "#     nn.MaxPool2d(2,stride=2),\n",
    "#     nn.Flatten(),\n",
    "#     nn.Linear(1024,1)\n",
    "# ])\n"
   ]
  },
  {
   "cell_type": "code",
   "execution_count": null,
   "id": "109772df",
   "metadata": {},
   "outputs": [],
   "source": []
  }
 ],
 "metadata": {
  "kernelspec": {
   "display_name": "dl",
   "language": "python",
   "name": "python3"
  },
  "language_info": {
   "codemirror_mode": {
    "name": "ipython",
    "version": 3
   },
   "file_extension": ".py",
   "mimetype": "text/x-python",
   "name": "python",
   "nbconvert_exporter": "python",
   "pygments_lexer": "ipython3",
   "version": "3.13.7"
  }
 },
 "nbformat": 4,
 "nbformat_minor": 5
}
