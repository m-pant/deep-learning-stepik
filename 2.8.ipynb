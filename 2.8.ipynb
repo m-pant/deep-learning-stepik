{
 "cells": [
  {
   "cell_type": "code",
   "execution_count": 1,
   "id": "38055a95",
   "metadata": {},
   "outputs": [],
   "source": [
    "import torch\n",
    "import torch.utils.data as data\n",
    "\n",
    "class MyDataset(data.Dataset):\n",
    "    def __init__(self, data_size=100):\n",
    "        self.data = torch.cat([torch.rand(data_size) - 2.0, torch.rand(data_size) + 2.0])\n",
    "        self.targets = torch.cat([torch.zeros(data_size), torch.ones(data_size)])\n",
    "        self.length = 2 * data_size\n",
    "\n",
    "    def __getitem__(self, item):\n",
    "        return self.data[item], self.targets[item]\n",
    "\n",
    "    def __len__(self):\n",
    "        return self.length\n",
    "\n",
    "\n",
    "d_train = MyDataset()"
   ]
  },
  {
   "cell_type": "code",
   "execution_count": 2,
   "id": "3e36ae9b",
   "metadata": {},
   "outputs": [],
   "source": [
    "import torch\n",
    "import torch.utils.data as data\n",
    "\n",
    "class MyDataset(data.Dataset):\n",
    "    def __init__(self, data_size=100):\n",
    "        self.data = torch.cat([torch.rand(data_size, 3, 4) - 2.0, torch.rand(data_size, 3, 4) + 2.0])\n",
    "        self.targets = torch.cat([torch.zeros(data_size, 1), torch.ones(data_size, 1)])\n",
    "        self.length = 2 * data_size\n",
    "\n",
    "    def __getitem__(self, item):\n",
    "        return self.data[item], self.targets[item]\n",
    "\n",
    "    def __len__(self):\n",
    "        return self.length\n",
    "\n",
    "\n",
    "batch_size = 16\n",
    "d_train = MyDataset()\n",
    "train_data = data.DataLoader(d_train, batch_size, shuffle=True, drop_last=True)\n",
    "\n",
    "# for x, t in train_data:\n",
    "#     print(x, t)\n"
   ]
  },
  {
   "cell_type": "code",
   "execution_count": 13,
   "id": "275c32f0",
   "metadata": {},
   "outputs": [],
   "source": [
    "# 6\n",
    "import torch\n",
    "import torch.nn as nn\n",
    "import torch.utils.data as data\n",
    "\n",
    "# здесь продолжайте программу\n",
    "class FuncDataset(data.Dataset):\n",
    "    def __init__(self):\n",
    "        self.coord_x = torch.arange(-5, 5, 0.1)\n",
    "        self.coord_y = 2 * torch.exp(-self.coord_x / 2) + 0.2 * torch.sin(self.coord_x / 10) - 5\n",
    "        self.length = len(self.coord_x)\n",
    "\n",
    "    def __getitem__(self, item):\n",
    "        return self.coord_x[item] , self.coord_y[item]\n",
    "\n",
    "    def __len__(self):\n",
    "        return self.length\n",
    "\n",
    "\n",
    "d_train = FuncDataset()\n",
    "x13 , y13 = d_train[13]\n",
    "total = len(d_train)"
   ]
  },
  {
   "cell_type": "code",
   "execution_count": 17,
   "id": "d76b4304",
   "metadata": {},
   "outputs": [],
   "source": [
    "# 7\n",
    "import torch\n",
    "import torch.nn as nn\n",
    "import torch.utils.data as data\n",
    "\n",
    "# здесь продолжайте программу\n",
    "batch_size = 12\n",
    "class ClassDataset(data.Dataset):\n",
    "    def __init__(self):\n",
    "        self.data_x = torch.tensor([(5.3, 2.3), (5.7, 2.5), (4.0, 1.0), (5.6, 2.4), (4.5, 1.5), (5.4, 2.3), (4.8, 1.8), (4.5, 1.5), (5.1, 1.5), (6.1, 2.3), (5.1, 1.9), (4.0, 1.2), (5.2, 2.0), (3.9, 1.4), (4.2, 1.2), (4.7, 1.5), (4.8, 1.8), (3.6, 1.3), (4.6, 1.4), (4.5, 1.7), (3.0, 1.1), (4.3, 1.3), (4.5, 1.3), (5.5, 2.1), (3.5, 1.0), (5.6, 2.2), (4.2, 1.5), (5.8, 1.8), (5.5, 1.8), (5.7, 2.3), (6.4, 2.0), (5.0, 1.7), (6.7, 2.0), (4.0, 1.3), (4.4, 1.4), (4.5, 1.5), (5.6, 2.4), (5.8, 1.6), (4.6, 1.3), (4.1, 1.3), (5.1, 2.3), (5.2, 2.3), (5.6, 1.4), (5.1, 1.8), (4.9, 1.5), (6.7, 2.2), (4.4, 1.3), (3.9, 1.1), (6.3, 1.8), (6.0, 1.8), (4.5, 1.6), (6.6, 2.1), (4.1, 1.3), (4.5, 1.5), (6.1, 2.5), (4.1, 1.0), (4.4, 1.2), (5.4, 2.1), (5.0, 1.5), (5.0, 2.0), (4.9, 1.5), (5.9, 2.1), (4.3, 1.3), (4.0, 1.3), (4.9, 2.0), (4.9, 1.8), (4.0, 1.3), (5.5, 1.8), (3.7, 1.0), (6.9, 2.3), (5.7, 2.1), (5.3, 1.9), (4.4, 1.4), (5.6, 1.8), (3.3, 1.0), (4.8, 1.8), (6.0, 2.5), (5.9, 2.3), (4.9, 1.8), (3.3, 1.0), (3.9, 1.2), (5.6, 2.1), (5.8, 2.2), (3.8, 1.1), (3.5, 1.0), (4.5, 1.5), (5.1, 1.9), (4.7, 1.4), (5.1, 1.6), (5.1, 2.0), (4.8, 1.4), (5.0, 1.9), (5.1, 2.4), (4.6, 1.5), (6.1, 1.9), (4.7, 1.6), (4.7, 1.4), (4.7, 1.2), (4.2, 1.3), (4.2, 1.3)])\n",
    "        self.data_y = torch.tensor([1, 1, -1, 1, -1, 1, 1, -1, 1, 1, 1, -1, 1, -1, -1, -1, -1, -1, -1, 1, -1, -1, -1, 1, -1, 1, -1, 1, 1, 1, 1, -1, 1, -1, -1, -1, 1, 1, -1, -1, 1, 1, 1, 1, -1, 1, -1, -1, 1, 1, -1, 1, -1, -1, 1, -1, -1, 1, 1, 1, -1, 1, -1, -1, 1, 1, -1, 1, -1, 1, 1, 1, -1, 1, -1, 1, 1, 1, 1, -1, -1, 1, 1, -1, -1, -1, 1, -1, -1, 1, -1, 1, 1, -1, 1, -1, -1, -1, -1, -1])\n",
    "        self.length = len(self.data_x)\n",
    "    def __getitem__(self, index):\n",
    "        return self.data_x[index] , self.data_y[index]\n",
    "    \n",
    "    def __len__(self):\n",
    "        return self.length\n",
    "    \n",
    "d_train = ClassDataset()\n",
    "train_data = data.DataLoader(d_train, batch_size=batch_size,shuffle =True, drop_last = True)\n",
    "\n",
    "data_sum = torch.zeros(batch_size,2)\n",
    "\n",
    "for x, y in train_data:\n",
    "    data_sum+=x"
   ]
  },
  {
   "cell_type": "code",
   "execution_count": null,
   "id": "371a905e",
   "metadata": {},
   "outputs": [],
   "source": [
    "import torch.optim as optim\n",
    "\n",
    "optim.Ad"
   ]
  }
 ],
 "metadata": {
  "kernelspec": {
   "display_name": "dl",
   "language": "python",
   "name": "python3"
  },
  "language_info": {
   "codemirror_mode": {
    "name": "ipython",
    "version": 3
   },
   "file_extension": ".py",
   "mimetype": "text/x-python",
   "name": "python",
   "nbconvert_exporter": "python",
   "pygments_lexer": "ipython3",
   "version": "3.13.7"
  }
 },
 "nbformat": 4,
 "nbformat_minor": 5
}
