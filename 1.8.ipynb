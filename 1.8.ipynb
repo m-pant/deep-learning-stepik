{
 "cells": [
  {
   "cell_type": "code",
   "execution_count": null,
   "id": "077ea022",
   "metadata": {},
   "outputs": [],
   "source": [
    "# Сумма и среднее\n",
    "import torch\n",
    "\n",
    "t = torch.arange(0,12,1).view(3,4)\n",
    "\n",
    "# Сумма по осям\n",
    "t.sum(dim=1)\n",
    "\n",
    "# Макс по осям\n",
    "t.max(dim=1) #возврат тезора и индексов\n",
    "t.amax(dim=1) #возврат тезора\n",
    "t.argmax(dim=1) #возврат индексов"
   ]
  },
  {
   "cell_type": "code",
   "execution_count": null,
   "id": "43b53aa3",
   "metadata": {},
   "outputs": [],
   "source": [
    "# Конвертация в типы\n",
    "t1 = t.float()\n",
    "\n",
    "#Округление\n",
    "t1.round_(decimals=2)"
   ]
  },
  {
   "cell_type": "code",
   "execution_count": null,
   "id": "c56eab2c",
   "metadata": {},
   "outputs": [],
   "source": [
    "# вычисление стат характиристик случ величин\n",
    "\n",
    "x = torch.randint(low=1, high=22, size=(1,12), dtype=torch.float32)\n",
    "y = torch.randint(low=1, high=22, size=(1,12),dtype=torch.float32)\n",
    "\n",
    "x.median() # Считаем медиану\n",
    "x.var() # Дисперсия\n",
    "x.std() # Ст отклонение\n",
    "\n",
    "# Автокорреляционная матрица (с номализацией, диагональ всегда 1, по другой одинаковые значения)\n",
    "XY_cor = torch.vstack([x,y]).corrcoef()\n",
    "\n",
    "# Ковариационная матрица (с дисперсиями и ковариацией по диагонали)\n",
    "XY_cov = torch.vstack([x,y]).cov()\n",
    "\n",
    "print(x,y,x.median(),x.var(),x.std(),XY_cor,XY_cov,sep=\"\\n\")\n",
    "# torch.median(t1) # медиана\n",
    "# torch.var(t1) # дисперсия\n",
    "# torch.std(t1) # cтандартное оклонение\n",
    "# torch.corrcoef(t1) # Коэффициент корреляции Пирсона\n",
    "# torch.cov(t1) # Ковариация\n",
    "\n",
    "\n"
   ]
  },
  {
   "cell_type": "code",
   "execution_count": null,
   "id": "00fd1b30",
   "metadata": {},
   "outputs": [],
   "source": [
    "# 1 \n",
    "t_rnd = torch.randint(-3, 5, (100, ), dtype=torch.float32)\n",
    "t_mean  = t_rnd.mean().item()\n",
    "t_max = t_rnd[:5].max().item()\n",
    "t_min = t_rnd[-3:].min().item()\n",
    "print(t_mean,t_max,t_min)"
   ]
  },
  {
   "cell_type": "code",
   "execution_count": null,
   "id": "ec628ac5",
   "metadata": {},
   "outputs": [],
   "source": [
    "# 2\n",
    "lst = list(map(int, \"5 4 7 3 2\".split()))\n",
    "\n",
    "targets = torch.tensor(lst, dtype=torch.int64)\n",
    "t_onehot = torch.eye(targets.max()+1)[targets]\n",
    "\n",
    "t_bags = t_onehot.sum(dim=0)\n",
    "pred = t_bags.argmax().item()"
   ]
  },
  {
   "cell_type": "code",
   "execution_count": null,
   "id": "dd2ec5ee",
   "metadata": {},
   "outputs": [],
   "source": [
    "# 4\n",
    "a, b, n = map(float, \"-2 3 10\".split()) # переменные a, b, n в программе не менять\n",
    "t_range = torch.linspace(a,b,int(n))\n",
    "t_out = torch.sigmoid(t_range)\n",
    "t_pred = t_out.argmax().item()\n",
    "\n",
    "print(t_range, t_out, t_pred, sep=\"\\n\")\n"
   ]
  },
  {
   "cell_type": "code",
   "execution_count": null,
   "id": "c5f60317",
   "metadata": {},
   "outputs": [],
   "source": [
    "# 5\n",
    "import torch\n",
    "\n",
    "t_out = torch.randn(10, dtype=torch.float32) * 10 - 5 # тензор t_out в программе не менять\n",
    "t_pred = torch.softmax(t_out,0)\n",
    "t_indx_min = t_pred.argmin().item()"
   ]
  },
  {
   "cell_type": "code",
   "execution_count": null,
   "id": "48b566b0",
   "metadata": {},
   "outputs": [],
   "source": [
    "# 7\n",
    "import torch\n",
    "\n",
    "# переменные lst и t_salaries в программе не менять\n",
    "lst = list(map(int, \"39390 82672 68902 35165 32969 97967 28057 66890 85532 43443 21427 68419 68605 29956 76932 79372\".split()))\n",
    "t_salaries = torch.tensor(lst, dtype=torch.int32)\n",
    "t_median = t_salaries.median().item()\n",
    "t_mean = t_salaries.float().mean().item()\n",
    "t_std = t_salaries.float().std().item()\n",
    "\n",
    "t_low = t_salaries[t_salaries < t_median]\n",
    "t_hi = t_salaries[t_salaries > t_median]\n"
   ]
  },
  {
   "cell_type": "code",
   "execution_count": 1,
   "id": "a9a7938f",
   "metadata": {},
   "outputs": [],
   "source": [
    "# 8\n",
    "import torch\n",
    "\n",
    "# переменные lst и t_videos в программе не менять\n",
    "lst = list(map(int, \"46294 43525 55769 64791 13620 91130 22601 57158 66245 34398 23007\".split()))\n",
    "t_videos = torch.tensor(lst, dtype=torch.int32)\n",
    "\n",
    "t_median = t_videos.median().item()\n",
    "t_mean  = t_videos.float().mean().item()\n",
    "t_disp = t_videos.float().var().item()\n",
    "t_low_count = sum(t_videos[t_videos <t_mean]).item()\n",
    "t_hi_count  = sum(t_videos[t_videos >t_mean]).item()\n"
   ]
  },
  {
   "cell_type": "code",
   "execution_count": 1,
   "id": "8beead6f",
   "metadata": {},
   "outputs": [],
   "source": [
    "# 9\n",
    "import torch\n",
    "\n",
    "# переменные lst и t_rect_lst в программе не менять\n",
    "lst = list(map(float, \"11 3 23 97 88 67 22 11 85 50 47 42 22 18 40 87 38 75 28 99 62 14 2 60 98 56\".split()))\n",
    "t_rect_lst = torch.tensor(lst, dtype=torch.int32).view(-1, 2)\n",
    "\n",
    "sum_sq = t_rect_lst[...,:1] * t_rect_lst[...,1:]\n",
    "t_sum_sq = sum(sum_sq).item()\n",
    "t_min_idx = sum_sq.argmin().item()\n",
    "t_max_idx = sum_sq.argmax().item()\n",
    "t_min_per  = ((t_rect_lst[t_min_idx,:1] + t_rect_lst[t_min_idx,1:]) *2).item()\n",
    "t_max_per = ((t_rect_lst[t_max_idx,:1] + t_rect_lst[t_max_idx,1:]) *2).item() "
   ]
  },
  {
   "cell_type": "code",
   "execution_count": null,
   "id": "48584a31",
   "metadata": {},
   "outputs": [],
   "source": [
    "# 10\n",
    "import torch\n",
    "\n",
    "# переменные lst и t_box_lst в программе не менять\n",
    "lst = list(map(float, \"49 66 74 17 38 49 2 46 35 94 100 8 29 41 26 47 24 12 14 25 27 25 91 25\".split()))\n",
    "t_box_lst = torch.tensor(lst, dtype=torch.int32).view(-1, 3)\n",
    "\n",
    "t_box_vol = t_box_lst[...,0] * t_box_lst[...,1] * t_box_lst[...,2]\n",
    "\n",
    "t_mean_vol = t_box_vol.float().mean().item()\n",
    "t_min_vol = min(t_box_vol[t_box_vol > t_mean_vol]).item()\n",
    "t_max_vol = max(t_box_vol[t_box_vol < t_mean_vol]).item()"
   ]
  }
 ],
 "metadata": {
  "kernelspec": {
   "display_name": "dl",
   "language": "python",
   "name": "python3"
  },
  "language_info": {
   "codemirror_mode": {
    "name": "ipython",
    "version": 3
   },
   "file_extension": ".py",
   "mimetype": "text/x-python",
   "name": "python",
   "nbconvert_exporter": "python",
   "pygments_lexer": "ipython3",
   "version": "3.13.7"
  }
 },
 "nbformat": 4,
 "nbformat_minor": 5
}
