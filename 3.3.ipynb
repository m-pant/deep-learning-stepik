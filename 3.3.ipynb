{
 "cells": [
  {
   "cell_type": "code",
   "execution_count": null,
   "id": "06051f0f",
   "metadata": {},
   "outputs": [
    {
     "name": "stderr",
     "output_type": "stream",
     "text": [
      "<>:44: SyntaxWarning: invalid escape sequence '\\d'\n",
      "<>:95: SyntaxWarning: invalid escape sequence '\\d'\n",
      "<>:44: SyntaxWarning: invalid escape sequence '\\d'\n",
      "<>:95: SyntaxWarning: invalid escape sequence '\\d'\n",
      "C:\\Users\\pantu\\AppData\\Local\\Temp\\ipykernel_32716\\3204736435.py:44: SyntaxWarning: invalid escape sequence '\\d'\n",
      "  d_train = SunDataset(\"datasets\\dataset_reg\", transform=transforms)\n",
      "C:\\Users\\pantu\\AppData\\Local\\Temp\\ipykernel_32716\\3204736435.py:95: SyntaxWarning: invalid escape sequence '\\d'\n",
      "  d_test = SunDataset(\"datasets\\dataset_reg\",train=False, transform=transforms)\n"
     ]
    },
    {
     "name": "stdout",
     "output_type": "stream",
     "text": [
      "Using device: cuda\n"
     ]
    },
    {
     "name": "stderr",
     "output_type": "stream",
     "text": [
      "100%|██████████| 20/20 [00:01<00:00, 11.69it/s]"
     ]
    },
    {
     "name": "stdout",
     "output_type": "stream",
     "text": [
      "19121.8736328125\n"
     ]
    },
    {
     "name": "stderr",
     "output_type": "stream",
     "text": [
      "\n"
     ]
    }
   ],
   "source": [
    "import torch\n",
    "import torch.nn as nn\n",
    "import torch.optim as optim\n",
    "import torch.utils.data as data\n",
    "\n",
    "import torchvision.transforms.v2 as tfs\n",
    "import torch.nn as nn\n",
    "from tqdm import tqdm\n",
    "import json\n",
    "import os\n",
    "from PIL import Image\n",
    "\n",
    "device = torch.device('cuda' if torch.cuda.is_available() else 'cpu')\n",
    "print(f\"Using device: {device}\")\n",
    "\n",
    "\n",
    "class SunDataset(data.Dataset):\n",
    "    def __init__(self, path, train=True, transform=None):\n",
    "        self.path = os.path.join(path , \"train\" if train else \"test\")\n",
    "        self.transform = transform\n",
    "\n",
    "        # Loading json file\n",
    "        with open(os.path.join(self.path, \"format.json\"), 'r') as fp:\n",
    "            self.format = json.load(fp)\n",
    "        \n",
    "        self.length = len(self.format)\n",
    "        self.files = tuple(self.format.keys())\n",
    "        self.targets = tuple(self.format.values())\n",
    "\n",
    "    def __getitem__(self, item):\n",
    "        path_file = os.path.join(self.path, self.files[item])\n",
    "        img = Image.open(path_file).convert('RGB')\n",
    "\n",
    "        if self.transform:\n",
    "            img = self.transform(img)\n",
    "        \n",
    "        return img, torch.tensor(self.targets[item], dtype=torch.float32)\n",
    "        \n",
    "    def __len__(self):\n",
    "        return self.length\n",
    "\n",
    "# Creation of object data loader\n",
    "transforms = tfs.Compose([tfs.ToImage(), tfs.ToDtype(torch.float32, scale=True)])\n",
    "d_train = SunDataset(\"datasets\\dataset_reg\", transform=transforms)\n",
    "train_data = data.DataLoader(d_train, batch_size=32, shuffle=True)\n",
    "\n",
    "\n",
    "model = nn.Sequential(\n",
    "    nn.Conv2d(3, 32, 3, padding='same'),\n",
    "    nn.ReLU(),\n",
    "    nn.MaxPool2d(2), # (batch, 32, 128, 128)\n",
    "    nn.Conv2d(32, 8, 3, padding='same'),\n",
    "    nn.ReLU(),\n",
    "    nn.MaxPool2d(2), # (batch, 8,64,64)\n",
    "    nn.Conv2d(8, 4, 3, padding='same'),\n",
    "    nn.ReLU(),\n",
    "    nn.MaxPool2d(2), # (batch, 4,32,32)\n",
    "    nn.Flatten(), # (batch, 4096)\n",
    "    nn.Linear(4096, 128),\n",
    "    nn.ReLU(),\n",
    "    nn.Linear(128,2)\n",
    ")\n",
    "\n",
    "optimizer = optim.Adam(params=model.parameters(), lr= 0.001, weight_decay=0.001)\n",
    "loss_function= nn.MSELoss()\n",
    "\n",
    "epochs = 5\n",
    "model.to(device)\n",
    "model.train()\n",
    "\n",
    "for _e in range(epochs):\n",
    "    loss_mean = 0\n",
    "    lm_count = 0\n",
    "\n",
    "    train_tqdm = tqdm(train_data, leave=True)\n",
    "    for x_train, y_train in train_tqdm:\n",
    "        x_train = x_train.to(device)\n",
    "        y_train = y_train.to(device)\n",
    "        predict = model(x_train)\n",
    "        loss = loss_function(predict, y_train)\n",
    "\n",
    "        optimizer.zero_grad()\n",
    "        loss.backward()\n",
    "        optimizer.step()\n",
    "\n",
    "        lm_count+=1\n",
    "        loss_mean = 1/lm_count *loss.item() + (1 -1/lm_count)*loss_mean\n",
    "        train_tqdm.set_description(f\"Epoch {_e+1}/epochs{epochs}, loss_mean = {loss_mean:.3f}\")\n",
    "\n",
    "\n",
    "st = model.state_dict()\n",
    "torch.save(st, 'model_sun.tar')\n",
    "\n",
    "# Evaluation\n",
    "d_test = SunDataset(\"datasets\\dataset_reg\",train=False, transform=transforms)\n",
    "test_data = data.DataLoader(d_test, batch_size = 50, shuffle = False)\n",
    "\n",
    "Q = 0 \n",
    "count = 0\n",
    "model.eval()\n",
    "\n",
    "test_tqdm = tqdm(test_data, leave=True)\n",
    "for x_test, y_test in test_tqdm:\n",
    "    with torch.no_grad():\n",
    "        x_test = x_test.to(device)\n",
    "        y_test = y_test.to(device)\n",
    "        p = model(x_test)\n",
    "        Q += loss_function(p, y_test).item()\n",
    "        count+=1\n",
    "Q /= count\n",
    "print(Q)\n"
   ]
  },
  {
   "cell_type": "code",
   "execution_count": null,
   "id": "a13aee0c",
   "metadata": {},
   "outputs": [],
   "source": [
    "# Inference\n"
   ]
  }
 ],
 "metadata": {
  "kernelspec": {
   "display_name": "dl",
   "language": "python",
   "name": "python3"
  },
  "language_info": {
   "codemirror_mode": {
    "name": "ipython",
    "version": 3
   },
   "file_extension": ".py",
   "mimetype": "text/x-python",
   "name": "python",
   "nbconvert_exporter": "python",
   "pygments_lexer": "ipython3",
   "version": "3.13.7"
  }
 },
 "nbformat": 4,
 "nbformat_minor": 5
}
