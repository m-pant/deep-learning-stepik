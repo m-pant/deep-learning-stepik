{
 "cells": [
  {
   "cell_type": "code",
   "execution_count": 8,
   "id": "7383c0a9",
   "metadata": {},
   "outputs": [
    {
     "name": "stdout",
     "output_type": "stream",
     "text": [
      "tensor([[5, 5, 5, 5]])\n",
      "tensor([-5, -3, -1])\n",
      "tensor([1.0000, 1.1111, 1.2222, 1.3333, 1.4444, 1.5556, 1.6667, 1.7778, 1.8889,\n",
      "        2.0000])\n"
     ]
    }
   ],
   "source": [
    "import torch\n",
    "\n",
    "# Заполнить значениями\n",
    "t = torch.full((1,4),5)\n",
    "\n",
    "# Диапазон с шагом\n",
    "t2 = torch.arange(-5,0,2)\n",
    "\n",
    "# Создать интервал с разбиением\n",
    "t3 = torch.linspace(1,2,10)\n",
    "\n",
    "print(t)\n",
    "print(t2)\n",
    "print(t3)"
   ]
  },
  {
   "cell_type": "code",
   "execution_count": 12,
   "id": "b5948a73",
   "metadata": {},
   "outputs": [
    {
     "name": "stdout",
     "output_type": "stream",
     "text": [
      "tensor([[0.4963, 0.7682, 0.0885],\n",
      "        [0.1320, 0.3074, 0.6341]])\n",
      "tensor([[ 1.2645, -0.6874,  0.1604],\n",
      "        [-0.6065, -0.7831,  1.0622]])\n"
     ]
    }
   ],
   "source": [
    "#Фиксация датчика случайных чисел\n",
    "torch.manual_seed(0)\n",
    "\n",
    "# Случайные числа\n",
    "t4 = torch.rand(2,3)\n",
    "\n",
    "# Случайные числа с норм распределением\n",
    "t5 = torch.randn(2,3)\n",
    "print(t4)\n",
    "print(t5)\n"
   ]
  },
  {
   "cell_type": "code",
   "execution_count": 20,
   "id": "b936efcb",
   "metadata": {},
   "outputs": [
    {
     "name": "stdout",
     "output_type": "stream",
     "text": [
      "tensor([[3., 1., 4., 1.],\n",
      "        [1., 0., 2., 4.]])\n",
      "tensor([[0.8802, 0.0012, 0.5936, 0.4158],\n",
      "        [0.4177, 0.2711, 0.6923, 0.2038]])\n",
      "tensor([[-1.9513,  0.4186,  3.3214,  0.8764],\n",
      "        [ 1.2345, -1.1642, -0.0240,  0.6480]])\n"
     ]
    }
   ],
   "source": [
    "# Inplace методы _\n",
    "t5 = torch.FloatTensor(2,4)\n",
    "t5.fill_(5)\n",
    "\n",
    "# случайные дискретные значения\n",
    "t5.random_(0,5)\n",
    "print(t5)\n",
    "\n",
    "# Случайные непрерывные значения\n",
    "t5.uniform_(0,1)\n",
    "print(t5)\n",
    "\n",
    "# Случайные гаусовские значения\n",
    "t5.normal_(0,1)\n",
    "print(t5)"
   ]
  },
  {
   "cell_type": "code",
   "execution_count": null,
   "id": "e97c49d8",
   "metadata": {},
   "outputs": [],
   "source": []
  }
 ],
 "metadata": {
  "kernelspec": {
   "display_name": "torch",
   "language": "python",
   "name": "python3"
  },
  "language_info": {
   "codemirror_mode": {
    "name": "ipython",
    "version": 3
   },
   "file_extension": ".py",
   "mimetype": "text/x-python",
   "name": "python",
   "nbconvert_exporter": "python",
   "pygments_lexer": "ipython3",
   "version": "3.12.11"
  }
 },
 "nbformat": 4,
 "nbformat_minor": 5
}
