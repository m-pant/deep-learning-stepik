{
 "cells": [
  {
   "cell_type": "code",
   "execution_count": null,
   "id": "7383c0a9",
   "metadata": {},
   "outputs": [
    {
     "name": "stdout",
     "output_type": "stream",
     "text": [
      "tensor([[5, 5, 5, 5]])\n",
      "tensor([-5, -3, -1])\n",
      "tensor([1.0000, 1.1111, 1.2222, 1.3333, 1.4444, 1.5556, 1.6667, 1.7778, 1.8889,\n",
      "        2.0000])\n"
     ]
    }
   ],
   "source": [
    "import torch\n",
    "# Заполнение 1\n",
    "t0 = torch.ones(2,3)\n",
    "\n",
    "# Заполнить значениями\n",
    "t = torch.full((1,4),5)\n",
    "\n",
    "# Диапазон с шагом\n",
    "t2 = torch.arange(-5,0,2)\n",
    "\n",
    "# Создать интервал с разбиением\n",
    "t3 = torch.linspace(1,2,10)\n",
    "\n",
    "print(t0)\n",
    "print(t)\n",
    "print(t2)\n",
    "print(t3)"
   ]
  },
  {
   "cell_type": "code",
   "execution_count": 12,
   "id": "b5948a73",
   "metadata": {},
   "outputs": [
    {
     "name": "stdout",
     "output_type": "stream",
     "text": [
      "tensor([[0.4963, 0.7682, 0.0885],\n",
      "        [0.1320, 0.3074, 0.6341]])\n",
      "tensor([[ 1.2645, -0.6874,  0.1604],\n",
      "        [-0.6065, -0.7831,  1.0622]])\n"
     ]
    }
   ],
   "source": [
    "#Фиксация датчика случайных чисел\n",
    "torch.manual_seed(0)\n",
    "\n",
    "# Случайные числа\n",
    "t4 = torch.rand(2,3)\n",
    "\n",
    "# Случайные числа с норм распределением\n",
    "t5 = torch.randn(2,3)\n",
    "print(t4)\n",
    "print(t5)\n"
   ]
  },
  {
   "cell_type": "code",
   "execution_count": 20,
   "id": "b936efcb",
   "metadata": {},
   "outputs": [
    {
     "name": "stdout",
     "output_type": "stream",
     "text": [
      "tensor([[3., 1., 4., 1.],\n",
      "        [1., 0., 2., 4.]])\n",
      "tensor([[0.8802, 0.0012, 0.5936, 0.4158],\n",
      "        [0.4177, 0.2711, 0.6923, 0.2038]])\n",
      "tensor([[-1.9513,  0.4186,  3.3214,  0.8764],\n",
      "        [ 1.2345, -1.1642, -0.0240,  0.6480]])\n"
     ]
    }
   ],
   "source": [
    "# Inplace методы _\n",
    "t5 = torch.FloatTensor(2,4)\n",
    "t5.fill_(5)\n",
    "\n",
    "# случайные дискретные значения\n",
    "t5.random_(0,5)\n",
    "print(t5)\n",
    "\n",
    "# Случайные непрерывные значения\n",
    "t5.uniform_(0,1)\n",
    "print(t5)\n",
    "\n",
    "# Случайные гаусовские значения\n",
    "t5.normal_(0,1)\n",
    "print(t5)"
   ]
  },
  {
   "cell_type": "code",
   "execution_count": 22,
   "id": "e97c49d8",
   "metadata": {},
   "outputs": [
    {
     "name": "stdout",
     "output_type": "stream",
     "text": [
      "tensor([[[ 0,  1,  2],\n",
      "         [ 3,  4,  5],\n",
      "         [ 6,  7,  8]],\n",
      "\n",
      "        [[ 9, 10, 11],\n",
      "         [12, 13, 14],\n",
      "         [15, 16, 17]],\n",
      "\n",
      "        [[18, 19, 20],\n",
      "         [21, 22, 23],\n",
      "         [24, 25, 26]]])\n",
      "tensor([[0, 1],\n",
      "        [2, 3]])\n",
      "tensor([0, 1, 2, 3])\n"
     ]
    }
   ],
   "source": [
    "# Изменеие формы\n",
    "x = torch.arange(27)\n",
    "d = x.reshape(3,3,3)\n",
    "d1 = x.view(3,3,3)\n",
    "\n",
    "# Изменение размера\n",
    "d2 = x.resize_(2,2)\n",
    "\n",
    "# Преобразовать в  вектор\n",
    "d3 = x.ravel()\n",
    "\n",
    "# Смена осей для размерностей > 2\n",
    "d.permute(1,0,2)\n",
    "\n",
    "# Транспонирование\n",
    "d.mT\n",
    "\n",
    "print(d1)\n",
    "print(d2)\n",
    "print(d3)"
   ]
  },
  {
   "cell_type": "code",
   "execution_count": null,
   "id": "df673918",
   "metadata": {},
   "outputs": [
    {
     "name": "stdout",
     "output_type": "stream",
     "text": [
      "torch.Size([8, 2, 2])\n",
      "torch.Size([1, 8, 2, 2])\n",
      "torch.Size([8, 2, 2])\n"
     ]
    }
   ],
   "source": [
    "# Добавление осей и удаление осей (только с 1 элементом!)\n",
    "x_test = torch.arange(32).view(8,2,2)\n",
    "\n",
    "x_test4 = torch.unsqueeze(x_test, dim=0)\n",
    "\n",
    "# Добавить последнюю ось\n",
    "x_test5 = torch.unsqueeze(x_test, dim=-1)\n",
    "\n",
    "# Удалить ось\n",
    "x_test5.squeeze_(dim=-1)\n",
    "\n",
    "print(x_test.shape)\n",
    "print(x_test4.shape)\n",
    "print(x_test5.shape)\n"
   ]
  },
  {
   "cell_type": "code",
   "execution_count": null,
   "id": "7175e695",
   "metadata": {},
   "outputs": [],
   "source": [
    "# 1\n",
    "import torch\n",
    "\n",
    "t1 = torch.zeros((4,8,2),dtype=torch.int8)\n",
    "t2 = torch.ones((1,9),dtype=torch.int8)\n",
    "t3 = torch.eye(5,4, dtype=torch.int8)\n",
    "t4 = torch.full((2,7,1,5),-5,dtype=torch.int8)\n"
   ]
  },
  {
   "cell_type": "code",
   "execution_count": 99,
   "id": "4a698109",
   "metadata": {},
   "outputs": [],
   "source": [
    "# 2\n",
    "t1 = torch.arange(2,11,dtype=torch.float32)\n",
    "t2 = torch.arange(21.,25.,0.5,dtype=torch.float32).view(1,8)\n",
    "t3 = torch.arange(0., -2., -0.2 ).view(5,2)"
   ]
  },
  {
   "cell_type": "code",
   "execution_count": 107,
   "id": "a3cb0283",
   "metadata": {},
   "outputs": [
    {
     "data": {
      "text/plain": [
       "tensor([[ 5.0000],\n",
       "        [ 2.5000],\n",
       "        [ 0.0000],\n",
       "        [-2.5000],\n",
       "        [-5.0000]])"
      ]
     },
     "execution_count": 107,
     "metadata": {},
     "output_type": "execute_result"
    }
   ],
   "source": [
    "# 3\n",
    "t1 = torch.linspace(3,7,3)\n",
    "t2 = torch.linspace(9,-9,10)\n",
    "t3 = torch.linspace(5, -5, 5).view(-1,1)\n",
    "\n",
    "t3"
   ]
  },
  {
   "cell_type": "code",
   "execution_count": null,
   "id": "9a6a9e85",
   "metadata": {},
   "outputs": [
    {
     "data": {
      "text/plain": [
       "tensor([[ 3,  5,  2, -4, -3],\n",
       "        [-5, -1, -1,  1, -5],\n",
       "        [-4, -3, -4, -2, -3]], dtype=torch.int16)"
      ]
     },
     "execution_count": 125,
     "metadata": {},
     "output_type": "execute_result"
    }
   ],
   "source": [
    "# 4\n",
    "t1 = torch.rand(21, dtype=torch.float32)  # равномерно распределенных\n",
    "t2 = torch.randint(low=-5, high=6, size=(3, 5), dtype=torch.int16) # равномерно распределенны\n",
    "t3 = torch.randn(64, 128, dtype=torch.float64) #нормально распределенных\n",
    "\n",
    "# или\n",
    "t1 = torch.rand(21,dtype=torch.float32)\n",
    "t2 = torch.ones((3,5),dtype=torch.int16).random_(-5,6)\n",
    "t3 = torch.ones((64,128),dtype=torch.float64).normal_()\n",
    " "
   ]
  },
  {
   "cell_type": "code",
   "execution_count": null,
   "id": "2a48f46d",
   "metadata": {},
   "outputs": [
    {
     "data": {
      "text/plain": [
       "torch.float32"
      ]
     },
     "execution_count": 134,
     "metadata": {},
     "output_type": "execute_result"
    }
   ],
   "source": [
    "# 8\n",
    "t1 = torch.FloatTensor(3,10,2).uniform_(-2,10)\n",
    "t2 = torch.FloatTensor(123).random_(13,20)\n",
    "t3 = torch.FloatTensor(8,1024).normal_(23,50)"
   ]
  },
  {
   "cell_type": "code",
   "execution_count": 135,
   "id": "f1a6b648",
   "metadata": {},
   "outputs": [],
   "source": [
    "# 9\n",
    "import torch\n",
    "\n",
    "t = torch.empty(128).fill_(13)\n",
    "t2 = t.view(8, 16)\n",
    "t3 = t.view(-1, 32)\n",
    "t4 = t.reshape(2, 4, 16)\n",
    "t.resize_(16, 4)\n",
    "\n",
    "t[0, 0] = 5"
   ]
  },
  {
   "cell_type": "code",
   "execution_count": null,
   "id": "a8db388f",
   "metadata": {},
   "outputs": [
    {
     "data": {
      "text/plain": [
       "torch.Size([2, 32])"
      ]
     },
     "execution_count": 148,
     "metadata": {},
     "output_type": "execute_result"
    }
   ],
   "source": [
    "# 10\n",
    "t_indx = torch.linspace(1, 64, 64,dtype=torch.int64).view(2,-1)\n",
    "\n",
    "# или\n",
    "t_indx = torch.arange(1, 65, 1,dtype=torch.int64).view(2,-1)\n",
    "\n",
    "t_indx.shape"
   ]
  },
  {
   "cell_type": "code",
   "execution_count": 162,
   "id": "5ba38d92",
   "metadata": {},
   "outputs": [],
   "source": [
    "# 11\n",
    "tr = torch.arange(-10,9,2 ,dtype=torch.int32).view(5,2)\n",
    "tr_r = tr.mT"
   ]
  },
  {
   "cell_type": "code",
   "execution_count": 167,
   "id": "c14c53ac",
   "metadata": {},
   "outputs": [
    {
     "data": {
      "text/plain": [
       "torch.Size([10, 7])"
      ]
     },
     "execution_count": 167,
     "metadata": {},
     "output_type": "execute_result"
    }
   ],
   "source": [
    "# 13\n",
    "t1 = torch.empty(3, 2, 10).fill_(5)\n",
    "t2 = torch.empty(1, 10, 1, 7, 1).fill_(-1)\n",
    "\n",
    "t1.unsqueeze_(0)\n",
    "t2.squeeze_()\n",
    "t2.shape"
   ]
  }
 ],
 "metadata": {
  "kernelspec": {
   "display_name": "dl",
   "language": "python",
   "name": "python3"
  },
  "language_info": {
   "codemirror_mode": {
    "name": "ipython",
    "version": 3
   },
   "file_extension": ".py",
   "mimetype": "text/x-python",
   "name": "python",
   "nbconvert_exporter": "python",
   "pygments_lexer": "ipython3",
   "version": "3.13.7"
  }
 },
 "nbformat": 4,
 "nbformat_minor": 5
}
