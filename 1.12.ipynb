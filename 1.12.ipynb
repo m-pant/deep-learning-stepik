{
 "cells": [
  {
   "cell_type": "code",
   "execution_count": null,
   "id": "2141dd43",
   "metadata": {},
   "outputs": [],
   "source": [
    "# 5\n",
    "import numpy as np\n",
    "\n",
    "def func(x):\n",
    "    return 0.5 * x + 0.2 * x ** 2 - 0.1 * x ** 3\n",
    "\n",
    "\n",
    "def df(x):\n",
    "    return 0.5 + 0.4 * x - 0.3 * x * x # здесь выражение производной функции f(x)\n",
    "\n",
    "\n",
    "# здесь продолжайте программу\n",
    "n = 0.01\n",
    "xx = -4\n",
    "N = 200\n",
    "\n",
    "for i in range(200):\n",
    "    xx = xx - n * df(xx)\n",
    "\n",
    "x = xx"
   ]
  },
  {
   "cell_type": "code",
   "execution_count": 3,
   "id": "98ea1b70",
   "metadata": {},
   "outputs": [],
   "source": [
    "# 6 \n",
    "import torch\n",
    "\n",
    "# исходная функция, которую нужно аппроксимировать моделью a(x)\n",
    "def func(x):\n",
    "    return 0.1 * x**2 - torch.sin(x) + 5.\n",
    "\n",
    "\n",
    "coord_x = torch.arange(-5.0, 5.0, 0.1) # значения по оси абсцисс [-5; 5] с шагом 0.1\n",
    "coord_y = func(coord_x) # значения функции по оси ординат\n",
    "\n",
    "sz = coord_x.size(0)\t# количество значений функций (точек)\n",
    "eta = torch.tensor([0.1, 0.01, 0.001, 0.0001]) # шаг обучения для каждого параметра w0, w1, w2, w3\n",
    "w = torch.zeros(4, dtype=torch.float32) # начальные значения параметров модели\n",
    "N = 200 # число итераций градиентного алгоритма\n",
    "\n",
    "# здесь продолжайте программу\n",
    "powers =  [coord_x**i for i in range(1,4)]\n",
    "S = torch.stack([torch.ones(sz)] + powers, dim=1)\n",
    "\n",
    "for i in range(N):\n",
    "    pred = S @ w\n",
    "    Q = torch.mean( (pred - coord_y)**2 )\n",
    "    dQ =  (2*(pred - coord_y) * S.t()).mean(1)\n",
    "    w = w - eta*dQ\n",
    "Q = ((pred - coord_y)**2).mean().item()"
   ]
  }
 ],
 "metadata": {
  "kernelspec": {
   "display_name": "dl",
   "language": "python",
   "name": "python3"
  },
  "language_info": {
   "codemirror_mode": {
    "name": "ipython",
    "version": 3
   },
   "file_extension": ".py",
   "mimetype": "text/x-python",
   "name": "python",
   "nbconvert_exporter": "python",
   "pygments_lexer": "ipython3",
   "version": "3.13.7"
  }
 },
 "nbformat": 4,
 "nbformat_minor": 5
}
