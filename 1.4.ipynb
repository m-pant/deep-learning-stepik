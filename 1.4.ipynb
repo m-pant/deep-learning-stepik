{
 "cells": [
  {
   "cell_type": "code",
   "execution_count": 4,
   "id": "b8d1b9eb",
   "metadata": {},
   "outputs": [],
   "source": [
    "# 3\n",
    "import torch\n",
    "\n",
    "t = torch.rand((7, 30, 24), dtype=torch.float32) "
   ]
  },
  {
   "cell_type": "code",
   "execution_count": 5,
   "id": "da2828ca",
   "metadata": {},
   "outputs": [],
   "source": [
    "# 4\n",
    "import torch\n",
    "\n",
    "table = torch.tensor( [[1,4],[2,5],[3,6]], dtype=torch.int32)"
   ]
  },
  {
   "cell_type": "code",
   "execution_count": 22,
   "id": "cef6ad6f",
   "metadata": {},
   "outputs": [],
   "source": [
    "# 6\n",
    "import torch\n",
    "\n",
    "import numpy as np\n",
    "\n",
    "A = np.array([[0.2, -1.2, 1.2],\n",
    "              [-1.0, -2.0, 1.0],\n",
    "              [0.5, 0.2, -0.1]])\n",
    "\n",
    "B = np.array([[-1.0, 2.1, 0.1],\n",
    "              [0.9, 0.8, -2.0],\n",
    "              [1.5, -2.0, 0.1]])\n",
    "\n",
    "tr_np = np.array([A,B])\n",
    "\n",
    "tr = torch.tensor(tr_np, dtype=torch.float32)\n"
   ]
  },
  {
   "cell_type": "code",
   "execution_count": 23,
   "id": "861f582a",
   "metadata": {},
   "outputs": [],
   "source": [
    "# 9\n",
    "import torch\n",
    "\n",
    "lst = list(map(int, input().split())) # список в программе не менять\n",
    "\n",
    "tnsr = torch.tensor(lst, dtype=torch.float32)"
   ]
  },
  {
   "cell_type": "code",
   "execution_count": null,
   "id": "a1006fde",
   "metadata": {},
   "outputs": [
    {
     "name": "stdout",
     "output_type": "stream",
     "text": [
      "torch.Size([2, 3])\n"
     ]
    }
   ],
   "source": [
    "# 10\n",
    "import torch\n",
    "\n",
    "lst = list(map(int, input().split())) # список в программе не менять\n",
    "\n",
    "t_indx = torch.tensor(lst, dtype=torch.int64)\n",
    "\n",
    "t_indx = t_indx.reshape(2,3)"
   ]
  }
 ],
 "metadata": {
  "kernelspec": {
   "display_name": "torch",
   "language": "python",
   "name": "python3"
  },
  "language_info": {
   "codemirror_mode": {
    "name": "ipython",
    "version": 3
   },
   "file_extension": ".py",
   "mimetype": "text/x-python",
   "name": "python",
   "nbconvert_exporter": "python",
   "pygments_lexer": "ipython3",
   "version": "3.12.11"
  }
 },
 "nbformat": 4,
 "nbformat_minor": 5
}
