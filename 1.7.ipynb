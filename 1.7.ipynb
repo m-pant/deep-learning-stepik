{
 "cells": [
  {
   "cell_type": "code",
   "execution_count": 1,
   "id": "9f94149f",
   "metadata": {},
   "outputs": [],
   "source": [
    "import torch\n"
   ]
  },
  {
   "cell_type": "code",
   "execution_count": null,
   "id": "d9ce53ba",
   "metadata": {},
   "outputs": [
    {
     "data": {
      "text/plain": [
       "tensor([ 6,  8, 10, 12], dtype=torch.int32)"
      ]
     },
     "execution_count": 2,
     "metadata": {},
     "output_type": "execute_result"
    }
   ],
   "source": [
    "# Elementwise operations\n",
    "a = torch.IntTensor([1,2,3,4])\n",
    "b = torch.IntTensor([5,6,7,8])\n",
    "\n",
    "a+b"
   ]
  },
  {
   "cell_type": "code",
   "execution_count": null,
   "id": "27dad086",
   "metadata": {},
   "outputs": [
    {
     "data": {
      "text/plain": [
       "tensor([[2., 3., 4., 5.],\n",
       "        [2., 3., 4., 5.]])"
      ]
     },
     "execution_count": 7,
     "metadata": {},
     "output_type": "execute_result"
    }
   ],
   "source": [
    "# Translating tensors\n",
    "c = torch.ones(2,4)\n",
    "a+c"
   ]
  },
  {
   "cell_type": "code",
   "execution_count": 9,
   "id": "1e919b9c",
   "metadata": {},
   "outputs": [
    {
     "data": {
      "text/plain": [
       "tensor([15.0000, 16.2500, 17.5000, 18.7500, 20.0000, 21.2500, 22.5000, 23.7500,\n",
       "        25.0000, 26.2500, 27.5000, 28.7500, 30.0000, 31.2500])"
      ]
     },
     "execution_count": 9,
     "metadata": {},
     "output_type": "execute_result"
    }
   ],
   "source": [
    "# 1 \n",
    "tr = torch.arange(-5,2.0,0.5, dtype=torch.float32)\n",
    "tr.add_(11).mul_(2.5)\n",
    "tr"
   ]
  },
  {
   "cell_type": "code",
   "execution_count": 16,
   "id": "ee068df7",
   "metadata": {},
   "outputs": [
    {
     "name": "stdout",
     "output_type": "stream",
     "text": [
      "tensor([0, 0, 1, 0, 0, 1, 0, 1], dtype=torch.int32)\n",
      "tensor([ 2,  6,  2, 10,  9,  6,  6,  9, 10,  5,  9,  2], dtype=torch.int32)\n"
     ]
    }
   ],
   "source": [
    "# 2\n",
    "inp = \"2 6 2 10 9 6 6 9 10 5 9 2\"\n",
    "lst = list(map(int, inp.split()))\n",
    "\n",
    "tr = torch.tensor(lst, dtype=torch.int32)\n",
    "\n",
    "tr_res = tr[tr>5]%2\n",
    "# or\n",
    "tr_res = tr[tr>5].fmod(2)\n",
    "\n",
    "\n",
    "\n",
    "print(tr_res)\n",
    "print(tr)"
   ]
  },
  {
   "cell_type": "markdown",
   "id": "527fafd1",
   "metadata": {},
   "source": []
  },
  {
   "cell_type": "code",
   "execution_count": null,
   "id": "6b1dba7d",
   "metadata": {},
   "outputs": [
    {
     "data": {
      "text/plain": [
       "tensor([   36,     1,    16,  -125,     1, 32768,    16,    14,  -125,    10],\n",
       "       dtype=torch.int32)"
      ]
     },
     "execution_count": 30,
     "metadata": {},
     "output_type": "execute_result"
    }
   ],
   "source": [
    "# 3\n",
    "\n",
    "lst_1 = list(map(int, \"6 -1 -4 -5 1 8 -4 14 -5 10 9 18 12 18 11\".split()))\n",
    "lst_2 = list(map(int, \"2 2 2 3 4 5 2 1 3 1\".split()))\n",
    "\n",
    "tr_1 = torch.tensor(lst_1,dtype=torch.int32)\n",
    "tr_2 = torch.tensor(lst_2,dtype=torch.int32)\n",
    "\n",
    "# sz = min(len(tr_1), len(tr_2))\n",
    "# tr_1[:sz].pow_(tr_2[:sz])\n",
    "# tr_1.resize_(sz)\n",
    "\n",
    "# or\n",
    "sz = min(tr_1.numel(), tr_2.numel())\n",
    "tr_1[:sz].pow_(tr_2[:sz])\n",
    "tr_1.resize_(sz)"
   ]
  },
  {
   "cell_type": "code",
   "execution_count": 1,
   "id": "f779df9a",
   "metadata": {},
   "outputs": [
    {
     "name": "stdout",
     "output_type": "stream",
     "text": [
      "0.8 5.0 -1.3 0.7 1.5 1.3 4.0 3.6 -0.2 4.6 -3.4 -3.3 4.9 2.6 3.9 0.5\n"
     ]
    },
    {
     "data": {
      "text/plain": [
       "torch.float32"
      ]
     },
     "execution_count": 1,
     "metadata": {},
     "output_type": "execute_result"
    }
   ],
   "source": [
    "#4\n",
    "import torch\n",
    "lst = list(map(float, \"0.8 -5.0 -1.3 -0.7 1.5 -1.3 4.0 -3.6 -0.2 -4.6 -3.4 3.3 4.9 -2.6 3.9 -0.5\".split())) # список lst в программе не менять\n",
    "\n",
    "t_mask = torch.ones(len(lst),dtype=torch.int8)\n",
    "t_mask[1::2]*=-1\n",
    "\n",
    "tr = torch.Tensor(lst)\n",
    "tr*=t_mask.to(dtype=torch.float32)\n",
    "print(*tr.numpy())\n",
    "tr.dtype\n"
   ]
  },
  {
   "cell_type": "code",
   "execution_count": 7,
   "id": "ef02e3a8",
   "metadata": {},
   "outputs": [],
   "source": [
    "import torch\n",
    "\n",
    "t1 = torch.arange(1, 16, dtype=torch.int32).view(-1, 3)\n",
    "t2 = torch.rand(3)\n",
    "t3 = torch.randint(1, 10, (4, ), dtype=torch.int32)\n",
    "\n",
    "res_1 = t1 + t2\n",
    "res_2 = t2 * t1\n",
    "# res_3 = t1 // t3\n",
    "# t1 *= t2\n",
    "t2 -= t3[:3]"
   ]
  },
  {
   "cell_type": "code",
   "execution_count": 8,
   "id": "7c5ed5f4",
   "metadata": {},
   "outputs": [],
   "source": [
    "import torch\n",
    "\n",
    "a = torch.empty(3, 2).normal_(0, 2)\n",
    "b = torch.randn(3)\n",
    "\n",
    "res_1 = a.mT + b\n",
    "res_2 = a.sub_(b[:2])\n",
    "res_2[1, 1] = 100\n",
    "res_3 = a.mT.mul_(b) + 3.0\n",
    "res_3[-1, -1] = 0"
   ]
  },
  {
   "cell_type": "code",
   "execution_count": null,
   "id": "4aefb3cf",
   "metadata": {},
   "outputs": [
    {
     "name": "stdout",
     "output_type": "stream",
     "text": [
      "tensor([76, 72, 18, 78, 44, 88], dtype=torch.int32)\n",
      "tensor([23,  3, 41, 77,  9], dtype=torch.int32)\n"
     ]
    }
   ],
   "source": [
    "# 8\n",
    "lst = list(map(int, \"76 72 1 18 79 78 43 93 44 69 7 88 23 16 64 60 3 74 41 44 77 76 9 22\".split())) # список lst в программе не менять\n",
    "tr = torch.tensor(lst, dtype=torch.int32).view(2,-1)\n",
    "t_even = tr[0,tr[0] % 2 ==0]\n",
    "t_odd = tr[1,tr[1] % 2 !=0]\n",
    "print(t_even)\n",
    "print(t_odd)\n"
   ]
  },
  {
   "cell_type": "code",
   "execution_count": 67,
   "id": "bb7f06b7",
   "metadata": {},
   "outputs": [
    {
     "data": {
      "text/plain": [
       "tensor([19485,     5,    24,    45], dtype=torch.int32)"
      ]
     },
     "execution_count": 67,
     "metadata": {},
     "output_type": "execute_result"
    }
   ],
   "source": [
    "# 9\n",
    "current_tm = int(19485) # переменную current_tm в программе не менять\n",
    "t_time = torch.IntTensor(4).fill_(current_tm)\n",
    "\n",
    "t_time[1]//=3600\n",
    "t_time[2]//=60\n",
    "t_time[2]%=60\n",
    "t_time[3]%=60\n",
    "\n",
    "\n",
    "# hrs = current_tm // 3600\n",
    "# mins = (current_tm // 60) % 60\n",
    "# sec = current_tm % (hrs * 3600 + mins * 60)\n",
    "\n",
    "# t_time[0] = current_tm\n",
    "# t_time[1] = hrs\n",
    "# t_time[2] = mins\n",
    "# t_time[3] = sec\n",
    "\n",
    "# torch.IntTensor(4)\n",
    "t_time"
   ]
  },
  {
   "cell_type": "code",
   "execution_count": null,
   "id": "a8d748ee",
   "metadata": {},
   "outputs": [
    {
     "data": {
      "text/plain": [
       "tensor([[0, 0, 0, 0, 0, 1, 0, 0],\n",
       "        [0, 0, 0, 0, 1, 0, 0, 0],\n",
       "        [0, 0, 1, 0, 0, 0, 0, 0],\n",
       "        [0, 0, 0, 0, 0, 0, 0, 1],\n",
       "        [0, 0, 0, 1, 0, 0, 0, 0]], dtype=torch.int8)"
      ]
     },
     "execution_count": 94,
     "metadata": {},
     "output_type": "execute_result"
    }
   ],
   "source": [
    "# 10\n",
    "lst = list(map(int, \"5 4 2 7 3\".split()))\n",
    "\n",
    "targets = torch.tensor(lst, dtype=torch.int32)\n",
    "t_onehot = torch.zeros(targets.numel(),max(targets).item()+1,dtype=torch.int8)\n",
    "\n",
    "for i, val in enumerate(targets):\n",
    "    t_onehot[i,val] =1\n",
    "\n",
    "# or\n",
    "t_onehot[torch.arange(targets.numel()), lst] = 1\n",
    "\n",
    "t_onehot"
   ]
  },
  {
   "cell_type": "code",
   "execution_count": null,
   "id": "bf8a2707",
   "metadata": {},
   "outputs": [
    {
     "data": {
      "text/plain": [
       "torch.Size([5, 7])"
      ]
     },
     "execution_count": 75,
     "metadata": {},
     "output_type": "execute_result"
    }
   ],
   "source": []
  },
  {
   "cell_type": "code",
   "execution_count": null,
   "id": "8839c863",
   "metadata": {},
   "outputs": [],
   "source": []
  }
 ],
 "metadata": {
  "kernelspec": {
   "display_name": "dl",
   "language": "python",
   "name": "python3"
  },
  "language_info": {
   "codemirror_mode": {
    "name": "ipython",
    "version": 3
   },
   "file_extension": ".py",
   "mimetype": "text/x-python",
   "name": "python",
   "nbconvert_exporter": "python",
   "pygments_lexer": "ipython3",
   "version": "3.13.7"
  }
 },
 "nbformat": 4,
 "nbformat_minor": 5
}
