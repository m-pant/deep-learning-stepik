{
 "cells": [
  {
   "cell_type": "code",
   "execution_count": 13,
   "id": "470f1760",
   "metadata": {},
   "outputs": [],
   "source": [
    "import torch\n",
    "torch.cuda.is_available()\n",
    "\n",
    "device = torch.device(\"cuda\" if torch.cuda.is_available() else \"cpu\")\n",
    "\n",
    "w_out = torch.FloatTensor([1,2,3,4,5])\n",
    "w_out = torch.tensor([1,2,3,4,5],device=device)\n",
    "\n",
    "\n",
    "# Перемещение на GPU\n",
    "w_out.to(device)\n",
    "\n",
    "# Обратное копирование\n",
    "w_out.cpu()\n",
    "\n",
    "# Проверить где\n",
    "w_out.get_device()\n",
    "\n",
    "# Зерно для генератора Cuda\n",
    "torch.cuda.manual_seed(1)\n",
    "\n",
    "# Зерно для всех GPU Cuda\n",
    "torch.cuda.manual_seed_all(1)\n",
    "\n",
    "# Для выдачи одной и той же случайной полседовательности (для отладки)\n",
    "torch.backends.cudnn.deterministic = True\n",
    "torch.backends.cudnn.benchmark = False\n",
    "t1 = w_out.to(\"cuda:0\")\n"
   ]
  },
  {
   "cell_type": "code",
   "execution_count": null,
   "id": "9ab6a3d0",
   "metadata": {},
   "outputs": [
    {
     "data": {
      "text/plain": [
       "tensor([15., 15., 15.])"
      ]
     },
     "execution_count": 16,
     "metadata": {},
     "output_type": "execute_result"
    }
   ],
   "source": [
    "# 4\n",
    "device = torch.device(\"cuda\" if torch.cuda.is_available() else \"cpu\")\n",
    "\n",
    "t1 = torch.arange(1,6,dtype=torch.int32, device=device)\n",
    "t2 = torch.ones(3,5,dtype=torch.float32, device=device)\n",
    "\n",
    "t_res = t2 @ t1.float()\n",
    "t_res.cpu()"
   ]
  },
  {
   "cell_type": "code",
   "execution_count": 22,
   "id": "7c8a03aa",
   "metadata": {},
   "outputs": [],
   "source": [
    "# 5 \n",
    "device = torch.device(\"cuda\" if torch.cuda.is_available() else \"cpu\")\n",
    "targets = torch.rand(1000,device=device)\n",
    "predict = torch.rand(1000,device=device)\n",
    "\n",
    "Q = torch.mean((predict - targets)**2).cpu()"
   ]
  },
  {
   "cell_type": "code",
   "execution_count": 36,
   "id": "80e08d03",
   "metadata": {},
   "outputs": [],
   "source": [
    "# 6 \n",
    "device = torch.device(\"cuda\" if torch.cuda.is_available() else \"cpu\")\n",
    "\n",
    "w = torch.rand(1, 16, device=device) # вектор-строка\n",
    "X = torch.rand(16, 16, device=device) # матрица 16 x 16\n",
    "I = torch.eye(16, device=device) # единичная матрица 16 x 16\n",
    "lm = 0.5 # значение лямбда\n",
    "\n",
    "Q = (w @ (X + I*lm ) @ w.t()).cpu()\n"
   ]
  },
  {
   "cell_type": "code",
   "execution_count": null,
   "id": "d9c793fb",
   "metadata": {},
   "outputs": [],
   "source": [
    "# 7\n",
    "import torch\n",
    "\n",
    "# все эти переменные в программе не менять, только тензоры разместить на device\n",
    "device = torch.device(\"cuda\" if torch.cuda.is_available() else \"cpu\")\n",
    "\n",
    "W = torch.rand(3) * 10 - 5\n",
    "bias = torch.rand(1) * 100 - 50\n",
    "\n",
    "batch_size = 8 # размер мини-батча\n",
    "X = torch.empty(batch_size, 3).normal_(mean=1.0, std=4.0)\n",
    "\n",
    "X = X.to(device)\n",
    "W = W.to(device)\n",
    "bias = bias.to(device)\n",
    "\n",
    "predict = torch.sigmoid(X @ W + bias)\n",
    "predict = predict.cpu()\n"
   ]
  }
 ],
 "metadata": {
  "kernelspec": {
   "display_name": "dl",
   "language": "python",
   "name": "python3"
  },
  "language_info": {
   "codemirror_mode": {
    "name": "ipython",
    "version": 3
   },
   "file_extension": ".py",
   "mimetype": "text/x-python",
   "name": "python",
   "nbconvert_exporter": "python",
   "pygments_lexer": "ipython3",
   "version": "3.13.7"
  }
 },
 "nbformat": 4,
 "nbformat_minor": 5
}
