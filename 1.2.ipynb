{
 "cells": [
  {
   "cell_type": "code",
   "execution_count": 18,
   "id": "a624042a",
   "metadata": {},
   "outputs": [
    {
     "name": "stdout",
     "output_type": "stream",
     "text": [
      "-11.5\n"
     ]
    }
   ],
   "source": [
    "import numpy as np\n",
    "a = \"2 10\" # test #3\n",
    "\n",
    "x = list(map(int, a.split())) # чтение вектора [x1, x2] из входного потока\n",
    "\n",
    "# здесь продолжайте программу\n",
    "W = np.array([[0.5, 0.5, -1]])\n",
    "b = np.array([2.5])\n",
    "\n",
    "xx = np.array([[x[0], x[1], x[0]*x[1]]])\t# входной вектор\n",
    "u = W @ xx.T + b\t\t\t# выходной вектор\n",
    "y = u\n",
    "\n",
    "print(f\"{y.item():.1f}\") # вывод выходного значения y с точностью до десятых"
   ]
  },
  {
   "cell_type": "code",
   "execution_count": 23,
   "id": "770fac50",
   "metadata": {},
   "outputs": [
    {
     "name": "stdout",
     "output_type": "stream",
     "text": [
      "11.50\n"
     ]
    }
   ],
   "source": [
    "import numpy as np\n",
    "\n",
    "a = \"1 2 3\"\n",
    "x = list(map(int, a.split())) # чтение вектора [x1, x2, x3] из входного потока\n",
    "\n",
    "# здесь продолжайте программу\n",
    "W = np.array([[1.5, 1.5, 4, -5]])\n",
    "\n",
    "features = np.array([[x[0], x[1], x[2], 1]])\n",
    "y = W @ features.T\n",
    "\n",
    "print(f\"{y.item():.2f}\") # вывод выходного значения y с точностью до сотых\n"
   ]
  },
  {
   "cell_type": "code",
   "execution_count": 37,
   "id": "db3bebd6",
   "metadata": {},
   "outputs": [
    {
     "name": "stdout",
     "output_type": "stream",
     "text": [
      "1.0\n"
     ]
    }
   ],
   "source": [
    "import numpy as np\n",
    "\n",
    "a = \"0 0 0\"\n",
    "x = list(map(int, a.split())) # чтение вектора [x1, x2, x3] из входного потока\n",
    "\n",
    "W1 = np.array([\n",
    "               [0.3, 0.2, 0.5],\n",
    "               [0.5, -0.1, -0.2]])\n",
    "W2 = np.array([[-1.5, 0.5]])\n",
    "b1 = np.array([[-1.5, 2.0]])\n",
    "b2 = np.array([[-1]])\n",
    "\n",
    "x = np.array([x])\n",
    "\n",
    "# первый слой\n",
    "u = W1 @ x.T + b1.T\n",
    "uu = np.where(u > 0, 1, -1)\n",
    "# второй слой\n",
    "y = W2 @ uu + b2.T\n",
    "\n",
    "print(f\"{y.item():.1f}\")"
   ]
  },
  {
   "cell_type": "code",
   "execution_count": 41,
   "id": "1d88c3e3",
   "metadata": {},
   "outputs": [
    {
     "name": "stdout",
     "output_type": "stream",
     "text": [
      "[[648]]\n"
     ]
    }
   ],
   "source": [
    "import numpy as np\n",
    "\n",
    "a = \"22 13\"\n",
    "x = list(map(int, a.split())) # чтение вектора [x1, x2, x3] из входного потока\n",
    "\n",
    "W = np.array([[1, 1, -5]])\n",
    "\n",
    "features = np.array([[x[0]**2, x[1]**2, 1]])\n",
    "\n",
    "y = W @ features.T\n",
    "print(y)"
   ]
  },
  {
   "cell_type": "code",
   "execution_count": null,
   "id": "8d4d8381",
   "metadata": {},
   "outputs": [],
   "source": [
    "test #1\n",
    "input: 3 -5\n",
    "output: 29.0\n",
    "\n",
    "test #2\n",
    "input: 0 0\n",
    "output: -5.0\n",
    "\n",
    "test #3\n",
    "input: -1 -1\n",
    "output: -3.0\n",
    "\n",
    "test #4\n",
    "input: -1 2\n",
    "output: 0.0\n",
    "\n",
    "test #5\n",
    "input: 2 1\n",
    "output: 0.0\n",
    "\n",
    "test #6\n",
    "input: 22 13\n",
    "output: 648.0"
   ]
  }
 ],
 "metadata": {
  "kernelspec": {
   "display_name": "grock2",
   "language": "python",
   "name": "python3"
  },
  "language_info": {
   "codemirror_mode": {
    "name": "ipython",
    "version": 3
   },
   "file_extension": ".py",
   "mimetype": "text/x-python",
   "name": "python",
   "nbconvert_exporter": "python",
   "pygments_lexer": "ipython3",
   "version": "3.12.11"
  }
 },
 "nbformat": 4,
 "nbformat_minor": 5
}
