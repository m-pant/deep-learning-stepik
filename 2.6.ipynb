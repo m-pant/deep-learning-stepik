{
 "cells": [
  {
   "cell_type": "code",
   "execution_count": 2,
   "id": "9f52b03e",
   "metadata": {},
   "outputs": [
    {
     "name": "stdout",
     "output_type": "stream",
     "text": [
      "torch.Size([10, 54])\n",
      "Parameter containing:\n",
      "tensor([ 0.1008, -0.0802,  0.0481, -0.1066,  0.0273,  0.0524, -0.1193, -0.0109,\n",
      "        -0.0357, -0.0526], requires_grad=True)\n"
     ]
    }
   ],
   "source": [
    "import torch\n",
    "import torch.nn as nn\n",
    "\n",
    "layer = nn.Linear(54, 10)\n",
    "print(layer.weight.shape)\n",
    "print(layer.bias)\n",
    "\n",
    "batch_size = 8\n",
    "x = torch.rand(batch_size, 54)\n",
    "u = layer(x)"
   ]
  },
  {
   "cell_type": "code",
   "execution_count": 26,
   "id": "639e468d",
   "metadata": {},
   "outputs": [
    {
     "name": "stdout",
     "output_type": "stream",
     "text": [
      "51.9\n"
     ]
    }
   ],
   "source": [
    "# 3\n",
    "import torch\n",
    "import torch.nn as nn\n",
    "\n",
    "# тензор x в программе не менять\n",
    "x = torch.tensor(list(map(float, \"-1.6 7.8 3.6 0.1 3.7 5.9 -1.8 10.0 -0.6 -2.8 0.8 0.4 9.5 2.4 4.9 9.6\".split())), dtype=torch.float32)\n",
    "\n",
    "# здесь продолжайте программу\n",
    "layer = nn.Linear(16, 1,bias=False)\n",
    "layer.weight.data = torch.ones_like(layer.weight.data,dtype=torch.float32)\n",
    "u = layer(x).item()\n",
    "print(f\"{u:.1f}\")\n",
    "# layer.weight\n",
    "\n"
   ]
  },
  {
   "cell_type": "code",
   "execution_count": 40,
   "id": "973fb017",
   "metadata": {},
   "outputs": [],
   "source": [
    "# 6\n",
    "import torch\n",
    "import torch.nn as nn\n",
    "import torch.nn.functional as F\n",
    "\n",
    "x = torch.rand(3)\n",
    "class TwoLayerModel(nn.Module):\n",
    "    def __init__(self, n_in, n_hidden, n_out):\n",
    "        super().__init__()\n",
    "        self.layer1 = nn.Linear(n_in, n_hidden)\n",
    "        self.layer2 = nn.Linear(n_hidden, n_out)\n",
    "\n",
    "    def forward(self, x):\n",
    "        x = self.layer1(x)\n",
    "        x = F.sigmoid(x)\n",
    "        x = self.layer2(x)\n",
    "        return x\n",
    "\n",
    "\n",
    "model = TwoLayerModel(3,2,1)\n",
    "model.eval()\n",
    "predict = model(x)"
   ]
  },
  {
   "cell_type": "code",
   "execution_count": 42,
   "id": "43425236",
   "metadata": {},
   "outputs": [],
   "source": [
    "# 8\n",
    "import torch\n",
    "import torch.nn as nn\n",
    "import torch.nn.functional as F\n",
    "\n",
    "batch_size = 4\n",
    "x = torch.rand(batch_size, 32)\n",
    "\n",
    "class ThreeLayersModel(nn.Module):\n",
    "    def __init__(self, n_in, n_first, n_second, n_out):\n",
    "        super().__init__()\n",
    "        self.layer1 = nn.Linear(n_in, n_first)\n",
    "        self.layer2 = nn.Linear(n_first, n_second)\n",
    "        self.layer3 = nn.Linear(n_second, n_out)\n",
    "\n",
    "    def forward(self,x):\n",
    "        x = self.layer1(x)\n",
    "        x = F.tanh(x)\n",
    "        x = self.layer2(x)\n",
    "        x = F.tanh(x)\n",
    "        x = self.layer3(x)\n",
    "        x = F.tanh(x)\n",
    "        return(x)\n",
    "\n",
    "model = ThreeLayersModel(32,10,12,1)\n",
    "model.eval()\n",
    "\n",
    "predict = model(x)"
   ]
  },
  {
   "cell_type": "code",
   "execution_count": null,
   "id": "e24336b0",
   "metadata": {},
   "outputs": [],
   "source": [
    "# 9\n",
    "import torch\n",
    "import torch.nn as nn\n",
    "import torch.nn.functional as F\n",
    "class MyModel(nn.Module):\n",
    "    def __init__(self, n_in , n_hid , n_out):\n",
    "        super().__init__()\n",
    "        self.layer1 = nn.Linear(n_in,n_hid)\n",
    "        self.layer2 = nn.Linear(n_hid,n_out)\n",
    "\n",
    "    def forward(self, x):\n",
    "        x = self.layer1(x)\n",
    "        x = F.tanh(x)\n",
    "        x = self.layer2(x)\n",
    "        x = F.sigmoid(x)\n",
    "        return x\n",
    "\n",
    "# тензор x_train в программе не менять\n",
    "x_train = torch.tensor([(5.8, 1.2), (5.6, 1.5), (6.5, 1.5), (6.1, 1.3), (6.4, 1.3), (7.7, 2.0), (6.0, 1.8), (5.6, 1.3), (6.0, 1.6), (5.8, 1.9), (5.7, 2.0), (6.3, 1.5), (6.2, 1.8), (7.7, 2.3), (5.8, 1.2), (6.3, 1.8), (6.0, 1.0), (6.2, 1.3), (5.7, 1.3), (6.3, 1.9), (6.7, 2.5), (5.5, 1.2), (4.9, 1.0), (6.1, 1.4), (6.0, 1.6), (7.2, 2.5), (7.3, 1.8), (6.6, 1.4), (5.6, 2.0), (5.5, 1.0), (6.4, 2.2), (5.6, 1.3), (6.6, 1.3), (6.9, 2.1), (6.8, 2.1), (5.7, 1.3), (7.0, 1.4), (6.1, 1.4), (6.1, 1.8), (6.7, 1.7), (6.0, 1.5), (6.5, 1.8), (6.4, 1.5), (6.9, 1.5), (5.6, 1.3), (6.7, 1.4), (5.8, 1.9), (6.3, 1.3), (6.7, 2.1), (6.2, 2.3), (6.3, 2.4), (6.7, 1.8), (6.4, 2.3), (6.2, 1.5), (6.1, 1.4), (7.1, 2.1), (5.7, 1.0), (6.8, 1.4), (6.8, 2.3), (5.1, 1.1), (4.9, 1.7), (5.9, 1.8), (7.4, 1.9), (6.5, 2.0), (6.7, 1.5), (6.5, 2.0), (5.8, 1.0), (6.4, 2.1), (7.6, 2.1), (5.8, 2.4), (7.7, 2.2), (6.3, 1.5), (5.0, 1.0), (6.3, 1.6), (7.7, 2.3), (6.4, 1.9), (6.5, 2.2), (5.7, 1.2), (6.9, 2.3), (5.7, 1.3), (6.1, 1.2), (5.4, 1.5), (5.2, 1.4), (6.7, 2.3), (7.9, 2.0), (5.6, 1.1), (7.2, 1.8), (5.5, 1.3), (7.2, 1.6), (6.3, 2.5), (6.3, 1.8), (6.7, 2.4), (5.0, 1.0), (6.4, 1.8), (6.9, 2.3), (5.5, 1.3), (5.5, 1.1), (5.9, 1.5), (6.0, 1.5), (5.9, 1.8)])\n",
    "\n",
    "\n",
    "# здесь продолжайте программу\n",
    "predict = []\n",
    "\n",
    "model = MyModel(2,3,1)\n",
    "model.eval()\n",
    "\n",
    "\n",
    "with torch.no_grad():\n",
    "    for x in x_train:\n",
    "        predict.append(model(x).item())\n"
   ]
  },
  {
   "cell_type": "code",
   "execution_count": null,
   "id": "71c907d2",
   "metadata": {},
   "outputs": [],
   "source": []
  }
 ],
 "metadata": {
  "kernelspec": {
   "display_name": "dl",
   "language": "python",
   "name": "python3"
  },
  "language_info": {
   "codemirror_mode": {
    "name": "ipython",
    "version": 3
   },
   "file_extension": ".py",
   "mimetype": "text/x-python",
   "name": "python",
   "nbconvert_exporter": "python",
   "pygments_lexer": "ipython3",
   "version": "3.13.7"
  }
 },
 "nbformat": 4,
 "nbformat_minor": 5
}
