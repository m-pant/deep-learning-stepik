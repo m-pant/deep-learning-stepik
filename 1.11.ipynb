{
 "cells": [
  {
   "cell_type": "code",
   "execution_count": 4,
   "id": "db8ba6ba",
   "metadata": {},
   "outputs": [
    {
     "data": {
      "text/plain": [
       "torch.float32"
      ]
     },
     "execution_count": 4,
     "metadata": {},
     "output_type": "execute_result"
    }
   ],
   "source": [
    "# 1\n",
    "import torch\n",
    "\n",
    "# w\n",
    "x1, y1 = 0, 3\n",
    "x2, y2 = -2, 0\n",
    "\n",
    "delta_x = x2 - x1\n",
    "delta_y = y2 - y1\n",
    "\n",
    "# Ax + By + C = 0\n",
    "A = delta_y\n",
    "B = -delta_x\n",
    "C = delta_x * y1 - delta_y * x1\n",
    "\n",
    "w = torch.tensor([C, A, B],dtype=torch.float32)\n",
    "w.dtype\n"
   ]
  },
  {
   "cell_type": "code",
   "execution_count": null,
   "id": "9a677df2",
   "metadata": {},
   "outputs": [],
   "source": [
    "# 2\n",
    "import torch\n",
    "\n",
    "# Координаты точек на двух прямых\n",
    "x1 = torch.tensor([[-6.0, 0.0], [0.0, 4.0]])  # Точки на верхней прямой\n",
    "x2 = torch.tensor([[0.0, -4.0], [6.0, 0.0]])  # Точки на нижней прямой\n",
    "\n",
    "# Формируем матрицу A и вектор b\n",
    "# Если фиксируем w2 = 1, то матрица A будет содержать только w0 и w1\n",
    "A = torch.tensor([\n",
    "    [[1.0, 1.0], x1[:, 0]],  # уравнение для первой точки двух прямых\n",
    "    [[1.0, 1.0], x2[:, 0]]   # уравнение для второй точки двух прямых\n",
    "]).permute(2, 0, 1)\n",
    "b = torch.stack([-x1[:, 1], -x2[:, 1]])  # Правая часть с учетом фиксированного w2\n",
    "\n",
    "# Решаем систему уравнений для w0 и w1\n",
    "solution = torch.linalg.solve(A, b)\n",
    "\n",
    "# Добавляем фиксированный коэффициент w2 = 1 к решению\n",
    "w0, w1 = solution.t()\n",
    "w2 = torch.tensor([1.0, 1.0])\n",
    "W1 = torch.stack([w0, w1, w2]).t()\n",
    "print(W1)\n",
    "\n",
    "# Веса выходного слоя считать не надо, пояснения в лекции\n",
    "W2 = torch.FloatTensor([-0.5, -1, 1])\n",
    "print(W2)"
   ]
  },
  {
   "cell_type": "code",
   "execution_count": 2,
   "id": "1bd86d54",
   "metadata": {},
   "outputs": [],
   "source": [
    "# 3\n",
    "import torch\n",
    "\n",
    "def act_sigma(x):\n",
    "    \"\"\"\n",
    "    Реализация функции активации для нейронов скрытого слоя.\n",
    "    x - тензор [x1, x2]\n",
    "    Функция должна возвращать тензор типа torch.float32 той же размерности, что и входной тензор x.\n",
    "    \"\"\"\n",
    "\n",
    "\n",
    "\n",
    "def act_u(x):\n",
    "    \"\"\"\n",
    "    Реализация функции активации для нейронов выходного слоя.\n",
    "    x - тензор [x1]\n",
    "    Функция должна возвращать тензор типа torch.float32 той же размерности, что и входной тензор x.\n",
    "    \"\"\"\n",
    "\n",
    "\n",
    "# тензор X в программе не менять\n",
    "batch_size = 16 # количество входных данных\n",
    "inp = \"9.0 -4.5 13.5 4.5 15.0 -15.0 -10.5 -10.5 -3.0 7.5 -4.5 15.0 -3.0 9.0 -1.5 -4.5 -15.0 3.0 -13.5 -7.5 -10.5 -1.5 -10.5 6.0 10.5 9.0 -10.5 -15.0 -15.0 -7.5 -7.5 13.5\"\n",
    "X = torch.tensor(list(map(float, inp.split())), dtype=torch.float32).view(batch_size, 2)\n",
    "\n",
    "# W1 = torch.tensor([(w11, w12), (w21, w22)], dtype=torch.float32)\n",
    "# bias1 = torch.tensor([w10, w20], dtype=torch.float32)\n",
    "# W2 = torch.tensor([w1, w2], dtype=torch.float32)\n",
    "# bias2 = torch.tensor([w0], dtype=torch.float32)\n",
    "\n",
    "\n"
   ]
  },
  {
   "cell_type": "code",
   "execution_count": 2,
   "id": "97c365db",
   "metadata": {},
   "outputs": [],
   "source": [
    "import torch\n",
    "\n",
    "t1 = torch.empty(12, dtype=torch.int32)\n",
    "t2 = torch.arange(-2, 3, dtype=torch.int32)\n",
    "\n",
    "t1[1:5] = t2[:4]\n",
    "res_1 = t1[2:4]\n",
    "res_2 = t2[::2]\n",
    "res_3 = t1[1:]\n",
    "res_4 = t2[-3:-1]"
   ]
  }
 ],
 "metadata": {
  "kernelspec": {
   "display_name": "dl",
   "language": "python",
   "name": "python3"
  },
  "language_info": {
   "codemirror_mode": {
    "name": "ipython",
    "version": 3
   },
   "file_extension": ".py",
   "mimetype": "text/x-python",
   "name": "python",
   "nbconvert_exporter": "python",
   "pygments_lexer": "ipython3",
   "version": "3.13.7"
  }
 },
 "nbformat": 4,
 "nbformat_minor": 5
}
