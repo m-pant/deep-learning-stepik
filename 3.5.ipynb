{
 "cells": [
  {
   "cell_type": "code",
   "execution_count": null,
   "id": "58f02d26",
   "metadata": {},
   "outputs": [],
   "source": [
    "# Neural Style Trnsfer\n",
    "# 7\n",
    "\n",
    "import torch\n",
    "\n",
    "a, b, n = map(float, \"-2 3 10\".split()) # переменные a, b, n в программе не менять"
   ]
  }
 ],
 "metadata": {
  "kernelspec": {
   "display_name": "dl",
   "language": "python",
   "name": "python3"
  },
  "language_info": {
   "name": "python",
   "version": "3.13.7"
  }
 },
 "nbformat": 4,
 "nbformat_minor": 5
}
