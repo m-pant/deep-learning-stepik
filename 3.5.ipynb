{
 "cells": [
  {
   "cell_type": "code",
   "execution_count": 5,
   "id": "58f02d26",
   "metadata": {},
   "outputs": [],
   "source": [
    "# Neural Style Trnsfer\n",
    "# 7\n",
    "\n",
    "import torch\n",
    "\n",
    "a, b, n = map(float, \"-2 3 10\".split()) # переменные a, b, n в программе не менять\n",
    "t_range = torch.linspace(a,b,10)\n",
    "t_out = t_range.sigmoid()\n",
    "t_pred = torch.argmax(t_out).item()"
   ]
  }
 ],
 "metadata": {
  "kernelspec": {
   "display_name": "dl",
   "language": "python",
   "name": "python3"
  },
  "language_info": {
   "codemirror_mode": {
    "name": "ipython",
    "version": 3
   },
   "file_extension": ".py",
   "mimetype": "text/x-python",
   "name": "python",
   "nbconvert_exporter": "python",
   "pygments_lexer": "ipython3",
   "version": "3.13.7"
  }
 },
 "nbformat": 4,
 "nbformat_minor": 5
}
