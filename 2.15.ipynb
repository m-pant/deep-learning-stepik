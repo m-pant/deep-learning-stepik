{
 "cells": [
  {
   "cell_type": "code",
   "execution_count": 1,
   "id": "a0684343",
   "metadata": {},
   "outputs": [
    {
     "name": "stderr",
     "output_type": "stream",
     "text": [
      "<>:51: SyntaxWarning: invalid escape sequence '\\m'\n",
      "<>:51: SyntaxWarning: invalid escape sequence '\\m'\n",
      "C:\\Users\\pantu\\AppData\\Local\\Temp\\ipykernel_52412\\3121453729.py:51: SyntaxWarning: invalid escape sequence '\\m'\n",
      "  dataset_mnist = torchvision.datasets.MNIST(\"datasets\\mnist\", download=True, train=True, transform=transforms)\n"
     ]
    },
    {
     "name": "stdout",
     "output_type": "stream",
     "text": [
      "Using device: cuda\n"
     ]
    },
    {
     "name": "stderr",
     "output_type": "stream",
     "text": [
      "Epoch [1/20], loss_mean=0.265: 100%|██████████| 1313/1313 [00:06<00:00, 188.33it/s]\n"
     ]
    },
    {
     "name": "stdout",
     "output_type": "stream",
     "text": [
      "loss_mean = 0.265, Q_val = 0.185\n"
     ]
    },
    {
     "name": "stderr",
     "output_type": "stream",
     "text": [
      "Epoch [2/20], loss_mean=0.154: 100%|██████████| 1313/1313 [00:08<00:00, 149.83it/s]\n"
     ]
    },
    {
     "name": "stdout",
     "output_type": "stream",
     "text": [
      "loss_mean = 0.154, Q_val = 0.203\n"
     ]
    },
    {
     "name": "stderr",
     "output_type": "stream",
     "text": [
      "Epoch [3/20], loss_mean=0.127: 100%|██████████| 1313/1313 [00:07<00:00, 166.43it/s]\n"
     ]
    },
    {
     "name": "stdout",
     "output_type": "stream",
     "text": [
      "loss_mean = 0.127, Q_val = 0.151\n"
     ]
    },
    {
     "name": "stderr",
     "output_type": "stream",
     "text": [
      "Epoch [4/20], loss_mean=0.111: 100%|██████████| 1313/1313 [00:09<00:00, 137.25it/s]\n"
     ]
    },
    {
     "name": "stdout",
     "output_type": "stream",
     "text": [
      "loss_mean = 0.111, Q_val = 0.150\n"
     ]
    },
    {
     "name": "stderr",
     "output_type": "stream",
     "text": [
      "Epoch [5/20], loss_mean=0.098: 100%|██████████| 1313/1313 [00:08<00:00, 152.38it/s]\n"
     ]
    },
    {
     "name": "stdout",
     "output_type": "stream",
     "text": [
      "loss_mean = 0.098, Q_val = 0.281\n"
     ]
    },
    {
     "name": "stderr",
     "output_type": "stream",
     "text": [
      "Epoch [6/20], loss_mean=0.087: 100%|██████████| 1313/1313 [00:09<00:00, 140.39it/s]\n"
     ]
    },
    {
     "name": "stdout",
     "output_type": "stream",
     "text": [
      "loss_mean = 0.087, Q_val = 0.134\n"
     ]
    },
    {
     "name": "stderr",
     "output_type": "stream",
     "text": [
      "Epoch [7/20], loss_mean=0.082: 100%|██████████| 1313/1313 [00:09<00:00, 138.39it/s]\n"
     ]
    },
    {
     "name": "stdout",
     "output_type": "stream",
     "text": [
      "loss_mean = 0.082, Q_val = 0.119\n"
     ]
    },
    {
     "name": "stderr",
     "output_type": "stream",
     "text": [
      "Epoch [8/20], loss_mean=0.077: 100%|██████████| 1313/1313 [00:09<00:00, 139.09it/s]\n"
     ]
    },
    {
     "name": "stdout",
     "output_type": "stream",
     "text": [
      "loss_mean = 0.077, Q_val = 0.123\n"
     ]
    },
    {
     "name": "stderr",
     "output_type": "stream",
     "text": [
      "Epoch [9/20], loss_mean=0.069: 100%|██████████| 1313/1313 [00:10<00:00, 129.81it/s]\n"
     ]
    },
    {
     "name": "stdout",
     "output_type": "stream",
     "text": [
      "loss_mean = 0.069, Q_val = 0.123\n"
     ]
    },
    {
     "name": "stderr",
     "output_type": "stream",
     "text": [
      "Epoch [10/20], loss_mean=0.065: 100%|██████████| 1313/1313 [00:09<00:00, 140.55it/s]\n"
     ]
    },
    {
     "name": "stdout",
     "output_type": "stream",
     "text": [
      "loss_mean = 0.065, Q_val = 0.103\n"
     ]
    },
    {
     "name": "stderr",
     "output_type": "stream",
     "text": [
      "Epoch [11/20], loss_mean=0.058: 100%|██████████| 1313/1313 [00:09<00:00, 138.22it/s]\n"
     ]
    },
    {
     "name": "stdout",
     "output_type": "stream",
     "text": [
      "loss_mean = 0.058, Q_val = 0.124\n"
     ]
    },
    {
     "name": "stderr",
     "output_type": "stream",
     "text": [
      "Epoch [12/20], loss_mean=0.058: 100%|██████████| 1313/1313 [00:09<00:00, 139.46it/s]\n"
     ]
    },
    {
     "name": "stdout",
     "output_type": "stream",
     "text": [
      "loss_mean = 0.058, Q_val = 0.220\n"
     ]
    },
    {
     "name": "stderr",
     "output_type": "stream",
     "text": [
      "Epoch [13/20], loss_mean=0.059: 100%|██████████| 1313/1313 [00:09<00:00, 139.87it/s]\n"
     ]
    },
    {
     "name": "stdout",
     "output_type": "stream",
     "text": [
      "loss_mean = 0.059, Q_val = 0.134\n"
     ]
    },
    {
     "name": "stderr",
     "output_type": "stream",
     "text": [
      "Epoch [14/20], loss_mean=0.049: 100%|██████████| 1313/1313 [00:09<00:00, 139.21it/s]\n"
     ]
    },
    {
     "name": "stdout",
     "output_type": "stream",
     "text": [
      "loss_mean = 0.049, Q_val = 0.146\n"
     ]
    },
    {
     "name": "stderr",
     "output_type": "stream",
     "text": [
      "Epoch [15/20], loss_mean=0.051: 100%|██████████| 1313/1313 [00:09<00:00, 138.77it/s]\n"
     ]
    },
    {
     "name": "stdout",
     "output_type": "stream",
     "text": [
      "loss_mean = 0.051, Q_val = 0.140\n"
     ]
    },
    {
     "name": "stderr",
     "output_type": "stream",
     "text": [
      "Epoch [16/20], loss_mean=0.055: 100%|██████████| 1313/1313 [00:09<00:00, 139.42it/s]\n"
     ]
    },
    {
     "name": "stdout",
     "output_type": "stream",
     "text": [
      "loss_mean = 0.055, Q_val = 0.209\n"
     ]
    },
    {
     "name": "stderr",
     "output_type": "stream",
     "text": [
      "Epoch [17/20], loss_mean=0.045: 100%|██████████| 1313/1313 [00:08<00:00, 153.32it/s]\n"
     ]
    },
    {
     "name": "stdout",
     "output_type": "stream",
     "text": [
      "loss_mean = 0.045, Q_val = 0.130\n"
     ]
    },
    {
     "name": "stderr",
     "output_type": "stream",
     "text": [
      "Epoch [18/20], loss_mean=0.047: 100%|██████████| 1313/1313 [00:07<00:00, 165.13it/s]\n"
     ]
    },
    {
     "name": "stdout",
     "output_type": "stream",
     "text": [
      "loss_mean = 0.047, Q_val = 0.156\n"
     ]
    },
    {
     "name": "stderr",
     "output_type": "stream",
     "text": [
      "Epoch [19/20], loss_mean=0.042: 100%|██████████| 1313/1313 [00:08<00:00, 156.23it/s]\n"
     ]
    },
    {
     "name": "stdout",
     "output_type": "stream",
     "text": [
      "loss_mean = 0.042, Q_val = 0.144\n"
     ]
    },
    {
     "name": "stderr",
     "output_type": "stream",
     "text": [
      "Epoch [20/20], loss_mean=0.046: 100%|██████████| 1313/1313 [00:07<00:00, 170.34it/s]\n"
     ]
    },
    {
     "name": "stdout",
     "output_type": "stream",
     "text": [
      "loss_mean = 0.046, Q_val = 0.135\n"
     ]
    },
    {
     "name": "stderr",
     "output_type": "stream",
     "text": [
      "100%|██████████| 20/20 [00:02<00:00,  7.62it/s]\n"
     ]
    },
    {
     "name": "stdout",
     "output_type": "stream",
     "text": [
      "Test Accuracy: 0.9720\n"
     ]
    },
    {
     "data": {
      "image/png": "[encoded data removed]",
      "text/plain": [
       "<Figure size 1000x600 with 1 Axes>"
      ]
     },
     "metadata": {},
     "output_type": "display_data"
    },
    {
     "name": "stdout",
     "output_type": "stream",
     "text": [
      "\n",
      "Final Results:\n",
      "Training Loss: 0.0462\n",
      "Validation Loss: 0.1352\n",
      "Test Accuracy: 0.9720\n"
     ]
    }
   ],
   "source": [
    "# MNIST save model p4 (batch normalization)\n",
    "import os\n",
    "os.environ['KMP_DUPLICATE_LIB_OK'] = 'TRUE'\n",
    "import torch\n",
    "import torch.utils.data as data\n",
    "import json\n",
    "from PIL import Image\n",
    "import torchvision.transforms.v2 as tfs\n",
    "import torchvision\n",
    "import torch.nn as nn\n",
    "import torch.optim as optim\n",
    "from tqdm import tqdm\n",
    "from torchvision.datasets import ImageFolder\n",
    "import matplotlib.pyplot as plt\n",
    "\n",
    "# GPU setup\n",
    "device = torch.device('cuda' if torch.cuda.is_available() else 'cpu')\n",
    "print(f\"Using device: {device}\")\n",
    "\n",
    "\n",
    "class RavelTransform(nn.Module):\n",
    "    def forward(self,item):\n",
    "        return item.ravel()\n",
    "\n",
    "\n",
    "class DigitNN(nn.Module):\n",
    "    def __init__(self, input_dim, num_hid, out_dim):\n",
    "        super().__init__()\n",
    "        self.layer1 = nn.Linear(input_dim,num_hid)\n",
    "        self.layer2 = nn.Linear(num_hid, out_dim)\n",
    "        self.bm_1 = nn.BatchNorm1d(num_hid) # Batch normalization\n",
    "\n",
    "    def forward(self,x):\n",
    "        x = self.layer1(x)\n",
    "        x = nn.functional.relu(x)\n",
    "        x = self.bm_1(x)\n",
    "        x = self.layer2(x)\n",
    "        return x\n",
    "\n",
    "model = DigitNN(28 * 28, 128, 10).to(device)  # Move model to GPU\n",
    "\n",
    "\n",
    "# Setting trnsform\n",
    "transforms = tfs.Compose([tfs.ToImage(),\n",
    "                          tfs.Grayscale(), \n",
    "                          tfs.ToDtype(torch.float32, scale=True), # converting to float\n",
    "                          RavelTransform() # or tfs.Lambda(lambda _im: _im.ravel()),\n",
    "                          ])\n",
    "\n",
    "\n",
    "dataset_mnist = torchvision.datasets.MNIST(\"datasets\\mnist\", download=True, train=True, transform=transforms)\n",
    "d_train, d_val = data.random_split(dataset_mnist , [0.7, 0.3])\n",
    "train_data = data.DataLoader(d_train, batch_size=32, shuffle=True)\n",
    "train_data_val = data.DataLoader(d_val, batch_size=32, shuffle=False)\n",
    "\n",
    "optimizer = optim.Adam(params=model.parameters(), lr=0.01)\n",
    "loss_function = nn.CrossEntropyLoss()\n",
    "\n",
    "# Lists to store metrics for plotting\n",
    "train_losses = []\n",
    "val_losses = []\n",
    "\n",
    "ep = 20\n",
    "for _e in range(ep):\n",
    "    model.train()\n",
    "    loss_mean = 0\n",
    "    loss_count = 0\n",
    "    \n",
    "    train_data_tqdm = tqdm(train_data, leave=True)\n",
    "    for x_train_img, y_target in train_data_tqdm:\n",
    "        # Move data to GPU\n",
    "        x_train_img, y_target = x_train_img.to(device), y_target.to(device)\n",
    "        \n",
    "        predict = model(x_train_img)\n",
    "        loss = loss_function(predict, y_target)\n",
    "\n",
    "        optimizer.zero_grad()\n",
    "        loss.backward()\n",
    "        optimizer.step()\n",
    "\n",
    "        loss_count +=1\n",
    "        loss_mean = 1/loss_count * loss.item() + (1 - 1/loss_count) * loss_mean\n",
    "        train_data_tqdm.set_description(f\"Epoch [{_e+1}/{ep}], loss_mean={loss_mean:.3f}\")\n",
    "\n",
    "    train_losses.append(loss_mean)\n",
    "\n",
    "    # Validataion\n",
    "    model.eval()\n",
    "    Q_val = 0\n",
    "    count_val = 0\n",
    "\n",
    "    with torch.no_grad():  # No gradients needed for validation\n",
    "        for x_val_img , y_target_val in train_data_val:\n",
    "            # Move data to GPU\n",
    "            x_val_img, y_target_val = x_val_img.to(device), y_target_val.to(device)\n",
    "            \n",
    "            p = model(x_val_img)\n",
    "            loss = loss_function(p,y_target_val)\n",
    "            Q_val+= loss.item()\n",
    "            count_val +=1\n",
    "    Q_val /= count_val\n",
    "    val_losses.append(Q_val)\n",
    "\n",
    "    print(f\"loss_mean = {loss_mean:.3f}, Q_val = {Q_val:.3f}\")\n",
    "\n",
    "\n",
    "# Test\n",
    "d_test = ImageFolder(\"datasets/MNIST/test\", transform=transforms)\n",
    "test_data = data.DataLoader(d_test , batch_size=500, shuffle=False)\n",
    "Q = 0\n",
    "\n",
    "model.eval()\n",
    "\n",
    "test_tqdm = tqdm(test_data, leave=True)\n",
    "with torch.no_grad():  # No gradients needed for testing\n",
    "    for x_test, y_test in test_tqdm:\n",
    "        # Move data to GPU\n",
    "        x_test, y_test = x_test.to(device), y_test.to(device)\n",
    "        \n",
    "        p = model(x_test) # 500, 10\n",
    "        p = torch.argmax(p, dim=1) # 500,1\n",
    "        Q += torch.sum(p == y_test).item()\n",
    "\n",
    "Q /= len(d_test)\n",
    "print(f\"Test Accuracy: {Q:.4f}\")\n",
    "\n",
    "\n",
    "# Plot training and validation losses\n",
    "plt.figure(figsize=(10, 6))\n",
    "plt.plot(range(1, ep+1), train_losses, marker='o', label='Training Loss', linewidth=2)\n",
    "plt.plot(range(1, ep+1), val_losses, marker='s', label='Validation Loss', linewidth=2)\n",
    "plt.xlabel('Epoch', fontsize=12)\n",
    "plt.ylabel('Loss', fontsize=12)\n",
    "plt.title('Training and Validation Loss Over Epochs', fontsize=14)\n",
    "plt.legend(fontsize=11)\n",
    "plt.grid(True, alpha=0.3)\n",
    "plt.tight_layout()\n",
    "plt.savefig('training_validation_loss.png', dpi=150)\n",
    "plt.show()\n",
    "\n",
    "print(f\"\\nFinal Results:\")\n",
    "print(f\"Training Loss: {train_losses[-1]:.4f}\")\n",
    "print(f\"Validation Loss: {val_losses[-1]:.4f}\")\n",
    "print(f\"Test Accuracy: {Q:.4f}\")"
   ]
  }
 ],
 "metadata": {
  "kernelspec": {
   "display_name": "dl",
   "language": "python",
   "name": "python3"
  },
  "language_info": {
   "codemirror_mode": {
    "name": "ipython",
    "version": 3
   },
   "file_extension": ".py",
   "mimetype": "text/x-python",
   "name": "python",
   "nbconvert_exporter": "python",
   "pygments_lexer": "ipython3",
   "version": "3.13.7"
  }
 },
 "nbformat": 4,
 "nbformat_minor": 5
}
