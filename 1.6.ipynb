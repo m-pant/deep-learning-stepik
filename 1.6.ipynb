{
 "cells": [
  {
   "cell_type": "code",
   "execution_count": 6,
   "id": "b5180a3a",
   "metadata": {},
   "outputs": [
    {
     "data": {
      "text/plain": [
       "tensor([2, 3])"
      ]
     },
     "execution_count": 6,
     "metadata": {},
     "output_type": "execute_result"
    }
   ],
   "source": [
    "import torch\n",
    "\n",
    "a = torch.arange(12)\n",
    "a[0] # возврат тензора\n",
    "a[0].item() # возврат значения\n",
    "\n",
    "a[2:4] # interval"
   ]
  },
  {
   "cell_type": "code",
   "execution_count": null,
   "id": "8b463b13",
   "metadata": {},
   "outputs": [
    {
     "data": {
      "text/plain": [
       "tensor([ 1, 10, 19])"
      ]
     },
     "execution_count": 16,
     "metadata": {},
     "output_type": "execute_result"
    }
   ],
   "source": [
    "# High dim tensors\n",
    "x = torch.arange(27).view(3,-1)\n",
    "x[:,::2] # С шагом 2\n",
    "x[...,1] # Замена полных срезов"
   ]
  },
  {
   "cell_type": "code",
   "execution_count": null,
   "id": "6cbd5244",
   "metadata": {},
   "outputs": [
    {
     "data": {
      "text/plain": [
       "tensor([1, 2, 5, 7])"
      ]
     },
     "execution_count": 21,
     "metadata": {},
     "output_type": "execute_result"
    }
   ],
   "source": [
    "# Списочная индексация\n",
    "a = torch.arange(1,9)\n",
    "b = a[[0,1,4,6]] # создается копия "
   ]
  },
  {
   "cell_type": "code",
   "execution_count": null,
   "id": "79968874",
   "metadata": {},
   "outputs": [
    {
     "data": {
      "text/plain": [
       "tensor([1, 3, 4, 5, 7, 8])"
      ]
     },
     "execution_count": 26,
     "metadata": {},
     "output_type": "execute_result"
    }
   ],
   "source": [
    "indx = torch.IntTensor([0,0,1,1,2,2,2])\n",
    "c = a[indx]\n",
    "\n",
    "indx_bool = torch.BoolTensor([True,False,True,True, True,False,True,True]) # маска\n",
    "d = a[indx_bool]\n",
    "d"
   ]
  },
  {
   "cell_type": "code",
   "execution_count": 32,
   "id": "6dce551f",
   "metadata": {},
   "outputs": [
    {
     "data": {
      "text/plain": [
       "tensor([-1,  1,  2,  3,  4,  5,  6,  7,  8,  9, 10, 11, 12, 13, 14, 15, 16, 17,\n",
       "        18, 19, 20, 21, 22, 23, 24, 25, 26, 27, 28, 29, 30, -1],\n",
       "       dtype=torch.int32)"
      ]
     },
     "execution_count": 32,
     "metadata": {},
     "output_type": "execute_result"
    }
   ],
   "source": [
    "# 1\n",
    "tr = torch.arange(32,dtype=torch.int32)\n",
    "tr[[0,-1]] = -1\n",
    "tr"
   ]
  },
  {
   "cell_type": "code",
   "execution_count": 47,
   "id": "f7402a67",
   "metadata": {},
   "outputs": [
    {
     "name": "stdout",
     "output_type": "stream",
     "text": [
      "1.0\n",
      "1.0\n"
     ]
    }
   ],
   "source": [
    "# 2\n",
    "lst = list(map(float, input().split())) # список в программе не менять\n",
    "tr = torch.FloatTensor(lst)\n",
    "tr_2 = tr[::2]\n",
    "print(*tr_2.numpy())\n",
    "\n",
    "# or\n",
    "print(\" \".join ([str(round(i.item(),1)) for i in tr_2]))"
   ]
  },
  {
   "cell_type": "code",
   "execution_count": 50,
   "id": "d093693a",
   "metadata": {},
   "outputs": [],
   "source": [
    "# 3\n",
    "import torch\n",
    "t1 = torch.empty(12, dtype=torch.int32)\n",
    "t2 = torch.arange(-2, 3, dtype=torch.int32)\n",
    "\n",
    "t1[1:5] = t2[:4]\n",
    "\n",
    "res_1 = t1[2:4]\n",
    "res_2 = t2[::2]\n",
    "res_3 = t1[1:]\n",
    "res_4 = t2[-3:-1]\n"
   ]
  },
  {
   "cell_type": "code",
   "execution_count": 65,
   "id": "52738530",
   "metadata": {},
   "outputs": [
    {
     "name": "stdout",
     "output_type": "stream",
     "text": [
      "0 100 0 100 0 100 0 100 0 100\n"
     ]
    }
   ],
   "source": [
    "# 4\n",
    "tr = torch.IntTensor(10).fill_(0)\n",
    "tr[1::2] = 100\n",
    "print(*tr.tolist())"
   ]
  },
  {
   "cell_type": "code",
   "execution_count": 86,
   "id": "f5da9051",
   "metadata": {},
   "outputs": [
    {
     "name": "stdout",
     "output_type": "stream",
     "text": [
      "1 7 6 5 4 6 7 8 9\n"
     ]
    }
   ],
   "source": [
    "# 5\n",
    "import torch\n",
    "\n",
    "# списки lst_1 и lst_2 в программе не менять\n",
    "lst_1 = [1,2,3,4,5,6,7,8,9]\n",
    "lst_2 = [7,6,5,4]\n",
    "\n",
    "t1 = torch.tensor(lst_1, dtype=torch.int32)\n",
    "t2 = torch.tensor(lst_2, dtype=torch.int32)\n",
    "\n",
    "t1[1:len(lst_2)+1] = t2\n",
    "print(*t1.tolist())"
   ]
  },
  {
   "cell_type": "code",
   "execution_count": null,
   "id": "1df3598f",
   "metadata": {},
   "outputs": [
    {
     "data": {
      "text/plain": [
       "tensor([[ 10,  20,  30,  40],\n",
       "        [ 50,  60,  70,  80],\n",
       "        [ 90, 100, 110, 120]], dtype=torch.int16)"
      ]
     },
     "execution_count": 107,
     "metadata": {},
     "output_type": "execute_result"
    }
   ],
   "source": [
    "# 6\n",
    "t1  = torch.arange(1,13,dtype=torch.int16).view(3,4)\n",
    "t2 = torch.arange(10,130,10,dtype=torch.int16).view(3,4)\n",
    "t3 = torch.arange(-1,-13,-1,dtype=torch.int16).view(3,4)\n",
    "tr3d  = torch.stack((t1,t2,t3))\n",
    "tm = tr3d[1]\n",
    "tm\n"
   ]
  },
  {
   "cell_type": "code",
   "execution_count": null,
   "id": "4b86c691",
   "metadata": {},
   "outputs": [
    {
     "name": "stdout",
     "output_type": "stream",
     "text": [
      "torch.Size([3, 3, 4])\n",
      "torch.Size([3, 4])\n"
     ]
    }
   ],
   "source": [
    "# 7\n",
    "lst = list(map(int, input().split())) # список lst в программе не менять\n",
    "tr3d = torch.tensor(lst,dtype=torch.int16).view(3,3,4)\n",
    "t_res = tr3d[:,[1],:].view(3,4)\n",
    "\n",
    "# Если не создавать копию то\n",
    "lst = list(map(int, input().split())) # список lst в программе не менять\n",
    "tr3d = torch.tensor(lst,dtype=torch.int16).view(3,3,4)\n",
    "t_res = tr3d[:,1,:].view(3,4)\n",
    "\n",
    "print(tr3d.shape)\n",
    "print(t_res.shape)\n"
   ]
  },
  {
   "cell_type": "code",
   "execution_count": 149,
   "id": "9a3de61e",
   "metadata": {},
   "outputs": [],
   "source": [
    "# 8 \n",
    "import torch\n",
    "\n",
    "lst = list(map(int, input().split())) # список lst в программе не менять\n",
    "tr3d = torch.tensor(lst,dtype=torch.int32).view(3,3,4)\n",
    "t_res = tr3d[:,:,1].view(3,3).permute(1,0)\n",
    "\n",
    "# or\n",
    "tr3d = torch.tensor(lst, dtype=torch.int32).view(3, 3, 4)\n",
    "t_res = tr3d[..., 1].permute(1, 0)\n"
   ]
  },
  {
   "cell_type": "code",
   "execution_count": null,
   "id": "b69c0dd6",
   "metadata": {},
   "outputs": [
    {
     "data": {
      "text/plain": [
       "tensor([ 8, 11,  2], dtype=torch.int32)"
      ]
     },
     "execution_count": 152,
     "metadata": {},
     "output_type": "execute_result"
    }
   ],
   "source": [
    "# 9\n",
    "lst = [8, 11, -4, 2, -1, -2, 0, -1]\n",
    "tr  = torch.tensor(lst, dtype=torch.int32)\n",
    "\n",
    "t_pos = tr[tr>0]\n",
    "t_pos\n"
   ]
  },
  {
   "cell_type": "code",
   "execution_count": null,
   "id": "e21dc04c",
   "metadata": {},
   "outputs": [
    {
     "data": {
      "text/plain": [
       "tensor([18, 18,  5, 18, 11], dtype=torch.int32)"
      ]
     },
     "execution_count": 153,
     "metadata": {},
     "output_type": "execute_result"
    }
   ],
   "source": [
    "# 10\n",
    "\n",
    "lst = [11,18,5,7,5,11,1]\n",
    "tr  = torch.tensor(lst, dtype=torch.int32)\n",
    "\n",
    "t_indx = tr[[1,1,2,1,0]]\n",
    "\n"
   ]
  },
  {
   "cell_type": "code",
   "execution_count": 175,
   "id": "e736fa21",
   "metadata": {},
   "outputs": [
    {
     "data": {
      "text/plain": [
       "tensor([-1,  2,  1, -1,  2, -2, -1], dtype=torch.int32)"
      ]
     },
     "execution_count": 175,
     "metadata": {},
     "output_type": "execute_result"
    }
   ],
   "source": [
    "# 11\n",
    "lst = [-1,2,-4,5,1,5,-1,2,3,3,5,-2,-3,-5,-3,-1]\n",
    "tr  = torch.tensor(lst, dtype=torch.int32)\n",
    "mask = (tr>=-2) & (tr<=2)\n",
    "t_res = tr[mask]\n",
    "t_res\n"
   ]
  }
 ],
 "metadata": {
  "kernelspec": {
   "display_name": "dl",
   "language": "python",
   "name": "python3"
  },
  "language_info": {
   "codemirror_mode": {
    "name": "ipython",
    "version": 3
   },
   "file_extension": ".py",
   "mimetype": "text/x-python",
   "name": "python",
   "nbconvert_exporter": "python",
   "pygments_lexer": "ipython3",
   "version": "3.13.7"
  }
 },
 "nbformat": 4,
 "nbformat_minor": 5
}
