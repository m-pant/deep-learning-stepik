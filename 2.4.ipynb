{
 "cells": [
  {
   "cell_type": "code",
   "execution_count": 2,
   "id": "538c3d93",
   "metadata": {},
   "outputs": [
    {
     "name": "stdout",
     "output_type": "stream",
     "text": [
      "tensor([-12.], grad_fn=<AddBackward0>)\n",
      "tensor([2.]) tensor([-12.])\n",
      "tensor([-4.]) tensor([0.])\n"
     ]
    }
   ],
   "source": [
    "import torch\n",
    "\n",
    "x = torch.tensor([2.0] , requires_grad=True) # добавление узов за вычисление производных\n",
    "y = torch.tensor([-4.0], requires_grad=True)\n",
    "\n",
    "f = (x+y) ** 2 + 2*x*y\n",
    "f.backward()\n",
    "\n",
    "print(f)\n",
    "\n",
    "print(x.data, x.grad)\n",
    "print(y.data, y.grad)\n"
   ]
  },
  {
   "cell_type": "code",
   "execution_count": null,
   "id": "d6c1c06b",
   "metadata": {},
   "outputs": [
    {
     "name": "stdout",
     "output_type": "stream",
     "text": [
      "tensor([32.])\n"
     ]
    }
   ],
   "source": [
    "# 4\n",
    "import torch\n",
    "\n",
    "d = 4.5\n",
    "t = torch.tensor([d],requires_grad=True)\n",
    "f = 3*t*t + 5*t - 2\n",
    "\n",
    "f.backward()\n",
    "print(t.grad)"
   ]
  },
  {
   "cell_type": "code",
   "execution_count": null,
   "id": "3b5378a5",
   "metadata": {},
   "outputs": [
    {
     "name": "stdout",
     "output_type": "stream",
     "text": [
      "tensor([-107.9500])\n"
     ]
    }
   ],
   "source": [
    "# 5\n",
    "import torch\n",
    "\n",
    "g = 8.5\n",
    "d = 12.7\n",
    "\n",
    "g_tensor = torch.tensor([g], requires_grad=True)\n",
    "t = torch.tensor([d], requires_grad=True)\n",
    "\n",
    "f = - (g_tensor * t*t)/2 + g * torch.exp(-t) + 1.5\n",
    "f.backward()\n",
    "print(t.grad)\n",
    "\n",
    "\n"
   ]
  },
  {
   "cell_type": "code",
   "execution_count": null,
   "id": "406f4122",
   "metadata": {},
   "outputs": [],
   "source": [
    "# 6 \n",
    "\n",
    "import torch\n",
    "\n",
    "xx = float(2.5) # значение xx в программе не менять\n",
    "x = torch.tensor(xx, dtype=torch.float32)\n",
    "\n",
    "x0, x1, x2, x3 = map(float, \"0.12 0.5 -2.3 0.1\".split()) # переменные x0, x1, x2, x3 в программе не менять\n",
    "\n",
    "w0 = torch.tensor(x0, dtype=torch.float32, requires_grad=True)\n",
    "w1 = torch.tensor(x1, dtype=torch.float32, requires_grad=True)\n",
    "w2 = torch.tensor(x2, dtype=torch.float32, requires_grad=True)\n",
    "w3 = torch.tensor(x3, dtype=torch.float32, requires_grad=True)\n",
    "\n",
    "def fx(x):\n",
    "    return torch.tensor([0.5 * x *x - 2 * x - 5], dtype=torch.float32, requires_grad=True)\n",
    "\n",
    "\n",
    "appr = w0 + x1 * w1 + w2 *x2 **2  + w3*x3**3\n",
    "L = (appr - fx(x))**2\n",
    "L.backward()\n",
    "\n"
   ]
  },
  {
   "cell_type": "code",
   "execution_count": 7,
   "id": "acb9a396",
   "metadata": {},
   "outputs": [],
   "source": [
    "# 7\n",
    "import torch\n",
    "\n",
    "x0, x1, x2, x3 = map(float, \"0.12 0.5 -2.3 0.1\".split()) # переменные x0, x1, x2, x3 в программе не менять\n",
    "\n",
    "coords_x = torch.arange(-4, 6, 0.1) # точки интервала [-4; 6) с шагом 0.1 (тензор в программе не менять)\n",
    "\n",
    "w0 = torch.tensor(x0, dtype=torch.float32, requires_grad=True)\n",
    "w1 = torch.tensor(x1, dtype=torch.float32, requires_grad=True)\n",
    "w2 = torch.tensor(x2, dtype=torch.float32, requires_grad=True)\n",
    "w3 = torch.tensor(x3, dtype=torch.float32, requires_grad=True)\n",
    "\n",
    "def fx(x):\n",
    "    return -0.7 *x - 0.2 *x**2 + 0.05 *x**3 - 0.2 * torch.cos(3 * x) + 2\n",
    "\n",
    "pred = w0 + w1 * coords_x + w2 * coords_x**2 + w3 * coords_x**3\n",
    "Q = torch.mean((pred - fx(coords_x))**2)\n",
    "Q.backward()\n"
   ]
  }
 ],
 "metadata": {
  "kernelspec": {
   "display_name": "dl",
   "language": "python",
   "name": "python3"
  },
  "language_info": {
   "codemirror_mode": {
    "name": "ipython",
    "version": 3
   },
   "file_extension": ".py",
   "mimetype": "text/x-python",
   "name": "python",
   "nbconvert_exporter": "python",
   "pygments_lexer": "ipython3",
   "version": "3.13.7"
  }
 },
 "nbformat": 4,
 "nbformat_minor": 5
}
