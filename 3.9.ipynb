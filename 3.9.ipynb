{
 "cells": [
  {
   "cell_type": "code",
   "execution_count": 3,
   "id": "86917168",
   "metadata": {},
   "outputs": [],
   "source": [
    "# 1 \n",
    "import torch\n",
    "import torch.nn as nn\n",
    "from torchvision import models\n",
    "\n",
    "x = torch.rand(3, 224, 224) # тензор x в программе не менять\n",
    "\n",
    "# здесь продолжайте программу (в том числе и создавайте модель)\n",
    "\n",
    "# resnet_weigths = models.ResNet18_Weights.DEFAULT \n",
    "model = models.resnet18()\n",
    "\n",
    "model.eval()\n",
    "out = model(x.unsqueeze(0))\n"
   ]
  },
  {
   "cell_type": "code",
   "execution_count": null,
   "id": "81c69170",
   "metadata": {},
   "outputs": [
    {
     "name": "stdout",
     "output_type": "stream",
     "text": [
      "cock\n"
     ]
    }
   ],
   "source": [
    "# 2\n",
    "import torch\n",
    "from torchvision import models\n",
    "\n",
    "# здесь продолжайте программу\n",
    "resnet_weigths = models.ResNet50_Weights.DEFAULT\n",
    "cats  = resnet_weigths.meta['categories']\n",
    "print(cats[7])"
   ]
  },
  {
   "cell_type": "code",
   "execution_count": 8,
   "id": "d7443801",
   "metadata": {},
   "outputs": [],
   "source": [
    "# 3\n",
    "import torch\n",
    "from torchvision import models\n",
    "import torchvision.transforms.functional as TF\n",
    "\n",
    "# тензор x и img_pil в программе не менять\n",
    "x = torch.randint(0, 255, (3, 128, 128), dtype=torch.float32) \n",
    "img_pil = TF.to_pil_image(x)\n",
    "\n",
    "# здесь продолжайте программу\n",
    "resnet_weigths = models.ResNet50_Weights.DEFAULT\n",
    "transforms = resnet_weigths.transforms()\n",
    "inp_img = transforms(img_pil)\n"
   ]
  },
  {
   "cell_type": "code",
   "execution_count": null,
   "id": "035a6493",
   "metadata": {},
   "outputs": [
    {
     "ename": "NameError",
     "evalue": "name 'cats' is not defined",
     "output_type": "error",
     "traceback": [
      "\u001b[31m---------------------------------------------------------------------------\u001b[39m",
      "\u001b[31mNameError\u001b[39m                                 Traceback (most recent call last)",
      "\u001b[36mCell\u001b[39m\u001b[36m \u001b[39m\u001b[32mIn[1]\u001b[39m\u001b[32m, line 21\u001b[39m\n\u001b[32m     19\u001b[39m res = results.softmax(dim=\u001b[32m0\u001b[39m).sort(descending=\u001b[38;5;28;01mTrue\u001b[39;00m)\n\u001b[32m     20\u001b[39m \u001b[38;5;28;01mfor\u001b[39;00m i \u001b[38;5;129;01min\u001b[39;00m res[\u001b[32m1\u001b[39m][:\u001b[32m4\u001b[39m]:\n\u001b[32m---> \u001b[39m\u001b[32m21\u001b[39m     \u001b[38;5;28mprint\u001b[39m(\u001b[43mcats\u001b[49m[i])\n",
      "\u001b[31mNameError\u001b[39m: name 'cats' is not defined"
     ]
    }
   ],
   "source": [
    "# 4\n",
    "import torch\n",
    "from torchvision import models\n",
    "import torchvision.transforms.functional as TF\n",
    "\n",
    "# тензор x и img_pil в программе не менять\n",
    "x = torch.randint(0, 255, (3, 128, 128), dtype=torch.float32)  \n",
    "img_pil = TF.to_pil_image(x)\n",
    "\n",
    "# здесь продолжайте программу\n",
    "model = models.resnet18()\n",
    "resnet_weigths = models.ResNet50_Weights.DEFAULT\n",
    "cats = resnet_weights.meta['categories']\n",
    "transforms = resnet_weigths.transforms()\n",
    "inp_img = transforms(img_pil)\n",
    "\n",
    "model.eval()\n",
    "results = model(inp_img.unsqueeze(0)).squeeze()\n",
    "\n",
    "res = results.softmax(dim=0).sort(descending=True)\n",
    "for i in res[1][:4]:\n",
    "    print(cats[i])"
   ]
  },
  {
   "cell_type": "code",
   "execution_count": null,
   "id": "d554eff5",
   "metadata": {},
   "outputs": [],
   "source": []
  }
 ],
 "metadata": {
  "kernelspec": {
   "display_name": "dl",
   "language": "python",
   "name": "python3"
  },
  "language_info": {
   "codemirror_mode": {
    "name": "ipython",
    "version": 3
   },
   "file_extension": ".py",
   "mimetype": "text/x-python",
   "name": "python",
   "nbconvert_exporter": "python",
   "pygments_lexer": "ipython3",
   "version": "3.13.7"
  }
 },
 "nbformat": 4,
 "nbformat_minor": 5
}
